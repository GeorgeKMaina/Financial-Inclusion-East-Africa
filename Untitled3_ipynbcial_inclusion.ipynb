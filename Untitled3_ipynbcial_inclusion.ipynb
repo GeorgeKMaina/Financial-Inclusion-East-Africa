{
  "nbformat": 4,
  "nbformat_minor": 0,
  "metadata": {
    "colab": {
      "name": "Untitled3.ipynbcial inclusion",
      "provenance": [],
      "collapsed_sections": [],
      "toc_visible": true,
      "authorship_tag": "ABX9TyNcRjLF1nTzBs7ELukOLOlJ",
      "include_colab_link": true
    },
    "kernelspec": {
      "name": "python3",
      "display_name": "Python 3"
    },
    "language_info": {
      "name": "python"
    }
  },
  "cells": [
    {
      "cell_type": "markdown",
      "metadata": {
        "id": "view-in-github",
        "colab_type": "text"
      },
      "source": [
        "<a href=\"https://colab.research.google.com/github/GeorgeKMaina/Financial-Inclusion-East-Africa/blob/main/Untitled3_ipynbcial_inclusion.ipynb\" target=\"_parent\"><img src=\"https://colab.research.google.com/assets/colab-badge.svg\" alt=\"Open In Colab\"/></a>"
      ]
    },
    {
      "cell_type": "markdown",
      "metadata": {
        "id": "JFFVylWzIev2"
      },
      "source": [
        "# Defining the question"
      ]
    },
    {
      "cell_type": "markdown",
      "metadata": {
        "id": "yMey81JCIhm-"
      },
      "source": [
        "#### a) Specyfying the Data Analytic Question"
      ]
    },
    {
      "cell_type": "markdown",
      "metadata": {
        "id": "CHjRcnN25RTW"
      },
      "source": [
        "What demographic factors can be used to establish whether an individual has acess to bank services "
      ]
    },
    {
      "cell_type": "markdown",
      "metadata": {
        "id": "gt6n1s3ZIu3t"
      },
      "source": [
        "#### b) Metric of success"
      ]
    },
    {
      "cell_type": "markdown",
      "metadata": {
        "id": "emaBGn6v5dr7"
      },
      "source": [
        "To identify the features that can help know whether an individual has acess to bank services"
      ]
    },
    {
      "cell_type": "markdown",
      "metadata": {
        "id": "JJ0I7UjgIsBz"
      },
      "source": [
        "#### c) Understanding the context"
      ]
    },
    {
      "cell_type": "markdown",
      "metadata": {
        "id": "kTHWK8YN6IjK"
      },
      "source": [
        "- Traditionally, access to bank accounts has been regarded as an indicator of financial inclusion. Despite the proliferation of mobile money in Africa and the growth of innovative fintech solutions, banks still play a pivotal role in facilitating access to financial services. Access to bank accounts enables households to save and facilitate payments while also helping businesses build up their credit-worthiness and improve their access to other financial services. Therefore, access to bank accounts is an essential contributor to long-term economic growth.\n",
        "- The research problem is to figure out how we can predict which individuals are most likely to have or use a bank account."
      ]
    },
    {
      "cell_type": "markdown",
      "metadata": {
        "id": "kQ4bxYagJBGu"
      },
      "source": [
        "#### d) Recording the experimental design"
      ]
    },
    {
      "cell_type": "markdown",
      "metadata": {
        "id": "2W_GPKyBJMFs"
      },
      "source": [
        "#### e) Relevance of the data"
      ]
    },
    {
      "cell_type": "markdown",
      "metadata": {
        "id": "-O4jKZW1JT1_"
      },
      "source": [
        "# Reading the Data"
      ]
    },
    {
      "cell_type": "code",
      "metadata": {
        "id": "97x3jAjGJXGS"
      },
      "source": [
        "# we will import the necessary libraries for analysis\n",
        "import pandas as pd\n",
        "import numpy as np\n",
        "import matplotlib.pyplot as plt\n",
        "import seaborn as sns\n",
        "from scipy import stats\n",
        "\n",
        "# we will read the dataset\n",
        "fin=pd.read_csv(r'/content/Financial Dataset - 1.csv')"
      ],
      "execution_count": 1,
      "outputs": []
    },
    {
      "cell_type": "markdown",
      "metadata": {
        "id": "mwaUmpnXLTMo"
      },
      "source": [
        "# Checking the Data"
      ]
    },
    {
      "cell_type": "code",
      "metadata": {
        "colab": {
          "base_uri": "https://localhost:8080/",
          "height": 372
        },
        "id": "vXp_7wBbLJG-",
        "outputId": "8a3e2250-11d9-49f7-e757-9cfd981495b4"
      },
      "source": [
        "# we look at the first 5 rows\n",
        "fin.head()"
      ],
      "execution_count": 2,
      "outputs": [
        {
          "output_type": "execute_result",
          "data": {
            "text/html": [
              "<div>\n",
              "<style scoped>\n",
              "    .dataframe tbody tr th:only-of-type {\n",
              "        vertical-align: middle;\n",
              "    }\n",
              "\n",
              "    .dataframe tbody tr th {\n",
              "        vertical-align: top;\n",
              "    }\n",
              "\n",
              "    .dataframe thead th {\n",
              "        text-align: right;\n",
              "    }\n",
              "</style>\n",
              "<table border=\"1\" class=\"dataframe\">\n",
              "  <thead>\n",
              "    <tr style=\"text-align: right;\">\n",
              "      <th></th>\n",
              "      <th>country</th>\n",
              "      <th>year</th>\n",
              "      <th>uniqueid</th>\n",
              "      <th>Has a Bank account</th>\n",
              "      <th>Type of Location</th>\n",
              "      <th>Cell Phone Access</th>\n",
              "      <th>household_size</th>\n",
              "      <th>Respondent Age</th>\n",
              "      <th>gender_of_respondent</th>\n",
              "      <th>The relathip with head</th>\n",
              "      <th>marital_status</th>\n",
              "      <th>Level of Educuation</th>\n",
              "      <th>Type of Job</th>\n",
              "    </tr>\n",
              "  </thead>\n",
              "  <tbody>\n",
              "    <tr>\n",
              "      <th>0</th>\n",
              "      <td>Kenya</td>\n",
              "      <td>2018</td>\n",
              "      <td>uniqueid_1</td>\n",
              "      <td>Yes</td>\n",
              "      <td>Rural</td>\n",
              "      <td>Yes</td>\n",
              "      <td>3.0</td>\n",
              "      <td>24.0</td>\n",
              "      <td>Female</td>\n",
              "      <td>Spouse</td>\n",
              "      <td>Married/Living together</td>\n",
              "      <td>Secondary education</td>\n",
              "      <td>Self employed</td>\n",
              "    </tr>\n",
              "    <tr>\n",
              "      <th>1</th>\n",
              "      <td>Kenya</td>\n",
              "      <td>2018</td>\n",
              "      <td>uniqueid_2</td>\n",
              "      <td>No</td>\n",
              "      <td>Rural</td>\n",
              "      <td>No</td>\n",
              "      <td>5.0</td>\n",
              "      <td>70.0</td>\n",
              "      <td>Female</td>\n",
              "      <td>Head of Household</td>\n",
              "      <td>Widowed</td>\n",
              "      <td>No formal education</td>\n",
              "      <td>Government Dependent</td>\n",
              "    </tr>\n",
              "    <tr>\n",
              "      <th>2</th>\n",
              "      <td>Kenya</td>\n",
              "      <td>2018</td>\n",
              "      <td>uniqueid_3</td>\n",
              "      <td>Yes</td>\n",
              "      <td>Urban</td>\n",
              "      <td>Yes</td>\n",
              "      <td>5.0</td>\n",
              "      <td>26.0</td>\n",
              "      <td>Male</td>\n",
              "      <td>Other relative</td>\n",
              "      <td>Single/Never Married</td>\n",
              "      <td>Vocational/Specialised training</td>\n",
              "      <td>Self employed</td>\n",
              "    </tr>\n",
              "    <tr>\n",
              "      <th>3</th>\n",
              "      <td>Kenya</td>\n",
              "      <td>2018</td>\n",
              "      <td>uniqueid_4</td>\n",
              "      <td>No</td>\n",
              "      <td>Rural</td>\n",
              "      <td>Yes</td>\n",
              "      <td>5.0</td>\n",
              "      <td>34.0</td>\n",
              "      <td>Female</td>\n",
              "      <td>Head of Household</td>\n",
              "      <td>Married/Living together</td>\n",
              "      <td>Primary education</td>\n",
              "      <td>Formally employed Private</td>\n",
              "    </tr>\n",
              "    <tr>\n",
              "      <th>4</th>\n",
              "      <td>Kenya</td>\n",
              "      <td>2018</td>\n",
              "      <td>uniqueid_5</td>\n",
              "      <td>No</td>\n",
              "      <td>Urban</td>\n",
              "      <td>No</td>\n",
              "      <td>8.0</td>\n",
              "      <td>26.0</td>\n",
              "      <td>Male</td>\n",
              "      <td>Child</td>\n",
              "      <td>Single/Never Married</td>\n",
              "      <td>Primary education</td>\n",
              "      <td>Informally employed</td>\n",
              "    </tr>\n",
              "  </tbody>\n",
              "</table>\n",
              "</div>"
            ],
            "text/plain": [
              "  country  year  ...              Level of Educuation                Type of Job\n",
              "0   Kenya  2018  ...              Secondary education              Self employed\n",
              "1   Kenya  2018  ...              No formal education       Government Dependent\n",
              "2   Kenya  2018  ...  Vocational/Specialised training              Self employed\n",
              "3   Kenya  2018  ...                Primary education  Formally employed Private\n",
              "4   Kenya  2018  ...                Primary education        Informally employed\n",
              "\n",
              "[5 rows x 13 columns]"
            ]
          },
          "metadata": {
            "tags": []
          },
          "execution_count": 2
        }
      ]
    },
    {
      "cell_type": "code",
      "metadata": {
        "colab": {
          "base_uri": "https://localhost:8080/",
          "height": 355
        },
        "id": "zc0fFmJ9Lf5p",
        "outputId": "e2c77680-d4b0-4eae-947c-4404f81b63ed"
      },
      "source": [
        "#we will look at the last 5 rows\n",
        "fin.tail()"
      ],
      "execution_count": 3,
      "outputs": [
        {
          "output_type": "execute_result",
          "data": {
            "text/html": [
              "<div>\n",
              "<style scoped>\n",
              "    .dataframe tbody tr th:only-of-type {\n",
              "        vertical-align: middle;\n",
              "    }\n",
              "\n",
              "    .dataframe tbody tr th {\n",
              "        vertical-align: top;\n",
              "    }\n",
              "\n",
              "    .dataframe thead th {\n",
              "        text-align: right;\n",
              "    }\n",
              "</style>\n",
              "<table border=\"1\" class=\"dataframe\">\n",
              "  <thead>\n",
              "    <tr style=\"text-align: right;\">\n",
              "      <th></th>\n",
              "      <th>country</th>\n",
              "      <th>year</th>\n",
              "      <th>uniqueid</th>\n",
              "      <th>Has a Bank account</th>\n",
              "      <th>Type of Location</th>\n",
              "      <th>Cell Phone Access</th>\n",
              "      <th>household_size</th>\n",
              "      <th>Respondent Age</th>\n",
              "      <th>gender_of_respondent</th>\n",
              "      <th>The relathip with head</th>\n",
              "      <th>marital_status</th>\n",
              "      <th>Level of Educuation</th>\n",
              "      <th>Type of Job</th>\n",
              "    </tr>\n",
              "  </thead>\n",
              "  <tbody>\n",
              "    <tr>\n",
              "      <th>23519</th>\n",
              "      <td>Uganda</td>\n",
              "      <td>2018</td>\n",
              "      <td>uniqueid_2113</td>\n",
              "      <td>No</td>\n",
              "      <td>Rural</td>\n",
              "      <td>Yes</td>\n",
              "      <td>4.0</td>\n",
              "      <td>48.0</td>\n",
              "      <td>Female</td>\n",
              "      <td>Head of Household</td>\n",
              "      <td>Divorced/Seperated</td>\n",
              "      <td>No formal education</td>\n",
              "      <td>Other Income</td>\n",
              "    </tr>\n",
              "    <tr>\n",
              "      <th>23520</th>\n",
              "      <td>Uganda</td>\n",
              "      <td>2018</td>\n",
              "      <td>uniqueid_2114</td>\n",
              "      <td>No</td>\n",
              "      <td>Rural</td>\n",
              "      <td>Yes</td>\n",
              "      <td>2.0</td>\n",
              "      <td>27.0</td>\n",
              "      <td>Female</td>\n",
              "      <td>Head of Household</td>\n",
              "      <td>Single/Never Married</td>\n",
              "      <td>Secondary education</td>\n",
              "      <td>Other Income</td>\n",
              "    </tr>\n",
              "    <tr>\n",
              "      <th>23521</th>\n",
              "      <td>Uganda</td>\n",
              "      <td>2018</td>\n",
              "      <td>uniqueid_2115</td>\n",
              "      <td>No</td>\n",
              "      <td>Rural</td>\n",
              "      <td>Yes</td>\n",
              "      <td>5.0</td>\n",
              "      <td>27.0</td>\n",
              "      <td>Female</td>\n",
              "      <td>Parent</td>\n",
              "      <td>Widowed</td>\n",
              "      <td>Primary education</td>\n",
              "      <td>Other Income</td>\n",
              "    </tr>\n",
              "    <tr>\n",
              "      <th>23522</th>\n",
              "      <td>Uganda</td>\n",
              "      <td>2018</td>\n",
              "      <td>uniqueid_2116</td>\n",
              "      <td>No</td>\n",
              "      <td>Urban</td>\n",
              "      <td>Yes</td>\n",
              "      <td>7.0</td>\n",
              "      <td>30.0</td>\n",
              "      <td>Female</td>\n",
              "      <td>Parent</td>\n",
              "      <td>Divorced/Seperated</td>\n",
              "      <td>Secondary education</td>\n",
              "      <td>Self employed</td>\n",
              "    </tr>\n",
              "    <tr>\n",
              "      <th>23523</th>\n",
              "      <td>Uganda</td>\n",
              "      <td>2018</td>\n",
              "      <td>uniqueid_2117</td>\n",
              "      <td>No</td>\n",
              "      <td>Rural</td>\n",
              "      <td>Yes</td>\n",
              "      <td>10.0</td>\n",
              "      <td>20.0</td>\n",
              "      <td>Male</td>\n",
              "      <td>Child</td>\n",
              "      <td>Single/Never Married</td>\n",
              "      <td>Secondary education</td>\n",
              "      <td>No Income</td>\n",
              "    </tr>\n",
              "  </tbody>\n",
              "</table>\n",
              "</div>"
            ],
            "text/plain": [
              "      country  year  ...  Level of Educuation    Type of Job\n",
              "23519  Uganda  2018  ...  No formal education   Other Income\n",
              "23520  Uganda  2018  ...  Secondary education   Other Income\n",
              "23521  Uganda  2018  ...    Primary education   Other Income\n",
              "23522  Uganda  2018  ...  Secondary education  Self employed\n",
              "23523  Uganda  2018  ...  Secondary education      No Income\n",
              "\n",
              "[5 rows x 13 columns]"
            ]
          },
          "metadata": {
            "tags": []
          },
          "execution_count": 3
        }
      ]
    },
    {
      "cell_type": "code",
      "metadata": {
        "colab": {
          "base_uri": "https://localhost:8080/"
        },
        "id": "hUTTq6pyLnT1",
        "outputId": "9573ed95-131d-49ee-95dd-11ff022bffcf"
      },
      "source": [
        "# we will check for the shape of the dataset\n",
        "print('shape of dataset:', fin.shape)\n",
        "print('Dataset has '+ str(fin.shape[0]) + ' rows and ' + str(fin.shape[1]) + ' columns')"
      ],
      "execution_count": 4,
      "outputs": [
        {
          "output_type": "stream",
          "text": [
            "shape of dataset: (23524, 13)\n",
            "Dataset has 23524 rows and 13 columns\n"
          ],
          "name": "stdout"
        }
      ]
    },
    {
      "cell_type": "code",
      "metadata": {
        "colab": {
          "base_uri": "https://localhost:8080/"
        },
        "id": "FBbT_GPZMOaw",
        "outputId": "013c7a61-d632-4a1e-8678-1d4083fb67f5"
      },
      "source": [
        "# looking for the info of the dataset and the data types of the column\n",
        "fin.dtypes\n",
        "\n",
        "# we will need to convert the year column into datetime\n",
        "# we will need to convert the gender of respondent into categorical data type\n",
        "# we will need to convert the column Cell Phone Access into categorical data type\n",
        "# we will need to convert the Has a Bank account into categorical data type\n",
        "# we will need to convert the Has a marital_status categorical data type"
      ],
      "execution_count": 5,
      "outputs": [
        {
          "output_type": "execute_result",
          "data": {
            "text/plain": [
              "country                    object\n",
              "year                        int64\n",
              "uniqueid                   object\n",
              "Has a Bank account         object\n",
              "Type of Location           object\n",
              "Cell Phone Access          object\n",
              "household_size            float64\n",
              "Respondent Age            float64\n",
              "gender_of_respondent       object\n",
              "The relathip with head     object\n",
              "marital_status             object\n",
              "Level of Educuation        object\n",
              "Type of Job                object\n",
              "dtype: object"
            ]
          },
          "metadata": {
            "tags": []
          },
          "execution_count": 5
        }
      ]
    },
    {
      "cell_type": "code",
      "metadata": {
        "colab": {
          "base_uri": "https://localhost:8080/"
        },
        "id": "iO4PF3IvNKUG",
        "outputId": "bfca6f21-57c4-4381-fef4-cfa5c6aa198b"
      },
      "source": [
        "fin.info()\n",
        "\n",
        "# we can see that there are columns with missing values"
      ],
      "execution_count": 6,
      "outputs": [
        {
          "output_type": "stream",
          "text": [
            "<class 'pandas.core.frame.DataFrame'>\n",
            "RangeIndex: 23524 entries, 0 to 23523\n",
            "Data columns (total 13 columns):\n",
            " #   Column                  Non-Null Count  Dtype  \n",
            "---  ------                  --------------  -----  \n",
            " 0   country                 23510 non-null  object \n",
            " 1   year                    23524 non-null  int64  \n",
            " 2   uniqueid                23524 non-null  object \n",
            " 3   Has a Bank account      23488 non-null  object \n",
            " 4   Type of Location        23509 non-null  object \n",
            " 5   Cell Phone Access       23513 non-null  object \n",
            " 6   household_size          23496 non-null  float64\n",
            " 7   Respondent Age          23490 non-null  float64\n",
            " 8   gender_of_respondent    23490 non-null  object \n",
            " 9   The relathip with head  23520 non-null  object \n",
            " 10  marital_status          23492 non-null  object \n",
            " 11  Level of Educuation     23495 non-null  object \n",
            " 12  Type of Job             23494 non-null  object \n",
            "dtypes: float64(2), int64(1), object(10)\n",
            "memory usage: 2.3+ MB\n"
          ],
          "name": "stdout"
        }
      ]
    },
    {
      "cell_type": "markdown",
      "metadata": {
        "id": "eHTPVzRtNhHr"
      },
      "source": [
        "# Tidying Up the Dataset"
      ]
    },
    {
      "cell_type": "code",
      "metadata": {
        "colab": {
          "base_uri": "https://localhost:8080/"
        },
        "id": "zgkHYB95aLkZ",
        "outputId": "d3959c0c-460b-42e9-f1c7-76e98cbb9ae7"
      },
      "source": [
        "# we will start by looking for duplicated records in the dataset\n",
        "fin.duplicated().sum()"
      ],
      "execution_count": 7,
      "outputs": [
        {
          "output_type": "execute_result",
          "data": {
            "text/plain": [
              "0"
            ]
          },
          "metadata": {
            "tags": []
          },
          "execution_count": 7
        }
      ]
    },
    {
      "cell_type": "code",
      "metadata": {
        "colab": {
          "base_uri": "https://localhost:8080/"
        },
        "id": "Lmc10TN3RaQG",
        "outputId": "ee10d9b9-bfce-409c-d78f-15d645d7293d"
      },
      "source": [
        "cols=fin[['country','year','Has a Bank account','Type of Location','Cell Phone Access','household_size','gender_of_respondent','marital_status','Level of Educuation','Type of Job']]\n",
        "for col in cols:\n",
        "  print ('\\nlist of unique values in the column :%s'%col)\n",
        "  print(cols[col].unique())\n",
        "  \n",
        "\n",
        "# we can see that most columns contain nan values\n",
        "# the column year has records of 2029,2039 and 2056\n",
        "# we will first drop all the nan values\n",
        "# then proceed to look at the rows with the years 2029,2039,2056"
      ],
      "execution_count": 8,
      "outputs": [
        {
          "output_type": "stream",
          "text": [
            "\n",
            "list of unique values in the column :country\n",
            "['Kenya' 'Rwanda' 'Tanzania' nan 'Uganda']\n",
            "\n",
            "list of unique values in the column :year\n",
            "[2018 2029 2056 2016 2039 2017]\n",
            "\n",
            "list of unique values in the column :Has a Bank account\n",
            "['Yes' 'No' nan]\n",
            "\n",
            "list of unique values in the column :Type of Location\n",
            "['Rural' 'Urban' nan]\n",
            "\n",
            "list of unique values in the column :Cell Phone Access\n",
            "['Yes' 'No' nan]\n",
            "\n",
            "list of unique values in the column :household_size\n",
            "[ 3.  5.  8.  7.  1.  6.  4. 10.  2. 11.  9. 12. 16. 15. 13. 14. 21. nan\n",
            "  0. 18. 17. 20.]\n",
            "\n",
            "list of unique values in the column :gender_of_respondent\n",
            "['Female' 'Male' nan]\n",
            "\n",
            "list of unique values in the column :marital_status\n",
            "['Married/Living together' 'Widowed' 'Single/Never Married'\n",
            " 'Divorced/Seperated' 'Dont know' nan]\n",
            "\n",
            "list of unique values in the column :Level of Educuation\n",
            "['Secondary education' 'No formal education'\n",
            " 'Vocational/Specialised training' 'Primary education'\n",
            " 'Tertiary education' 'Other/Dont know/RTA' '6' nan]\n",
            "\n",
            "list of unique values in the column :Type of Job\n",
            "['Self employed' 'Government Dependent' 'Formally employed Private'\n",
            " 'Informally employed' 'Formally employed Government'\n",
            " 'Farming and Fishing' 'Remittance Dependent' 'Other Income'\n",
            " 'Dont Know/Refuse to answer' nan 'No Income']\n"
          ],
          "name": "stdout"
        }
      ]
    },
    {
      "cell_type": "code",
      "metadata": {
        "colab": {
          "base_uri": "https://localhost:8080/",
          "height": 403
        },
        "id": "85CpT58wTsRm",
        "outputId": "3fd8c4af-bfd4-4236-a175-624f5cc4a2ca"
      },
      "source": [
        "#checking for the number of missing values(null) in each column\n",
        "missing=fin.isna().sum()\n",
        "missing=missing[missing!=0]\n",
        "print('number of columns with missing values:', len(missing))\n",
        "#checking for the propotion of missing values in percentage\n",
        "perc=(missing/len(fin))*100\n",
        "missing_perc=pd.concat([missing,perc],axis=1)\n",
        "missing_perc.rename(columns={0:'number of missing values',1:' percentage of missing values'},inplace=True)\n",
        "missing_perc"
      ],
      "execution_count": 9,
      "outputs": [
        {
          "output_type": "stream",
          "text": [
            "number of columns with missing values: 11\n"
          ],
          "name": "stdout"
        },
        {
          "output_type": "execute_result",
          "data": {
            "text/html": [
              "<div>\n",
              "<style scoped>\n",
              "    .dataframe tbody tr th:only-of-type {\n",
              "        vertical-align: middle;\n",
              "    }\n",
              "\n",
              "    .dataframe tbody tr th {\n",
              "        vertical-align: top;\n",
              "    }\n",
              "\n",
              "    .dataframe thead th {\n",
              "        text-align: right;\n",
              "    }\n",
              "</style>\n",
              "<table border=\"1\" class=\"dataframe\">\n",
              "  <thead>\n",
              "    <tr style=\"text-align: right;\">\n",
              "      <th></th>\n",
              "      <th>number of missing values</th>\n",
              "      <th>percentage of missing values</th>\n",
              "    </tr>\n",
              "  </thead>\n",
              "  <tbody>\n",
              "    <tr>\n",
              "      <th>country</th>\n",
              "      <td>14</td>\n",
              "      <td>0.059514</td>\n",
              "    </tr>\n",
              "    <tr>\n",
              "      <th>Has a Bank account</th>\n",
              "      <td>36</td>\n",
              "      <td>0.153035</td>\n",
              "    </tr>\n",
              "    <tr>\n",
              "      <th>Type of Location</th>\n",
              "      <td>15</td>\n",
              "      <td>0.063765</td>\n",
              "    </tr>\n",
              "    <tr>\n",
              "      <th>Cell Phone Access</th>\n",
              "      <td>11</td>\n",
              "      <td>0.046761</td>\n",
              "    </tr>\n",
              "    <tr>\n",
              "      <th>household_size</th>\n",
              "      <td>28</td>\n",
              "      <td>0.119027</td>\n",
              "    </tr>\n",
              "    <tr>\n",
              "      <th>Respondent Age</th>\n",
              "      <td>34</td>\n",
              "      <td>0.144533</td>\n",
              "    </tr>\n",
              "    <tr>\n",
              "      <th>gender_of_respondent</th>\n",
              "      <td>34</td>\n",
              "      <td>0.144533</td>\n",
              "    </tr>\n",
              "    <tr>\n",
              "      <th>The relathip with head</th>\n",
              "      <td>4</td>\n",
              "      <td>0.017004</td>\n",
              "    </tr>\n",
              "    <tr>\n",
              "      <th>marital_status</th>\n",
              "      <td>32</td>\n",
              "      <td>0.136031</td>\n",
              "    </tr>\n",
              "    <tr>\n",
              "      <th>Level of Educuation</th>\n",
              "      <td>29</td>\n",
              "      <td>0.123278</td>\n",
              "    </tr>\n",
              "    <tr>\n",
              "      <th>Type of Job</th>\n",
              "      <td>30</td>\n",
              "      <td>0.127529</td>\n",
              "    </tr>\n",
              "  </tbody>\n",
              "</table>\n",
              "</div>"
            ],
            "text/plain": [
              "                        number of missing values   percentage of missing values\n",
              "country                                       14                       0.059514\n",
              "Has a Bank account                            36                       0.153035\n",
              "Type of Location                              15                       0.063765\n",
              "Cell Phone Access                             11                       0.046761\n",
              "household_size                                28                       0.119027\n",
              "Respondent Age                                34                       0.144533\n",
              "gender_of_respondent                          34                       0.144533\n",
              "The relathip with head                         4                       0.017004\n",
              "marital_status                                32                       0.136031\n",
              "Level of Educuation                           29                       0.123278\n",
              "Type of Job                                   30                       0.127529"
            ]
          },
          "metadata": {
            "tags": []
          },
          "execution_count": 9
        }
      ]
    },
    {
      "cell_type": "code",
      "metadata": {
        "id": "o28gpxnDWcBu"
      },
      "source": [
        "# droping the null values will have no significant damage to our dataset\n",
        "# we will drop all the rows with missing values\n",
        "fin=fin.dropna()"
      ],
      "execution_count": 10,
      "outputs": []
    },
    {
      "cell_type": "code",
      "metadata": {
        "colab": {
          "base_uri": "https://localhost:8080/"
        },
        "id": "3iHLN7rXWtzs",
        "outputId": "86d5d9dc-a880-475a-bbea-5dc623a9da38"
      },
      "source": [
        "# to check if all missing values have been dropped\n",
        "fin.isna().sum()"
      ],
      "execution_count": 11,
      "outputs": [
        {
          "output_type": "execute_result",
          "data": {
            "text/plain": [
              "country                   0\n",
              "year                      0\n",
              "uniqueid                  0\n",
              "Has a Bank account        0\n",
              "Type of Location          0\n",
              "Cell Phone Access         0\n",
              "household_size            0\n",
              "Respondent Age            0\n",
              "gender_of_respondent      0\n",
              "The relathip with head    0\n",
              "marital_status            0\n",
              "Level of Educuation       0\n",
              "Type of Job               0\n",
              "dtype: int64"
            ]
          },
          "metadata": {
            "tags": []
          },
          "execution_count": 11
        }
      ]
    },
    {
      "cell_type": "code",
      "metadata": {
        "colab": {
          "base_uri": "https://localhost:8080/",
          "height": 277
        },
        "id": "nvkW-4LeXBio",
        "outputId": "301444ae-5ad7-4e49-f3ee-1a5e66fb2009"
      },
      "source": [
        "#checking at this anomalies in years\n",
        "fin[fin['year'].isin([2029,2056,2039])]"
      ],
      "execution_count": 12,
      "outputs": [
        {
          "output_type": "execute_result",
          "data": {
            "text/html": [
              "<div>\n",
              "<style scoped>\n",
              "    .dataframe tbody tr th:only-of-type {\n",
              "        vertical-align: middle;\n",
              "    }\n",
              "\n",
              "    .dataframe tbody tr th {\n",
              "        vertical-align: top;\n",
              "    }\n",
              "\n",
              "    .dataframe thead th {\n",
              "        text-align: right;\n",
              "    }\n",
              "</style>\n",
              "<table border=\"1\" class=\"dataframe\">\n",
              "  <thead>\n",
              "    <tr style=\"text-align: right;\">\n",
              "      <th></th>\n",
              "      <th>country</th>\n",
              "      <th>year</th>\n",
              "      <th>uniqueid</th>\n",
              "      <th>Has a Bank account</th>\n",
              "      <th>Type of Location</th>\n",
              "      <th>Cell Phone Access</th>\n",
              "      <th>household_size</th>\n",
              "      <th>Respondent Age</th>\n",
              "      <th>gender_of_respondent</th>\n",
              "      <th>The relathip with head</th>\n",
              "      <th>marital_status</th>\n",
              "      <th>Level of Educuation</th>\n",
              "      <th>Type of Job</th>\n",
              "    </tr>\n",
              "  </thead>\n",
              "  <tbody>\n",
              "    <tr>\n",
              "      <th>213</th>\n",
              "      <td>Kenya</td>\n",
              "      <td>2029</td>\n",
              "      <td>uniqueid_214</td>\n",
              "      <td>No</td>\n",
              "      <td>Urban</td>\n",
              "      <td>Yes</td>\n",
              "      <td>6.0</td>\n",
              "      <td>16.0</td>\n",
              "      <td>Male</td>\n",
              "      <td>Other relative</td>\n",
              "      <td>Single/Never Married</td>\n",
              "      <td>Secondary education</td>\n",
              "      <td>Remittance Dependent</td>\n",
              "    </tr>\n",
              "    <tr>\n",
              "      <th>308</th>\n",
              "      <td>Kenya</td>\n",
              "      <td>2056</td>\n",
              "      <td>uniqueid_309</td>\n",
              "      <td>Yes</td>\n",
              "      <td>Urban</td>\n",
              "      <td>Yes</td>\n",
              "      <td>4.0</td>\n",
              "      <td>40.0</td>\n",
              "      <td>Male</td>\n",
              "      <td>Head of Household</td>\n",
              "      <td>Married/Living together</td>\n",
              "      <td>Tertiary education</td>\n",
              "      <td>Formally employed Private</td>\n",
              "    </tr>\n",
              "    <tr>\n",
              "      <th>7014</th>\n",
              "      <td>Rwanda</td>\n",
              "      <td>2039</td>\n",
              "      <td>uniqueid_947</td>\n",
              "      <td>No</td>\n",
              "      <td>Rural</td>\n",
              "      <td>Yes</td>\n",
              "      <td>3.0</td>\n",
              "      <td>24.0</td>\n",
              "      <td>Female</td>\n",
              "      <td>Spouse</td>\n",
              "      <td>Married/Living together</td>\n",
              "      <td>Primary education</td>\n",
              "      <td>Informally employed</td>\n",
              "    </tr>\n",
              "  </tbody>\n",
              "</table>\n",
              "</div>"
            ],
            "text/plain": [
              "     country  year  ...  Level of Educuation                Type of Job\n",
              "213    Kenya  2029  ...  Secondary education       Remittance Dependent\n",
              "308    Kenya  2056  ...   Tertiary education  Formally employed Private\n",
              "7014  Rwanda  2039  ...    Primary education        Informally employed\n",
              "\n",
              "[3 rows x 13 columns]"
            ]
          },
          "metadata": {
            "tags": []
          },
          "execution_count": 12
        }
      ]
    },
    {
      "cell_type": "code",
      "metadata": {
        "colab": {
          "base_uri": "https://localhost:8080/"
        },
        "id": "KtJN2bdlXS3g",
        "outputId": "32651cd6-71dd-4635-af25-8ff4de241874"
      },
      "source": [
        "# we will drop this observations\n",
        "#this are anomalies in the dataset\n",
        "# there are only 3 rows that will be dropped\n",
        "fin.drop(fin[fin['year']>2019].index,inplace=True)\n",
        "\n",
        "#to confirm if the have beem dropped\n",
        "fin.year.value_counts()"
      ],
      "execution_count": 13,
      "outputs": [
        {
          "output_type": "execute_result",
          "data": {
            "text/plain": [
              "2016    8683\n",
              "2018    8157\n",
              "2017    6500\n",
              "Name: year, dtype: int64"
            ]
          },
          "metadata": {
            "tags": []
          },
          "execution_count": 13
        }
      ]
    },
    {
      "cell_type": "code",
      "metadata": {
        "colab": {
          "base_uri": "https://localhost:8080/",
          "height": 110
        },
        "id": "ryo7mXT9Zqsf",
        "outputId": "5ee6e3a9-cede-44f1-9966-1fe1fdf9e7e9"
      },
      "source": [
        "# we will look for outliers\n",
        "# we only have 2 numerical columns\n",
        "\n",
        "numerical=fin[['Respondent Age','household_size']]\n",
        "numerical.describe().T\n",
        "\n",
        "\n",
        "#the household size can not have 0 people\n",
        "#the respondent age is not logical\n",
        "#th avrage life expectancy of an individual in east africa is 68\n",
        "#any age above this we will treated it as an outlier"
      ],
      "execution_count": 14,
      "outputs": [
        {
          "output_type": "execute_result",
          "data": {
            "text/html": [
              "<div>\n",
              "<style scoped>\n",
              "    .dataframe tbody tr th:only-of-type {\n",
              "        vertical-align: middle;\n",
              "    }\n",
              "\n",
              "    .dataframe tbody tr th {\n",
              "        vertical-align: top;\n",
              "    }\n",
              "\n",
              "    .dataframe thead th {\n",
              "        text-align: right;\n",
              "    }\n",
              "</style>\n",
              "<table border=\"1\" class=\"dataframe\">\n",
              "  <thead>\n",
              "    <tr style=\"text-align: right;\">\n",
              "      <th></th>\n",
              "      <th>count</th>\n",
              "      <th>mean</th>\n",
              "      <th>std</th>\n",
              "      <th>min</th>\n",
              "      <th>25%</th>\n",
              "      <th>50%</th>\n",
              "      <th>75%</th>\n",
              "      <th>max</th>\n",
              "    </tr>\n",
              "  </thead>\n",
              "  <tbody>\n",
              "    <tr>\n",
              "      <th>Respondent Age</th>\n",
              "      <td>23340.0</td>\n",
              "      <td>38.807069</td>\n",
              "      <td>16.519905</td>\n",
              "      <td>16.0</td>\n",
              "      <td>26.0</td>\n",
              "      <td>35.0</td>\n",
              "      <td>49.0</td>\n",
              "      <td>100.0</td>\n",
              "    </tr>\n",
              "    <tr>\n",
              "      <th>household_size</th>\n",
              "      <td>23340.0</td>\n",
              "      <td>3.688560</td>\n",
              "      <td>2.281275</td>\n",
              "      <td>0.0</td>\n",
              "      <td>2.0</td>\n",
              "      <td>3.0</td>\n",
              "      <td>5.0</td>\n",
              "      <td>21.0</td>\n",
              "    </tr>\n",
              "  </tbody>\n",
              "</table>\n",
              "</div>"
            ],
            "text/plain": [
              "                  count       mean        std   min   25%   50%   75%    max\n",
              "Respondent Age  23340.0  38.807069  16.519905  16.0  26.0  35.0  49.0  100.0\n",
              "household_size  23340.0   3.688560   2.281275   0.0   2.0   3.0   5.0   21.0"
            ]
          },
          "metadata": {
            "tags": []
          },
          "execution_count": 14
        }
      ]
    },
    {
      "cell_type": "code",
      "metadata": {
        "colab": {
          "base_uri": "https://localhost:8080/",
          "height": 484
        },
        "id": "VNMMZxRAb0cu",
        "outputId": "ac05229e-dbdb-4e68-ee7d-0846904ba7b3"
      },
      "source": [
        "plt.figure(figsize=(8,8))\n",
        "numerical.boxplot()\n",
        "plt.show()"
      ],
      "execution_count": 15,
      "outputs": [
        {
          "output_type": "display_data",
          "data": {
            "image/png": "[encoded data removed]",
            "text/plain": [
              "<Figure size 576x576 with 1 Axes>"
            ]
          },
          "metadata": {
            "tags": [],
            "needs_background": "light"
          }
        }
      ]
    },
    {
      "cell_type": "code",
      "metadata": {
        "colab": {
          "base_uri": "https://localhost:8080/",
          "height": 1000
        },
        "id": "8YE-9W_9C1eq",
        "outputId": "d3507d01-c564-4be9-9f6e-af4cd4abd48b"
      },
      "source": [
        "#we will get all records of where the household size is less than 1\n",
        "#we will drop this observations from our dataset\n",
        "fin[fin['household_size']<1]\n"
      ],
      "execution_count": 16,
      "outputs": [
        {
          "output_type": "execute_result",
          "data": {
            "text/html": [
              "<div>\n",
              "<style scoped>\n",
              "    .dataframe tbody tr th:only-of-type {\n",
              "        vertical-align: middle;\n",
              "    }\n",
              "\n",
              "    .dataframe tbody tr th {\n",
              "        vertical-align: top;\n",
              "    }\n",
              "\n",
              "    .dataframe thead th {\n",
              "        text-align: right;\n",
              "    }\n",
              "</style>\n",
              "<table border=\"1\" class=\"dataframe\">\n",
              "  <thead>\n",
              "    <tr style=\"text-align: right;\">\n",
              "      <th></th>\n",
              "      <th>country</th>\n",
              "      <th>year</th>\n",
              "      <th>uniqueid</th>\n",
              "      <th>Has a Bank account</th>\n",
              "      <th>Type of Location</th>\n",
              "      <th>Cell Phone Access</th>\n",
              "      <th>household_size</th>\n",
              "      <th>Respondent Age</th>\n",
              "      <th>gender_of_respondent</th>\n",
              "      <th>The relathip with head</th>\n",
              "      <th>marital_status</th>\n",
              "      <th>Level of Educuation</th>\n",
              "      <th>Type of Job</th>\n",
              "    </tr>\n",
              "  </thead>\n",
              "  <tbody>\n",
              "    <tr>\n",
              "      <th>15171</th>\n",
              "      <td>Tanzania</td>\n",
              "      <td>2017</td>\n",
              "      <td>uniqueid_369</td>\n",
              "      <td>No</td>\n",
              "      <td>Urban</td>\n",
              "      <td>Yes</td>\n",
              "      <td>0.0</td>\n",
              "      <td>30.0</td>\n",
              "      <td>Female</td>\n",
              "      <td>Head of Household</td>\n",
              "      <td>Married/Living together</td>\n",
              "      <td>Primary education</td>\n",
              "      <td>No Income</td>\n",
              "    </tr>\n",
              "    <tr>\n",
              "      <th>15897</th>\n",
              "      <td>Tanzania</td>\n",
              "      <td>2017</td>\n",
              "      <td>uniqueid_1095</td>\n",
              "      <td>No</td>\n",
              "      <td>Urban</td>\n",
              "      <td>Yes</td>\n",
              "      <td>0.0</td>\n",
              "      <td>24.0</td>\n",
              "      <td>Female</td>\n",
              "      <td>Head of Household</td>\n",
              "      <td>Single/Never Married</td>\n",
              "      <td>Primary education</td>\n",
              "      <td>Remittance Dependent</td>\n",
              "    </tr>\n",
              "    <tr>\n",
              "      <th>15918</th>\n",
              "      <td>Tanzania</td>\n",
              "      <td>2017</td>\n",
              "      <td>uniqueid_1116</td>\n",
              "      <td>No</td>\n",
              "      <td>Rural</td>\n",
              "      <td>No</td>\n",
              "      <td>0.0</td>\n",
              "      <td>27.0</td>\n",
              "      <td>Male</td>\n",
              "      <td>Parent</td>\n",
              "      <td>Divorced/Seperated</td>\n",
              "      <td>Secondary education</td>\n",
              "      <td>No Income</td>\n",
              "    </tr>\n",
              "    <tr>\n",
              "      <th>16006</th>\n",
              "      <td>Tanzania</td>\n",
              "      <td>2017</td>\n",
              "      <td>uniqueid_1204</td>\n",
              "      <td>No</td>\n",
              "      <td>Rural</td>\n",
              "      <td>Yes</td>\n",
              "      <td>0.0</td>\n",
              "      <td>22.0</td>\n",
              "      <td>Female</td>\n",
              "      <td>Head of Household</td>\n",
              "      <td>Divorced/Seperated</td>\n",
              "      <td>Tertiary education</td>\n",
              "      <td>Remittance Dependent</td>\n",
              "    </tr>\n",
              "    <tr>\n",
              "      <th>16132</th>\n",
              "      <td>Tanzania</td>\n",
              "      <td>2017</td>\n",
              "      <td>uniqueid_1330</td>\n",
              "      <td>No</td>\n",
              "      <td>Rural</td>\n",
              "      <td>No</td>\n",
              "      <td>0.0</td>\n",
              "      <td>18.0</td>\n",
              "      <td>Female</td>\n",
              "      <td>Other relative</td>\n",
              "      <td>Divorced/Seperated</td>\n",
              "      <td>Secondary education</td>\n",
              "      <td>Remittance Dependent</td>\n",
              "    </tr>\n",
              "    <tr>\n",
              "      <th>16137</th>\n",
              "      <td>Tanzania</td>\n",
              "      <td>2017</td>\n",
              "      <td>uniqueid_1335</td>\n",
              "      <td>No</td>\n",
              "      <td>Urban</td>\n",
              "      <td>Yes</td>\n",
              "      <td>0.0</td>\n",
              "      <td>23.0</td>\n",
              "      <td>Female</td>\n",
              "      <td>Head of Household</td>\n",
              "      <td>Divorced/Seperated</td>\n",
              "      <td>Primary education</td>\n",
              "      <td>No Income</td>\n",
              "    </tr>\n",
              "    <tr>\n",
              "      <th>16509</th>\n",
              "      <td>Tanzania</td>\n",
              "      <td>2017</td>\n",
              "      <td>uniqueid_1707</td>\n",
              "      <td>No</td>\n",
              "      <td>Urban</td>\n",
              "      <td>Yes</td>\n",
              "      <td>0.0</td>\n",
              "      <td>23.0</td>\n",
              "      <td>Female</td>\n",
              "      <td>Parent</td>\n",
              "      <td>Divorced/Seperated</td>\n",
              "      <td>Tertiary education</td>\n",
              "      <td>No Income</td>\n",
              "    </tr>\n",
              "    <tr>\n",
              "      <th>16561</th>\n",
              "      <td>Tanzania</td>\n",
              "      <td>2017</td>\n",
              "      <td>uniqueid_1759</td>\n",
              "      <td>No</td>\n",
              "      <td>Urban</td>\n",
              "      <td>No</td>\n",
              "      <td>0.0</td>\n",
              "      <td>87.0</td>\n",
              "      <td>Female</td>\n",
              "      <td>Head of Household</td>\n",
              "      <td>Widowed</td>\n",
              "      <td>No formal education</td>\n",
              "      <td>No Income</td>\n",
              "    </tr>\n",
              "    <tr>\n",
              "      <th>16702</th>\n",
              "      <td>Tanzania</td>\n",
              "      <td>2017</td>\n",
              "      <td>uniqueid_1900</td>\n",
              "      <td>No</td>\n",
              "      <td>Urban</td>\n",
              "      <td>Yes</td>\n",
              "      <td>0.0</td>\n",
              "      <td>32.0</td>\n",
              "      <td>Female</td>\n",
              "      <td>Head of Household</td>\n",
              "      <td>Single/Never Married</td>\n",
              "      <td>Primary education</td>\n",
              "      <td>Remittance Dependent</td>\n",
              "    </tr>\n",
              "    <tr>\n",
              "      <th>16987</th>\n",
              "      <td>Tanzania</td>\n",
              "      <td>2017</td>\n",
              "      <td>uniqueid_2185</td>\n",
              "      <td>No</td>\n",
              "      <td>Urban</td>\n",
              "      <td>No</td>\n",
              "      <td>0.0</td>\n",
              "      <td>75.0</td>\n",
              "      <td>Female</td>\n",
              "      <td>Head of Household</td>\n",
              "      <td>Married/Living together</td>\n",
              "      <td>Primary education</td>\n",
              "      <td>No Income</td>\n",
              "    </tr>\n",
              "    <tr>\n",
              "      <th>17430</th>\n",
              "      <td>Tanzania</td>\n",
              "      <td>2017</td>\n",
              "      <td>uniqueid_2628</td>\n",
              "      <td>No</td>\n",
              "      <td>Urban</td>\n",
              "      <td>No</td>\n",
              "      <td>0.0</td>\n",
              "      <td>63.0</td>\n",
              "      <td>Female</td>\n",
              "      <td>Head of Household</td>\n",
              "      <td>Married/Living together</td>\n",
              "      <td>No formal education</td>\n",
              "      <td>Self employed</td>\n",
              "    </tr>\n",
              "    <tr>\n",
              "      <th>17759</th>\n",
              "      <td>Tanzania</td>\n",
              "      <td>2017</td>\n",
              "      <td>uniqueid_2957</td>\n",
              "      <td>No</td>\n",
              "      <td>Rural</td>\n",
              "      <td>Yes</td>\n",
              "      <td>0.0</td>\n",
              "      <td>75.0</td>\n",
              "      <td>Male</td>\n",
              "      <td>Head of Household</td>\n",
              "      <td>Single/Never Married</td>\n",
              "      <td>No formal education</td>\n",
              "      <td>Remittance Dependent</td>\n",
              "    </tr>\n",
              "    <tr>\n",
              "      <th>18104</th>\n",
              "      <td>Tanzania</td>\n",
              "      <td>2017</td>\n",
              "      <td>uniqueid_3302</td>\n",
              "      <td>No</td>\n",
              "      <td>Rural</td>\n",
              "      <td>Yes</td>\n",
              "      <td>0.0</td>\n",
              "      <td>42.0</td>\n",
              "      <td>Female</td>\n",
              "      <td>Head of Household</td>\n",
              "      <td>Single/Never Married</td>\n",
              "      <td>Primary education</td>\n",
              "      <td>No Income</td>\n",
              "    </tr>\n",
              "    <tr>\n",
              "      <th>18193</th>\n",
              "      <td>Tanzania</td>\n",
              "      <td>2017</td>\n",
              "      <td>uniqueid_3391</td>\n",
              "      <td>No</td>\n",
              "      <td>Urban</td>\n",
              "      <td>Yes</td>\n",
              "      <td>0.0</td>\n",
              "      <td>75.0</td>\n",
              "      <td>Male</td>\n",
              "      <td>Head of Household</td>\n",
              "      <td>Single/Never Married</td>\n",
              "      <td>Primary education</td>\n",
              "      <td>Remittance Dependent</td>\n",
              "    </tr>\n",
              "    <tr>\n",
              "      <th>18194</th>\n",
              "      <td>Tanzania</td>\n",
              "      <td>2017</td>\n",
              "      <td>uniqueid_3392</td>\n",
              "      <td>No</td>\n",
              "      <td>Urban</td>\n",
              "      <td>No</td>\n",
              "      <td>0.0</td>\n",
              "      <td>74.0</td>\n",
              "      <td>Female</td>\n",
              "      <td>Spouse</td>\n",
              "      <td>Single/Never Married</td>\n",
              "      <td>Primary education</td>\n",
              "      <td>No Income</td>\n",
              "    </tr>\n",
              "    <tr>\n",
              "      <th>18323</th>\n",
              "      <td>Tanzania</td>\n",
              "      <td>2017</td>\n",
              "      <td>uniqueid_3521</td>\n",
              "      <td>No</td>\n",
              "      <td>Urban</td>\n",
              "      <td>No</td>\n",
              "      <td>0.0</td>\n",
              "      <td>90.0</td>\n",
              "      <td>Female</td>\n",
              "      <td>Head of Household</td>\n",
              "      <td>Widowed</td>\n",
              "      <td>No formal education</td>\n",
              "      <td>No Income</td>\n",
              "    </tr>\n",
              "    <tr>\n",
              "      <th>18420</th>\n",
              "      <td>Tanzania</td>\n",
              "      <td>2017</td>\n",
              "      <td>uniqueid_3618</td>\n",
              "      <td>No</td>\n",
              "      <td>Rural</td>\n",
              "      <td>Yes</td>\n",
              "      <td>0.0</td>\n",
              "      <td>51.0</td>\n",
              "      <td>Female</td>\n",
              "      <td>Spouse</td>\n",
              "      <td>Single/Never Married</td>\n",
              "      <td>Primary education</td>\n",
              "      <td>Informally employed</td>\n",
              "    </tr>\n",
              "    <tr>\n",
              "      <th>18955</th>\n",
              "      <td>Tanzania</td>\n",
              "      <td>2017</td>\n",
              "      <td>uniqueid_4153</td>\n",
              "      <td>No</td>\n",
              "      <td>Urban</td>\n",
              "      <td>No</td>\n",
              "      <td>0.0</td>\n",
              "      <td>70.0</td>\n",
              "      <td>Female</td>\n",
              "      <td>Head of Household</td>\n",
              "      <td>Widowed</td>\n",
              "      <td>No formal education</td>\n",
              "      <td>Remittance Dependent</td>\n",
              "    </tr>\n",
              "    <tr>\n",
              "      <th>19227</th>\n",
              "      <td>Tanzania</td>\n",
              "      <td>2017</td>\n",
              "      <td>uniqueid_4425</td>\n",
              "      <td>No</td>\n",
              "      <td>Urban</td>\n",
              "      <td>No</td>\n",
              "      <td>0.0</td>\n",
              "      <td>81.0</td>\n",
              "      <td>Male</td>\n",
              "      <td>Head of Household</td>\n",
              "      <td>Single/Never Married</td>\n",
              "      <td>No formal education</td>\n",
              "      <td>No Income</td>\n",
              "    </tr>\n",
              "    <tr>\n",
              "      <th>19481</th>\n",
              "      <td>Tanzania</td>\n",
              "      <td>2017</td>\n",
              "      <td>uniqueid_4679</td>\n",
              "      <td>No</td>\n",
              "      <td>Rural</td>\n",
              "      <td>No</td>\n",
              "      <td>0.0</td>\n",
              "      <td>17.0</td>\n",
              "      <td>Female</td>\n",
              "      <td>Other relative</td>\n",
              "      <td>Divorced/Seperated</td>\n",
              "      <td>Primary education</td>\n",
              "      <td>Remittance Dependent</td>\n",
              "    </tr>\n",
              "    <tr>\n",
              "      <th>19710</th>\n",
              "      <td>Tanzania</td>\n",
              "      <td>2017</td>\n",
              "      <td>uniqueid_4908</td>\n",
              "      <td>No</td>\n",
              "      <td>Urban</td>\n",
              "      <td>No</td>\n",
              "      <td>0.0</td>\n",
              "      <td>58.0</td>\n",
              "      <td>Female</td>\n",
              "      <td>Head of Household</td>\n",
              "      <td>Divorced/Seperated</td>\n",
              "      <td>Primary education</td>\n",
              "      <td>No Income</td>\n",
              "    </tr>\n",
              "    <tr>\n",
              "      <th>19780</th>\n",
              "      <td>Tanzania</td>\n",
              "      <td>2017</td>\n",
              "      <td>uniqueid_4978</td>\n",
              "      <td>No</td>\n",
              "      <td>Urban</td>\n",
              "      <td>No</td>\n",
              "      <td>0.0</td>\n",
              "      <td>70.0</td>\n",
              "      <td>Female</td>\n",
              "      <td>Head of Household</td>\n",
              "      <td>Widowed</td>\n",
              "      <td>No formal education</td>\n",
              "      <td>Remittance Dependent</td>\n",
              "    </tr>\n",
              "    <tr>\n",
              "      <th>19947</th>\n",
              "      <td>Tanzania</td>\n",
              "      <td>2017</td>\n",
              "      <td>uniqueid_5145</td>\n",
              "      <td>No</td>\n",
              "      <td>Urban</td>\n",
              "      <td>No</td>\n",
              "      <td>0.0</td>\n",
              "      <td>86.0</td>\n",
              "      <td>Female</td>\n",
              "      <td>Head of Household</td>\n",
              "      <td>Widowed</td>\n",
              "      <td>No formal education</td>\n",
              "      <td>No Income</td>\n",
              "    </tr>\n",
              "    <tr>\n",
              "      <th>19977</th>\n",
              "      <td>Tanzania</td>\n",
              "      <td>2017</td>\n",
              "      <td>uniqueid_5175</td>\n",
              "      <td>No</td>\n",
              "      <td>Rural</td>\n",
              "      <td>Yes</td>\n",
              "      <td>0.0</td>\n",
              "      <td>61.0</td>\n",
              "      <td>Female</td>\n",
              "      <td>Head of Household</td>\n",
              "      <td>Widowed</td>\n",
              "      <td>Primary education</td>\n",
              "      <td>Remittance Dependent</td>\n",
              "    </tr>\n",
              "    <tr>\n",
              "      <th>20058</th>\n",
              "      <td>Tanzania</td>\n",
              "      <td>2017</td>\n",
              "      <td>uniqueid_5256</td>\n",
              "      <td>No</td>\n",
              "      <td>Urban</td>\n",
              "      <td>No</td>\n",
              "      <td>0.0</td>\n",
              "      <td>84.0</td>\n",
              "      <td>Male</td>\n",
              "      <td>Head of Household</td>\n",
              "      <td>Married/Living together</td>\n",
              "      <td>Secondary education</td>\n",
              "      <td>Remittance Dependent</td>\n",
              "    </tr>\n",
              "    <tr>\n",
              "      <th>20079</th>\n",
              "      <td>Tanzania</td>\n",
              "      <td>2017</td>\n",
              "      <td>uniqueid_5277</td>\n",
              "      <td>No</td>\n",
              "      <td>Urban</td>\n",
              "      <td>No</td>\n",
              "      <td>0.0</td>\n",
              "      <td>58.0</td>\n",
              "      <td>Female</td>\n",
              "      <td>Head of Household</td>\n",
              "      <td>Widowed</td>\n",
              "      <td>No formal education</td>\n",
              "      <td>Remittance Dependent</td>\n",
              "    </tr>\n",
              "    <tr>\n",
              "      <th>20132</th>\n",
              "      <td>Tanzania</td>\n",
              "      <td>2017</td>\n",
              "      <td>uniqueid_5330</td>\n",
              "      <td>No</td>\n",
              "      <td>Urban</td>\n",
              "      <td>No</td>\n",
              "      <td>0.0</td>\n",
              "      <td>38.0</td>\n",
              "      <td>Female</td>\n",
              "      <td>Head of Household</td>\n",
              "      <td>Married/Living together</td>\n",
              "      <td>No formal education</td>\n",
              "      <td>Informally employed</td>\n",
              "    </tr>\n",
              "    <tr>\n",
              "      <th>20513</th>\n",
              "      <td>Tanzania</td>\n",
              "      <td>2017</td>\n",
              "      <td>uniqueid_5711</td>\n",
              "      <td>No</td>\n",
              "      <td>Urban</td>\n",
              "      <td>No</td>\n",
              "      <td>0.0</td>\n",
              "      <td>86.0</td>\n",
              "      <td>Female</td>\n",
              "      <td>Head of Household</td>\n",
              "      <td>Widowed</td>\n",
              "      <td>No formal education</td>\n",
              "      <td>No Income</td>\n",
              "    </tr>\n",
              "    <tr>\n",
              "      <th>20525</th>\n",
              "      <td>Tanzania</td>\n",
              "      <td>2017</td>\n",
              "      <td>uniqueid_5723</td>\n",
              "      <td>No</td>\n",
              "      <td>Urban</td>\n",
              "      <td>No</td>\n",
              "      <td>0.0</td>\n",
              "      <td>85.0</td>\n",
              "      <td>Male</td>\n",
              "      <td>Head of Household</td>\n",
              "      <td>Widowed</td>\n",
              "      <td>No formal education</td>\n",
              "      <td>Remittance Dependent</td>\n",
              "    </tr>\n",
              "    <tr>\n",
              "      <th>20747</th>\n",
              "      <td>Tanzania</td>\n",
              "      <td>2017</td>\n",
              "      <td>uniqueid_5945</td>\n",
              "      <td>No</td>\n",
              "      <td>Urban</td>\n",
              "      <td>No</td>\n",
              "      <td>0.0</td>\n",
              "      <td>85.0</td>\n",
              "      <td>Male</td>\n",
              "      <td>Head of Household</td>\n",
              "      <td>Widowed</td>\n",
              "      <td>Primary education</td>\n",
              "      <td>Remittance Dependent</td>\n",
              "    </tr>\n",
              "    <tr>\n",
              "      <th>20836</th>\n",
              "      <td>Tanzania</td>\n",
              "      <td>2017</td>\n",
              "      <td>uniqueid_6034</td>\n",
              "      <td>No</td>\n",
              "      <td>Rural</td>\n",
              "      <td>No</td>\n",
              "      <td>0.0</td>\n",
              "      <td>16.0</td>\n",
              "      <td>Male</td>\n",
              "      <td>Other relative</td>\n",
              "      <td>Divorced/Seperated</td>\n",
              "      <td>Secondary education</td>\n",
              "      <td>No Income</td>\n",
              "    </tr>\n",
              "    <tr>\n",
              "      <th>20927</th>\n",
              "      <td>Tanzania</td>\n",
              "      <td>2017</td>\n",
              "      <td>uniqueid_6125</td>\n",
              "      <td>No</td>\n",
              "      <td>Rural</td>\n",
              "      <td>No</td>\n",
              "      <td>0.0</td>\n",
              "      <td>52.0</td>\n",
              "      <td>Female</td>\n",
              "      <td>Spouse</td>\n",
              "      <td>Single/Never Married</td>\n",
              "      <td>Primary education</td>\n",
              "      <td>Remittance Dependent</td>\n",
              "    </tr>\n",
              "    <tr>\n",
              "      <th>20945</th>\n",
              "      <td>Tanzania</td>\n",
              "      <td>2017</td>\n",
              "      <td>uniqueid_6143</td>\n",
              "      <td>No</td>\n",
              "      <td>Urban</td>\n",
              "      <td>No</td>\n",
              "      <td>0.0</td>\n",
              "      <td>100.0</td>\n",
              "      <td>Female</td>\n",
              "      <td>Head of Household</td>\n",
              "      <td>Widowed</td>\n",
              "      <td>No formal education</td>\n",
              "      <td>No Income</td>\n",
              "    </tr>\n",
              "    <tr>\n",
              "      <th>21168</th>\n",
              "      <td>Tanzania</td>\n",
              "      <td>2017</td>\n",
              "      <td>uniqueid_6366</td>\n",
              "      <td>No</td>\n",
              "      <td>Rural</td>\n",
              "      <td>No</td>\n",
              "      <td>0.0</td>\n",
              "      <td>18.0</td>\n",
              "      <td>Male</td>\n",
              "      <td>Head of Household</td>\n",
              "      <td>Divorced/Seperated</td>\n",
              "      <td>Secondary education</td>\n",
              "      <td>No Income</td>\n",
              "    </tr>\n",
              "    <tr>\n",
              "      <th>21239</th>\n",
              "      <td>Tanzania</td>\n",
              "      <td>2017</td>\n",
              "      <td>uniqueid_6437</td>\n",
              "      <td>Yes</td>\n",
              "      <td>Rural</td>\n",
              "      <td>Yes</td>\n",
              "      <td>0.0</td>\n",
              "      <td>22.0</td>\n",
              "      <td>Male</td>\n",
              "      <td>Head of Household</td>\n",
              "      <td>Divorced/Seperated</td>\n",
              "      <td>Vocational/Specialised training</td>\n",
              "      <td>No Income</td>\n",
              "    </tr>\n",
              "    <tr>\n",
              "      <th>21401</th>\n",
              "      <td>Tanzania</td>\n",
              "      <td>2017</td>\n",
              "      <td>uniqueid_6615</td>\n",
              "      <td>No</td>\n",
              "      <td>Rural</td>\n",
              "      <td>No</td>\n",
              "      <td>0.0</td>\n",
              "      <td>96.0</td>\n",
              "      <td>Female</td>\n",
              "      <td>Head of Household</td>\n",
              "      <td>Widowed</td>\n",
              "      <td>No formal education</td>\n",
              "      <td>No Income</td>\n",
              "    </tr>\n",
              "  </tbody>\n",
              "</table>\n",
              "</div>"
            ],
            "text/plain": [
              "        country  year  ...              Level of Educuation           Type of Job\n",
              "15171  Tanzania  2017  ...                Primary education             No Income\n",
              "15897  Tanzania  2017  ...                Primary education  Remittance Dependent\n",
              "15918  Tanzania  2017  ...              Secondary education             No Income\n",
              "16006  Tanzania  2017  ...               Tertiary education  Remittance Dependent\n",
              "16132  Tanzania  2017  ...              Secondary education  Remittance Dependent\n",
              "16137  Tanzania  2017  ...                Primary education             No Income\n",
              "16509  Tanzania  2017  ...               Tertiary education             No Income\n",
              "16561  Tanzania  2017  ...              No formal education             No Income\n",
              "16702  Tanzania  2017  ...                Primary education  Remittance Dependent\n",
              "16987  Tanzania  2017  ...                Primary education             No Income\n",
              "17430  Tanzania  2017  ...              No formal education         Self employed\n",
              "17759  Tanzania  2017  ...              No formal education  Remittance Dependent\n",
              "18104  Tanzania  2017  ...                Primary education             No Income\n",
              "18193  Tanzania  2017  ...                Primary education  Remittance Dependent\n",
              "18194  Tanzania  2017  ...                Primary education             No Income\n",
              "18323  Tanzania  2017  ...              No formal education             No Income\n",
              "18420  Tanzania  2017  ...                Primary education   Informally employed\n",
              "18955  Tanzania  2017  ...              No formal education  Remittance Dependent\n",
              "19227  Tanzania  2017  ...              No formal education             No Income\n",
              "19481  Tanzania  2017  ...                Primary education  Remittance Dependent\n",
              "19710  Tanzania  2017  ...                Primary education             No Income\n",
              "19780  Tanzania  2017  ...              No formal education  Remittance Dependent\n",
              "19947  Tanzania  2017  ...              No formal education             No Income\n",
              "19977  Tanzania  2017  ...                Primary education  Remittance Dependent\n",
              "20058  Tanzania  2017  ...              Secondary education  Remittance Dependent\n",
              "20079  Tanzania  2017  ...              No formal education  Remittance Dependent\n",
              "20132  Tanzania  2017  ...              No formal education   Informally employed\n",
              "20513  Tanzania  2017  ...              No formal education             No Income\n",
              "20525  Tanzania  2017  ...              No formal education  Remittance Dependent\n",
              "20747  Tanzania  2017  ...                Primary education  Remittance Dependent\n",
              "20836  Tanzania  2017  ...              Secondary education             No Income\n",
              "20927  Tanzania  2017  ...                Primary education  Remittance Dependent\n",
              "20945  Tanzania  2017  ...              No formal education             No Income\n",
              "21168  Tanzania  2017  ...              Secondary education             No Income\n",
              "21239  Tanzania  2017  ...  Vocational/Specialised training             No Income\n",
              "21401  Tanzania  2017  ...              No formal education             No Income\n",
              "\n",
              "[36 rows x 13 columns]"
            ]
          },
          "metadata": {
            "tags": []
          },
          "execution_count": 16
        }
      ]
    },
    {
      "cell_type": "code",
      "metadata": {
        "id": "1FoeZJwwDzaJ"
      },
      "source": [
        "fin.drop(fin[fin['household_size']<1].index,inplace=True)"
      ],
      "execution_count": 17,
      "outputs": []
    },
    {
      "cell_type": "code",
      "metadata": {
        "colab": {
          "base_uri": "https://localhost:8080/",
          "height": 667
        },
        "id": "XndVzeADGrYN",
        "outputId": "324d255e-dcb9-4080-d013-c089c6c9aab3"
      },
      "source": [
        "#we will also look for recordes where the family size is more than 10\n",
        "fin[fin['household_size']>10]"
      ],
      "execution_count": 18,
      "outputs": [
        {
          "output_type": "execute_result",
          "data": {
            "text/html": [
              "<div>\n",
              "<style scoped>\n",
              "    .dataframe tbody tr th:only-of-type {\n",
              "        vertical-align: middle;\n",
              "    }\n",
              "\n",
              "    .dataframe tbody tr th {\n",
              "        vertical-align: top;\n",
              "    }\n",
              "\n",
              "    .dataframe thead th {\n",
              "        text-align: right;\n",
              "    }\n",
              "</style>\n",
              "<table border=\"1\" class=\"dataframe\">\n",
              "  <thead>\n",
              "    <tr style=\"text-align: right;\">\n",
              "      <th></th>\n",
              "      <th>country</th>\n",
              "      <th>year</th>\n",
              "      <th>uniqueid</th>\n",
              "      <th>Has a Bank account</th>\n",
              "      <th>Type of Location</th>\n",
              "      <th>Cell Phone Access</th>\n",
              "      <th>household_size</th>\n",
              "      <th>Respondent Age</th>\n",
              "      <th>gender_of_respondent</th>\n",
              "      <th>The relathip with head</th>\n",
              "      <th>marital_status</th>\n",
              "      <th>Level of Educuation</th>\n",
              "      <th>Type of Job</th>\n",
              "    </tr>\n",
              "  </thead>\n",
              "  <tbody>\n",
              "    <tr>\n",
              "      <th>58</th>\n",
              "      <td>Kenya</td>\n",
              "      <td>2018</td>\n",
              "      <td>uniqueid_59</td>\n",
              "      <td>No</td>\n",
              "      <td>Rural</td>\n",
              "      <td>Yes</td>\n",
              "      <td>11.0</td>\n",
              "      <td>21.0</td>\n",
              "      <td>Male</td>\n",
              "      <td>Child</td>\n",
              "      <td>Single/Never Married</td>\n",
              "      <td>Other/Dont know/RTA</td>\n",
              "      <td>Informally employed</td>\n",
              "    </tr>\n",
              "    <tr>\n",
              "      <th>348</th>\n",
              "      <td>Kenya</td>\n",
              "      <td>2018</td>\n",
              "      <td>uniqueid_349</td>\n",
              "      <td>No</td>\n",
              "      <td>Urban</td>\n",
              "      <td>Yes</td>\n",
              "      <td>12.0</td>\n",
              "      <td>23.0</td>\n",
              "      <td>Female</td>\n",
              "      <td>Child</td>\n",
              "      <td>Single/Never Married</td>\n",
              "      <td>Secondary education</td>\n",
              "      <td>Self employed</td>\n",
              "    </tr>\n",
              "    <tr>\n",
              "      <th>372</th>\n",
              "      <td>Kenya</td>\n",
              "      <td>2018</td>\n",
              "      <td>uniqueid_373</td>\n",
              "      <td>No</td>\n",
              "      <td>Urban</td>\n",
              "      <td>Yes</td>\n",
              "      <td>16.0</td>\n",
              "      <td>33.0</td>\n",
              "      <td>Female</td>\n",
              "      <td>Spouse</td>\n",
              "      <td>Married/Living together</td>\n",
              "      <td>No formal education</td>\n",
              "      <td>Remittance Dependent</td>\n",
              "    </tr>\n",
              "    <tr>\n",
              "      <th>507</th>\n",
              "      <td>Kenya</td>\n",
              "      <td>2018</td>\n",
              "      <td>uniqueid_508</td>\n",
              "      <td>Yes</td>\n",
              "      <td>Rural</td>\n",
              "      <td>Yes</td>\n",
              "      <td>11.0</td>\n",
              "      <td>41.0</td>\n",
              "      <td>Male</td>\n",
              "      <td>Head of Household</td>\n",
              "      <td>Married/Living together</td>\n",
              "      <td>Primary education</td>\n",
              "      <td>Self employed</td>\n",
              "    </tr>\n",
              "    <tr>\n",
              "      <th>674</th>\n",
              "      <td>Kenya</td>\n",
              "      <td>2018</td>\n",
              "      <td>uniqueid_675</td>\n",
              "      <td>No</td>\n",
              "      <td>Urban</td>\n",
              "      <td>Yes</td>\n",
              "      <td>12.0</td>\n",
              "      <td>34.0</td>\n",
              "      <td>Female</td>\n",
              "      <td>Spouse</td>\n",
              "      <td>Married/Living together</td>\n",
              "      <td>No formal education</td>\n",
              "      <td>Remittance Dependent</td>\n",
              "    </tr>\n",
              "    <tr>\n",
              "      <th>...</th>\n",
              "      <td>...</td>\n",
              "      <td>...</td>\n",
              "      <td>...</td>\n",
              "      <td>...</td>\n",
              "      <td>...</td>\n",
              "      <td>...</td>\n",
              "      <td>...</td>\n",
              "      <td>...</td>\n",
              "      <td>...</td>\n",
              "      <td>...</td>\n",
              "      <td>...</td>\n",
              "      <td>...</td>\n",
              "      <td>...</td>\n",
              "    </tr>\n",
              "    <tr>\n",
              "      <th>23426</th>\n",
              "      <td>Uganda</td>\n",
              "      <td>2018</td>\n",
              "      <td>uniqueid_2007</td>\n",
              "      <td>No</td>\n",
              "      <td>Urban</td>\n",
              "      <td>Yes</td>\n",
              "      <td>13.0</td>\n",
              "      <td>19.0</td>\n",
              "      <td>Male</td>\n",
              "      <td>Parent</td>\n",
              "      <td>Single/Never Married</td>\n",
              "      <td>Secondary education</td>\n",
              "      <td>Self employed</td>\n",
              "    </tr>\n",
              "    <tr>\n",
              "      <th>23452</th>\n",
              "      <td>Uganda</td>\n",
              "      <td>2018</td>\n",
              "      <td>uniqueid_2036</td>\n",
              "      <td>No</td>\n",
              "      <td>Rural</td>\n",
              "      <td>Yes</td>\n",
              "      <td>13.0</td>\n",
              "      <td>48.0</td>\n",
              "      <td>Female</td>\n",
              "      <td>Spouse</td>\n",
              "      <td>Married/Living together</td>\n",
              "      <td>Primary education</td>\n",
              "      <td>Self employed</td>\n",
              "    </tr>\n",
              "    <tr>\n",
              "      <th>23461</th>\n",
              "      <td>Uganda</td>\n",
              "      <td>2018</td>\n",
              "      <td>uniqueid_2046</td>\n",
              "      <td>No</td>\n",
              "      <td>Urban</td>\n",
              "      <td>Yes</td>\n",
              "      <td>13.0</td>\n",
              "      <td>25.0</td>\n",
              "      <td>Female</td>\n",
              "      <td>Spouse</td>\n",
              "      <td>Married/Living together</td>\n",
              "      <td>Primary education</td>\n",
              "      <td>Dont Know/Refuse to answer</td>\n",
              "    </tr>\n",
              "    <tr>\n",
              "      <th>23468</th>\n",
              "      <td>Uganda</td>\n",
              "      <td>2018</td>\n",
              "      <td>uniqueid_2053</td>\n",
              "      <td>No</td>\n",
              "      <td>Urban</td>\n",
              "      <td>Yes</td>\n",
              "      <td>12.0</td>\n",
              "      <td>42.0</td>\n",
              "      <td>Male</td>\n",
              "      <td>Head of Household</td>\n",
              "      <td>Married/Living together</td>\n",
              "      <td>Primary education</td>\n",
              "      <td>Self employed</td>\n",
              "    </tr>\n",
              "    <tr>\n",
              "      <th>23471</th>\n",
              "      <td>Uganda</td>\n",
              "      <td>2018</td>\n",
              "      <td>uniqueid_2056</td>\n",
              "      <td>No</td>\n",
              "      <td>Rural</td>\n",
              "      <td>Yes</td>\n",
              "      <td>15.0</td>\n",
              "      <td>17.0</td>\n",
              "      <td>Female</td>\n",
              "      <td>Other relative</td>\n",
              "      <td>Married/Living together</td>\n",
              "      <td>Secondary education</td>\n",
              "      <td>Self employed</td>\n",
              "    </tr>\n",
              "  </tbody>\n",
              "</table>\n",
              "<p>185 rows × 13 columns</p>\n",
              "</div>"
            ],
            "text/plain": [
              "      country  year  ...  Level of Educuation                 Type of Job\n",
              "58      Kenya  2018  ...  Other/Dont know/RTA         Informally employed\n",
              "348     Kenya  2018  ...  Secondary education               Self employed\n",
              "372     Kenya  2018  ...  No formal education        Remittance Dependent\n",
              "507     Kenya  2018  ...    Primary education               Self employed\n",
              "674     Kenya  2018  ...  No formal education        Remittance Dependent\n",
              "...       ...   ...  ...                  ...                         ...\n",
              "23426  Uganda  2018  ...  Secondary education               Self employed\n",
              "23452  Uganda  2018  ...    Primary education               Self employed\n",
              "23461  Uganda  2018  ...    Primary education  Dont Know/Refuse to answer\n",
              "23468  Uganda  2018  ...    Primary education               Self employed\n",
              "23471  Uganda  2018  ...  Secondary education               Self employed\n",
              "\n",
              "[185 rows x 13 columns]"
            ]
          },
          "metadata": {
            "tags": []
          },
          "execution_count": 18
        }
      ]
    },
    {
      "cell_type": "code",
      "metadata": {
        "id": "MPHKntDGG5RV"
      },
      "source": [
        "#we will drop this records\n",
        "fin.drop(fin[fin['household_size']>10].index,inplace=True)"
      ],
      "execution_count": 19,
      "outputs": []
    },
    {
      "cell_type": "code",
      "metadata": {
        "colab": {
          "base_uri": "https://localhost:8080/",
          "height": 651
        },
        "id": "fhfEdCt_EgpV",
        "outputId": "6ecdf7fd-e94d-49db-aac1-d4b888cd1f66"
      },
      "source": [
        "# we will get all the valus where the age is more than 68\n",
        "#this is the average life expectancy of the population in east africa\n",
        "fin[fin['Respondent Age']>68]"
      ],
      "execution_count": 20,
      "outputs": [
        {
          "output_type": "execute_result",
          "data": {
            "text/html": [
              "<div>\n",
              "<style scoped>\n",
              "    .dataframe tbody tr th:only-of-type {\n",
              "        vertical-align: middle;\n",
              "    }\n",
              "\n",
              "    .dataframe tbody tr th {\n",
              "        vertical-align: top;\n",
              "    }\n",
              "\n",
              "    .dataframe thead th {\n",
              "        text-align: right;\n",
              "    }\n",
              "</style>\n",
              "<table border=\"1\" class=\"dataframe\">\n",
              "  <thead>\n",
              "    <tr style=\"text-align: right;\">\n",
              "      <th></th>\n",
              "      <th>country</th>\n",
              "      <th>year</th>\n",
              "      <th>uniqueid</th>\n",
              "      <th>Has a Bank account</th>\n",
              "      <th>Type of Location</th>\n",
              "      <th>Cell Phone Access</th>\n",
              "      <th>household_size</th>\n",
              "      <th>Respondent Age</th>\n",
              "      <th>gender_of_respondent</th>\n",
              "      <th>The relathip with head</th>\n",
              "      <th>marital_status</th>\n",
              "      <th>Level of Educuation</th>\n",
              "      <th>Type of Job</th>\n",
              "    </tr>\n",
              "  </thead>\n",
              "  <tbody>\n",
              "    <tr>\n",
              "      <th>1</th>\n",
              "      <td>Kenya</td>\n",
              "      <td>2018</td>\n",
              "      <td>uniqueid_2</td>\n",
              "      <td>No</td>\n",
              "      <td>Rural</td>\n",
              "      <td>No</td>\n",
              "      <td>5.0</td>\n",
              "      <td>70.0</td>\n",
              "      <td>Female</td>\n",
              "      <td>Head of Household</td>\n",
              "      <td>Widowed</td>\n",
              "      <td>No formal education</td>\n",
              "      <td>Government Dependent</td>\n",
              "    </tr>\n",
              "    <tr>\n",
              "      <th>9</th>\n",
              "      <td>Kenya</td>\n",
              "      <td>2018</td>\n",
              "      <td>uniqueid_10</td>\n",
              "      <td>No</td>\n",
              "      <td>Urban</td>\n",
              "      <td>Yes</td>\n",
              "      <td>3.0</td>\n",
              "      <td>76.0</td>\n",
              "      <td>Female</td>\n",
              "      <td>Head of Household</td>\n",
              "      <td>Divorced/Seperated</td>\n",
              "      <td>No formal education</td>\n",
              "      <td>Remittance Dependent</td>\n",
              "    </tr>\n",
              "    <tr>\n",
              "      <th>11</th>\n",
              "      <td>Kenya</td>\n",
              "      <td>2018</td>\n",
              "      <td>uniqueid_12</td>\n",
              "      <td>Yes</td>\n",
              "      <td>Rural</td>\n",
              "      <td>Yes</td>\n",
              "      <td>3.0</td>\n",
              "      <td>69.0</td>\n",
              "      <td>Male</td>\n",
              "      <td>Head of Household</td>\n",
              "      <td>Married/Living together</td>\n",
              "      <td>Secondary education</td>\n",
              "      <td>Other Income</td>\n",
              "    </tr>\n",
              "    <tr>\n",
              "      <th>39</th>\n",
              "      <td>Kenya</td>\n",
              "      <td>2018</td>\n",
              "      <td>uniqueid_40</td>\n",
              "      <td>No</td>\n",
              "      <td>Rural</td>\n",
              "      <td>No</td>\n",
              "      <td>3.0</td>\n",
              "      <td>70.0</td>\n",
              "      <td>Male</td>\n",
              "      <td>Head of Household</td>\n",
              "      <td>Married/Living together</td>\n",
              "      <td>No formal education</td>\n",
              "      <td>Farming and Fishing</td>\n",
              "    </tr>\n",
              "    <tr>\n",
              "      <th>42</th>\n",
              "      <td>Kenya</td>\n",
              "      <td>2018</td>\n",
              "      <td>uniqueid_43</td>\n",
              "      <td>Yes</td>\n",
              "      <td>Rural</td>\n",
              "      <td>Yes</td>\n",
              "      <td>3.0</td>\n",
              "      <td>80.0</td>\n",
              "      <td>Male</td>\n",
              "      <td>Head of Household</td>\n",
              "      <td>Widowed</td>\n",
              "      <td>Primary education</td>\n",
              "      <td>Remittance Dependent</td>\n",
              "    </tr>\n",
              "    <tr>\n",
              "      <th>...</th>\n",
              "      <td>...</td>\n",
              "      <td>...</td>\n",
              "      <td>...</td>\n",
              "      <td>...</td>\n",
              "      <td>...</td>\n",
              "      <td>...</td>\n",
              "      <td>...</td>\n",
              "      <td>...</td>\n",
              "      <td>...</td>\n",
              "      <td>...</td>\n",
              "      <td>...</td>\n",
              "      <td>...</td>\n",
              "      <td>...</td>\n",
              "    </tr>\n",
              "    <tr>\n",
              "      <th>23395</th>\n",
              "      <td>Uganda</td>\n",
              "      <td>2018</td>\n",
              "      <td>uniqueid_1976</td>\n",
              "      <td>No</td>\n",
              "      <td>Rural</td>\n",
              "      <td>No</td>\n",
              "      <td>2.0</td>\n",
              "      <td>85.0</td>\n",
              "      <td>Female</td>\n",
              "      <td>Head of Household</td>\n",
              "      <td>Divorced/Seperated</td>\n",
              "      <td>No formal education</td>\n",
              "      <td>Other Income</td>\n",
              "    </tr>\n",
              "    <tr>\n",
              "      <th>23398</th>\n",
              "      <td>Uganda</td>\n",
              "      <td>2018</td>\n",
              "      <td>uniqueid_1979</td>\n",
              "      <td>No</td>\n",
              "      <td>Rural</td>\n",
              "      <td>Yes</td>\n",
              "      <td>5.0</td>\n",
              "      <td>79.0</td>\n",
              "      <td>Male</td>\n",
              "      <td>Head of Household</td>\n",
              "      <td>Married/Living together</td>\n",
              "      <td>Primary education</td>\n",
              "      <td>Self employed</td>\n",
              "    </tr>\n",
              "    <tr>\n",
              "      <th>23413</th>\n",
              "      <td>Uganda</td>\n",
              "      <td>2018</td>\n",
              "      <td>uniqueid_1994</td>\n",
              "      <td>No</td>\n",
              "      <td>Rural</td>\n",
              "      <td>No</td>\n",
              "      <td>5.0</td>\n",
              "      <td>90.0</td>\n",
              "      <td>Male</td>\n",
              "      <td>Head of Household</td>\n",
              "      <td>Married/Living together</td>\n",
              "      <td>No formal education</td>\n",
              "      <td>Self employed</td>\n",
              "    </tr>\n",
              "    <tr>\n",
              "      <th>23425</th>\n",
              "      <td>Uganda</td>\n",
              "      <td>2018</td>\n",
              "      <td>uniqueid_2006</td>\n",
              "      <td>No</td>\n",
              "      <td>Rural</td>\n",
              "      <td>No</td>\n",
              "      <td>4.0</td>\n",
              "      <td>80.0</td>\n",
              "      <td>Female</td>\n",
              "      <td>Head of Household</td>\n",
              "      <td>Widowed</td>\n",
              "      <td>Primary education</td>\n",
              "      <td>Self employed</td>\n",
              "    </tr>\n",
              "    <tr>\n",
              "      <th>23497</th>\n",
              "      <td>Uganda</td>\n",
              "      <td>2018</td>\n",
              "      <td>uniqueid_2085</td>\n",
              "      <td>No</td>\n",
              "      <td>Urban</td>\n",
              "      <td>No</td>\n",
              "      <td>1.0</td>\n",
              "      <td>74.0</td>\n",
              "      <td>Female</td>\n",
              "      <td>Head of Household</td>\n",
              "      <td>Widowed</td>\n",
              "      <td>Secondary education</td>\n",
              "      <td>Other Income</td>\n",
              "    </tr>\n",
              "  </tbody>\n",
              "</table>\n",
              "<p>1558 rows × 13 columns</p>\n",
              "</div>"
            ],
            "text/plain": [
              "      country  year  ...  Level of Educuation           Type of Job\n",
              "1       Kenya  2018  ...  No formal education  Government Dependent\n",
              "9       Kenya  2018  ...  No formal education  Remittance Dependent\n",
              "11      Kenya  2018  ...  Secondary education          Other Income\n",
              "39      Kenya  2018  ...  No formal education   Farming and Fishing\n",
              "42      Kenya  2018  ...    Primary education  Remittance Dependent\n",
              "...       ...   ...  ...                  ...                   ...\n",
              "23395  Uganda  2018  ...  No formal education          Other Income\n",
              "23398  Uganda  2018  ...    Primary education         Self employed\n",
              "23413  Uganda  2018  ...  No formal education         Self employed\n",
              "23425  Uganda  2018  ...    Primary education         Self employed\n",
              "23497  Uganda  2018  ...  Secondary education          Other Income\n",
              "\n",
              "[1558 rows x 13 columns]"
            ]
          },
          "metadata": {
            "tags": []
          },
          "execution_count": 20
        }
      ]
    },
    {
      "cell_type": "code",
      "metadata": {
        "id": "KegybAj6FA1n"
      },
      "source": [
        "#we will drop this values\n",
        "fin.drop(fin[fin['Respondent Age']>68].index,inplace=True)"
      ],
      "execution_count": 21,
      "outputs": []
    },
    {
      "cell_type": "code",
      "metadata": {
        "colab": {
          "base_uri": "https://localhost:8080/",
          "height": 500
        },
        "id": "9d_d8y5IFVRQ",
        "outputId": "545c890a-f0cb-4d36-8860-bcd3957bc45d"
      },
      "source": [
        "#looking at the subplots again\n",
        "plt.figure(figsize=(8,8))\n",
        "plt.title('boxplot')\n",
        "plt.ylabel('scale')\n",
        "fin[['Respondent Age','household_size']].boxplot()\n",
        "plt.show()"
      ],
      "execution_count": 22,
      "outputs": [
        {
          "output_type": "display_data",
          "data": {
            "image/png": "[encoded data removed]",
            "text/plain": [
              "<Figure size 576x576 with 1 Axes>"
            ]
          },
          "metadata": {
            "tags": [],
            "needs_background": "light"
          }
        }
      ]
    },
    {
      "cell_type": "code",
      "metadata": {
        "colab": {
          "base_uri": "https://localhost:8080/",
          "height": 294
        },
        "id": "YaHeKVDhGOnB",
        "outputId": "6d414c7a-6f22-46b1-b578-5079aa204892"
      },
      "source": [
        "fin[['Respondent Age','household_size']].describe()"
      ],
      "execution_count": 23,
      "outputs": [
        {
          "output_type": "execute_result",
          "data": {
            "text/html": [
              "<div>\n",
              "<style scoped>\n",
              "    .dataframe tbody tr th:only-of-type {\n",
              "        vertical-align: middle;\n",
              "    }\n",
              "\n",
              "    .dataframe tbody tr th {\n",
              "        vertical-align: top;\n",
              "    }\n",
              "\n",
              "    .dataframe thead th {\n",
              "        text-align: right;\n",
              "    }\n",
              "</style>\n",
              "<table border=\"1\" class=\"dataframe\">\n",
              "  <thead>\n",
              "    <tr style=\"text-align: right;\">\n",
              "      <th></th>\n",
              "      <th>Respondent Age</th>\n",
              "      <th>household_size</th>\n",
              "    </tr>\n",
              "  </thead>\n",
              "  <tbody>\n",
              "    <tr>\n",
              "      <th>count</th>\n",
              "      <td>21561.000000</td>\n",
              "      <td>21561.000000</td>\n",
              "    </tr>\n",
              "    <tr>\n",
              "      <th>mean</th>\n",
              "      <td>36.090766</td>\n",
              "      <td>3.699365</td>\n",
              "    </tr>\n",
              "    <tr>\n",
              "      <th>std</th>\n",
              "      <td>13.361916</td>\n",
              "      <td>2.156873</td>\n",
              "    </tr>\n",
              "    <tr>\n",
              "      <th>min</th>\n",
              "      <td>16.000000</td>\n",
              "      <td>1.000000</td>\n",
              "    </tr>\n",
              "    <tr>\n",
              "      <th>25%</th>\n",
              "      <td>25.000000</td>\n",
              "      <td>2.000000</td>\n",
              "    </tr>\n",
              "    <tr>\n",
              "      <th>50%</th>\n",
              "      <td>34.000000</td>\n",
              "      <td>3.000000</td>\n",
              "    </tr>\n",
              "    <tr>\n",
              "      <th>75%</th>\n",
              "      <td>45.000000</td>\n",
              "      <td>5.000000</td>\n",
              "    </tr>\n",
              "    <tr>\n",
              "      <th>max</th>\n",
              "      <td>68.000000</td>\n",
              "      <td>10.000000</td>\n",
              "    </tr>\n",
              "  </tbody>\n",
              "</table>\n",
              "</div>"
            ],
            "text/plain": [
              "       Respondent Age  household_size\n",
              "count    21561.000000    21561.000000\n",
              "mean        36.090766        3.699365\n",
              "std         13.361916        2.156873\n",
              "min         16.000000        1.000000\n",
              "25%         25.000000        2.000000\n",
              "50%         34.000000        3.000000\n",
              "75%         45.000000        5.000000\n",
              "max         68.000000       10.000000"
            ]
          },
          "metadata": {
            "tags": []
          },
          "execution_count": 23
        }
      ]
    },
    {
      "cell_type": "code",
      "metadata": {
        "colab": {
          "base_uri": "https://localhost:8080/"
        },
        "id": "oKHCNhvIXb1K",
        "outputId": "7bd6fb33-d373-4d5f-8857-868eb0eb5d41"
      },
      "source": [
        "fin.columns"
      ],
      "execution_count": 24,
      "outputs": [
        {
          "output_type": "execute_result",
          "data": {
            "text/plain": [
              "Index(['country', 'year', 'uniqueid', 'Has a Bank account', 'Type of Location',\n",
              "       'Cell Phone Access', 'household_size', 'Respondent Age',\n",
              "       'gender_of_respondent', 'The relathip with head', 'marital_status',\n",
              "       'Level of Educuation', 'Type of Job'],\n",
              "      dtype='object')"
            ]
          },
          "metadata": {
            "tags": []
          },
          "execution_count": 24
        }
      ]
    },
    {
      "cell_type": "code",
      "metadata": {
        "id": "xsat74eYXPaN"
      },
      "source": [
        "#checking for anormalies\n",
        "#we will first start with renaming some of the columns that were not gramatically correct\n",
        "fin.rename(columns={'The relathip with head':'The relationship with household head','Level of Educuation':'Level of education'},inplace=True)"
      ],
      "execution_count": 25,
      "outputs": []
    },
    {
      "cell_type": "markdown",
      "metadata": {
        "id": "pso3FZzKHfB7"
      },
      "source": [
        "##univariate analysis"
      ]
    },
    {
      "cell_type": "markdown",
      "metadata": {
        "id": "Pt04jR6vHo0j"
      },
      "source": [
        "##### Has a Bank account"
      ]
    },
    {
      "cell_type": "code",
      "metadata": {
        "colab": {
          "base_uri": "https://localhost:8080/",
          "height": 504
        },
        "id": "np6JQAxiH1Gb",
        "outputId": "5c137d6a-bc86-4e9a-b967-383bc926721b"
      },
      "source": [
        "# this is our column of interest\n",
        "plt.figure(figsize=(8,8))\n",
        "plt.title('bar chart')\n",
        "plt.ylabel('number of people')\n",
        "color=['red','green']\n",
        "fin['Has a Bank account'].value_counts().plot(kind='bar',color=color)\n",
        "plt.show()\n",
        "\n",
        "# we can see that most respondents did not have a bank account"
      ],
      "execution_count": 26,
      "outputs": [
        {
          "output_type": "display_data",
          "data": {
            "image/png": "[encoded data removed]",
            "text/plain": [
              "<Figure size 576x576 with 1 Axes>"
            ]
          },
          "metadata": {
            "tags": [],
            "needs_background": "light"
          }
        }
      ]
    },
    {
      "cell_type": "markdown",
      "metadata": {
        "id": "gSeW_8giIuQS"
      },
      "source": [
        "##### Type of Location"
      ]
    },
    {
      "cell_type": "code",
      "metadata": {
        "colab": {
          "base_uri": "https://localhost:8080/",
          "height": 373
        },
        "id": "6HBeQ8xRIpxh",
        "outputId": "e1fc4b3b-190d-40eb-d4f4-80d6f0600ad5"
      },
      "source": [
        "plt.figure(figsize=(6,6))\n",
        "plt.title('location of respondent residence')\n",
        "explode=0.1,0\n",
        "fin['Type of Location'].value_counts().plot(kind='pie',explode=explode, autopct='%1.3f%%')\n",
        "plt.show()\n",
        "\n",
        "#we can see most responddnents were in te rural areas"
      ],
      "execution_count": 27,
      "outputs": [
        {
          "output_type": "display_data",
          "data": {
            "image/png": "[encoded data removed]",
            "text/plain": [
              "<Figure size 432x432 with 1 Axes>"
            ]
          },
          "metadata": {
            "tags": []
          }
        }
      ]
    },
    {
      "cell_type": "markdown",
      "metadata": {
        "id": "VEd6k8i6KVhl"
      },
      "source": [
        "##### Cell Phone Acess"
      ]
    },
    {
      "cell_type": "code",
      "metadata": {
        "colab": {
          "base_uri": "https://localhost:8080/",
          "height": 373
        },
        "id": "ZrhxIIr9KbS8",
        "outputId": "6fa15b77-40a7-435e-a880-b2a53779a09a"
      },
      "source": [
        "plt.figure(figsize=(6,6))\n",
        "plt.title('whether respondent has a cell phone')\n",
        "explode=0.1,0\n",
        "color=['green','red']\n",
        "fin['Cell Phone Access'].value_counts().plot(kind='pie',explode=explode, autopct='%1.3f%%',colors=color)\n",
        "plt.show()\n",
        "\n",
        "# most respondndetns have access to mobile phones"
      ],
      "execution_count": 28,
      "outputs": [
        {
          "output_type": "display_data",
          "data": {
            "image/png": "[encoded data removed]",
            "text/plain": [
              "<Figure size 432x432 with 1 Axes>"
            ]
          },
          "metadata": {
            "tags": []
          }
        }
      ]
    },
    {
      "cell_type": "markdown",
      "metadata": {
        "id": "2NGqwEHZK7p7"
      },
      "source": [
        "##### gender_of_respondent"
      ]
    },
    {
      "cell_type": "code",
      "metadata": {
        "colab": {
          "base_uri": "https://localhost:8080/",
          "height": 373
        },
        "id": "fvbSosXIK1Rb",
        "outputId": "ed509edd-480d-4ac5-bf20-a59541d0b6a7"
      },
      "source": [
        "plt.figure(figsize=(6,6))\n",
        "plt.title('gender of the respondent')\n",
        "explode=0.1,0\n",
        "fin['gender_of_respondent'].value_counts().plot(kind='pie',explode=explode, autopct='%1.3f%%')\n",
        "plt.show()\n",
        "\n",
        "#most respondnents were female"
      ],
      "execution_count": 29,
      "outputs": [
        {
          "output_type": "display_data",
          "data": {
            "image/png": "[encoded data removed]",
            "text/plain": [
              "<Figure size 432x432 with 1 Axes>"
            ]
          },
          "metadata": {
            "tags": []
          }
        }
      ]
    },
    {
      "cell_type": "markdown",
      "metadata": {
        "id": "DZ_tW-_lMYnV"
      },
      "source": [
        "##### The relationship with head"
      ]
    },
    {
      "cell_type": "code",
      "metadata": {
        "colab": {
          "base_uri": "https://localhost:8080/",
          "height": 585
        },
        "id": "gyGHRcfrLqJQ",
        "outputId": "6319e876-4a1f-45e2-aa6d-56e897e07929"
      },
      "source": [
        "plt.figure(figsize=(8,8))\n",
        "plt.title('The relationship with head')\n",
        "plt.ylabel('count')\n",
        "fin['The relationship with household head'].value_counts().plot(kind='bar')\n",
        "plt.show()"
      ],
      "execution_count": 30,
      "outputs": [
        {
          "output_type": "display_data",
          "data": {
            "image/png": "[encoded data removed]",
            "text/plain": [
              "<Figure size 576x576 with 1 Axes>"
            ]
          },
          "metadata": {
            "tags": [],
            "needs_background": "light"
          }
        }
      ]
    },
    {
      "cell_type": "markdown",
      "metadata": {
        "id": "kXIhrAi7MUwu"
      },
      "source": [
        "##### marital_status"
      ]
    },
    {
      "cell_type": "code",
      "metadata": {
        "colab": {
          "base_uri": "https://localhost:8080/"
        },
        "id": "PH8yRDuHbEQn",
        "outputId": "210d7e00-efa6-4667-8047-1fb26be6935b"
      },
      "source": [
        "fin['marital_status'].value_counts()"
      ],
      "execution_count": 31,
      "outputs": [
        {
          "output_type": "execute_result",
          "data": {
            "text/plain": [
              "Married/Living together    10127\n",
              "Single/Never Married        7636\n",
              "Divorced/Seperated          1971\n",
              "Widowed                     1820\n",
              "Dont know                      7\n",
              "Name: marital_status, dtype: int64"
            ]
          },
          "metadata": {
            "tags": []
          },
          "execution_count": 31
        }
      ]
    },
    {
      "cell_type": "code",
      "metadata": {
        "colab": {
          "base_uri": "https://localhost:8080/",
          "height": 482
        },
        "id": "kBGkXPsnMOM1",
        "outputId": "821bbf17-b277-4c5c-bcf4-5ef295940c27"
      },
      "source": [
        "#we will relabel the status 'Dont Know' into divorced or separated\n",
        "fin['marital_status']=fin['marital_status'].replace('Dont know','Divorced/Seperated')\n",
        "\n",
        "# we will make a plot to show the martial status\n",
        "plt.figure(figsize=(8,8))\n",
        "plt.title('marital status of respondent')\n",
        "explode=0,0,0,0.1\n",
        "fin['marital_status'].value_counts().plot(kind='pie',explode=explode,autopct='%1.3f%%')\n",
        "plt.show()\n",
        "\n",
        "#most respondnets were married/ living together"
      ],
      "execution_count": 32,
      "outputs": [
        {
          "output_type": "display_data",
          "data": {
            "image/png": "[encoded data removed]",
            "text/plain": [
              "<Figure size 576x576 with 1 Axes>"
            ]
          },
          "metadata": {
            "tags": []
          }
        }
      ]
    },
    {
      "cell_type": "markdown",
      "metadata": {
        "id": "S0ZIDJUEQd4x"
      },
      "source": [
        "##### Type of Job"
      ]
    },
    {
      "cell_type": "code",
      "metadata": {
        "colab": {
          "base_uri": "https://localhost:8080/"
        },
        "id": "XSU7Axs0Nlm5",
        "outputId": "04a278e9-282d-42a0-bc82-68719736432c"
      },
      "source": [
        "fin['Type of Job'].value_counts()"
      ],
      "execution_count": 33,
      "outputs": [
        {
          "output_type": "execute_result",
          "data": {
            "text/plain": [
              "Self employed                   6018\n",
              "Informally employed             5403\n",
              "Farming and Fishing             4879\n",
              "Remittance Dependent            2110\n",
              "Formally employed Private       1031\n",
              "Other Income                     975\n",
              "No Income                        544\n",
              "Formally employed Government     384\n",
              "Dont Know/Refuse to answer       117\n",
              "Government Dependent             100\n",
              "Name: Type of Job, dtype: int64"
            ]
          },
          "metadata": {
            "tags": []
          },
          "execution_count": 33
        }
      ]
    },
    {
      "cell_type": "code",
      "metadata": {
        "id": "5ZT7TjtfO563"
      },
      "source": [
        "#we will combine the remintance dependnent and government dependent into one label known as dependnent \n",
        "#those who refused to answer can be labelled into other income\n",
        "fin[\"Type of Job\"]= fin[\"Type of Job\"].replace('Government Dependent', \"dependent\")\n",
        "fin[\"Type of Job\"]= fin[\"Type of Job\"].replace('Remittance Dependent', \"dependent\")\n",
        "fin[\"Type of Job\"]= fin[\"Type of Job\"].replace('Dont Know/Refuse to answer', \"Other Income\")"
      ],
      "execution_count": 34,
      "outputs": []
    },
    {
      "cell_type": "code",
      "metadata": {
        "colab": {
          "base_uri": "https://localhost:8080/",
          "height": 513
        },
        "id": "PSxFWLcZQBNM",
        "outputId": "a0ee7b9a-ff52-47fc-9acc-f6282afb95d4"
      },
      "source": [
        "plt.figure(figsize=(8,8))\n",
        "plt.title(' respondent job type')\n",
        "plt.xlabel('count')\n",
        "fin['Type of Job'].value_counts().plot(kind='barh')\n",
        "plt.show()"
      ],
      "execution_count": 35,
      "outputs": [
        {
          "output_type": "display_data",
          "data": {
            "image/png": "[encoded data removed]",
            "text/plain": [
              "<Figure size 576x576 with 1 Axes>"
            ]
          },
          "metadata": {
            "tags": [],
            "needs_background": "light"
          }
        }
      ]
    },
    {
      "cell_type": "markdown",
      "metadata": {
        "id": "q1iAWXCHQkLh"
      },
      "source": [
        "## Bivariate Analysis"
      ]
    },
    {
      "cell_type": "markdown",
      "metadata": {
        "id": "kyNCkNGFQpjk"
      },
      "source": [
        "###### we will look at the relationship between 'Has a Bank account' and the other features"
      ]
    },
    {
      "cell_type": "markdown",
      "metadata": {
        "id": "TYmlbDmHQ5zK"
      },
      "source": [
        "##### Has a Bank account and country"
      ]
    },
    {
      "cell_type": "code",
      "metadata": {
        "colab": {
          "base_uri": "https://localhost:8080/",
          "height": 232
        },
        "id": "RcCnU2SRRjQy",
        "outputId": "0cd933e1-4bbd-4729-82be-05893d5fdd77"
      },
      "source": [
        "pd.crosstab(fin.country,fin['Has a Bank account'],margins=True,margins_name='Total')\n",
        "\n",
        "# In Rwanda, most of the respondnents had bank accounts\n",
        "#Uganda had the least"
      ],
      "execution_count": 36,
      "outputs": [
        {
          "output_type": "execute_result",
          "data": {
            "text/html": [
              "<div>\n",
              "<style scoped>\n",
              "    .dataframe tbody tr th:only-of-type {\n",
              "        vertical-align: middle;\n",
              "    }\n",
              "\n",
              "    .dataframe tbody tr th {\n",
              "        vertical-align: top;\n",
              "    }\n",
              "\n",
              "    .dataframe thead th {\n",
              "        text-align: right;\n",
              "    }\n",
              "</style>\n",
              "<table border=\"1\" class=\"dataframe\">\n",
              "  <thead>\n",
              "    <tr style=\"text-align: right;\">\n",
              "      <th>Has a Bank account</th>\n",
              "      <th>No</th>\n",
              "      <th>Yes</th>\n",
              "      <th>Total</th>\n",
              "    </tr>\n",
              "    <tr>\n",
              "      <th>country</th>\n",
              "      <th></th>\n",
              "      <th></th>\n",
              "      <th></th>\n",
              "    </tr>\n",
              "  </thead>\n",
              "  <tbody>\n",
              "    <tr>\n",
              "      <th>Kenya</th>\n",
              "      <td>4098</td>\n",
              "      <td>1398</td>\n",
              "      <td>5496</td>\n",
              "    </tr>\n",
              "    <tr>\n",
              "      <th>Rwanda</th>\n",
              "      <td>7127</td>\n",
              "      <td>961</td>\n",
              "      <td>8088</td>\n",
              "    </tr>\n",
              "    <tr>\n",
              "      <th>Tanzania</th>\n",
              "      <td>5475</td>\n",
              "      <td>578</td>\n",
              "      <td>6053</td>\n",
              "    </tr>\n",
              "    <tr>\n",
              "      <th>Uganda</th>\n",
              "      <td>1755</td>\n",
              "      <td>169</td>\n",
              "      <td>1924</td>\n",
              "    </tr>\n",
              "    <tr>\n",
              "      <th>Total</th>\n",
              "      <td>18455</td>\n",
              "      <td>3106</td>\n",
              "      <td>21561</td>\n",
              "    </tr>\n",
              "  </tbody>\n",
              "</table>\n",
              "</div>"
            ],
            "text/plain": [
              "Has a Bank account     No   Yes  Total\n",
              "country                               \n",
              "Kenya                4098  1398   5496\n",
              "Rwanda               7127   961   8088\n",
              "Tanzania             5475   578   6053\n",
              "Uganda               1755   169   1924\n",
              "Total               18455  3106  21561"
            ]
          },
          "metadata": {
            "tags": []
          },
          "execution_count": 36
        }
      ]
    },
    {
      "cell_type": "code",
      "metadata": {
        "colab": {
          "base_uri": "https://localhost:8080/",
          "height": 328
        },
        "id": "oy0iL2zbHpmX",
        "outputId": "0ddfa4b1-cd7a-4ce8-8926-6fa1939d0bc6"
      },
      "source": [
        "a=pd.crosstab(fin.country,fin['Has a Bank account'])\n",
        "color=['red','green']\n",
        "a.plot.bar(color=color)\n",
        "plt.ylabel('count')\n",
        "plt.title('bar chart of those with and without bank accounts')\n",
        "plt.show()"
      ],
      "execution_count": 37,
      "outputs": [
        {
          "output_type": "display_data",
          "data": {
            "image/png": "[encoded data removed]",
            "text/plain": [
              "<Figure size 432x288 with 1 Axes>"
            ]
          },
          "metadata": {
            "tags": [],
            "needs_background": "light"
          }
        }
      ]
    },
    {
      "cell_type": "markdown",
      "metadata": {
        "id": "tUBck34UJwAm"
      },
      "source": [
        "- most people had no bank accounts in all the countries compared to those that had"
      ]
    },
    {
      "cell_type": "code",
      "metadata": {
        "colab": {
          "base_uri": "https://localhost:8080/"
        },
        "id": "TA6XgbklID-z",
        "outputId": "d04d6b45-4b3f-4083-a4e8-375f2e721763"
      },
      "source": [
        "stats.chi2_contingency(a)\n",
        "#the chi2 statistic is 749, the degrees of freedom are 3 and the p-values is 4.3557\n",
        "#the p-value is greater than the threshold of 0.05\n",
        "#because of this we fail to reject the null hypothesis that the country and acess to bank services are independent"
      ],
      "execution_count": 38,
      "outputs": [
        {
          "output_type": "execute_result",
          "data": {
            "text/plain": [
              "(749.2647333580613,\n",
              " 4.35578653272212e-162,\n",
              " 3,\n",
              " array([[4704.2660359 ,  791.7339641 ],\n",
              "        [6922.87185195, 1165.12814805],\n",
              "        [5181.02662214,  871.97337786],\n",
              "        [1646.83549001,  277.16450999]]))"
            ]
          },
          "metadata": {
            "tags": []
          },
          "execution_count": 38
        }
      ]
    },
    {
      "cell_type": "markdown",
      "metadata": {
        "id": "h_bF-hmmSiIJ"
      },
      "source": [
        "##### has bank account and location"
      ]
    },
    {
      "cell_type": "code",
      "metadata": {
        "colab": {
          "base_uri": "https://localhost:8080/",
          "height": 171
        },
        "id": "NvNTI3L7Ssez",
        "outputId": "4277ae96-8723-47fb-ea39-9944fafbd9dd"
      },
      "source": [
        "pd.crosstab(fin['Type of Location'],fin['Has a Bank account'],margins=True,margins_name='Total')\n",
        "\n",
        "#most respondnents in rural areas did not have bank accounts\n",
        "# the proportion of those who had bank accounts in the urban and rural areas was not that different.\n",
        "# this can imply if there were more respondnents from the urban areas aswell, then the number of those with accounts would be higher "
      ],
      "execution_count": 39,
      "outputs": [
        {
          "output_type": "execute_result",
          "data": {
            "text/html": [
              "<div>\n",
              "<style scoped>\n",
              "    .dataframe tbody tr th:only-of-type {\n",
              "        vertical-align: middle;\n",
              "    }\n",
              "\n",
              "    .dataframe tbody tr th {\n",
              "        vertical-align: top;\n",
              "    }\n",
              "\n",
              "    .dataframe thead th {\n",
              "        text-align: right;\n",
              "    }\n",
              "</style>\n",
              "<table border=\"1\" class=\"dataframe\">\n",
              "  <thead>\n",
              "    <tr style=\"text-align: right;\">\n",
              "      <th>Has a Bank account</th>\n",
              "      <th>No</th>\n",
              "      <th>Yes</th>\n",
              "      <th>Total</th>\n",
              "    </tr>\n",
              "    <tr>\n",
              "      <th>Type of Location</th>\n",
              "      <th></th>\n",
              "      <th></th>\n",
              "      <th></th>\n",
              "    </tr>\n",
              "  </thead>\n",
              "  <tbody>\n",
              "    <tr>\n",
              "      <th>Rural</th>\n",
              "      <td>11563</td>\n",
              "      <td>1529</td>\n",
              "      <td>13092</td>\n",
              "    </tr>\n",
              "    <tr>\n",
              "      <th>Urban</th>\n",
              "      <td>6892</td>\n",
              "      <td>1577</td>\n",
              "      <td>8469</td>\n",
              "    </tr>\n",
              "    <tr>\n",
              "      <th>Total</th>\n",
              "      <td>18455</td>\n",
              "      <td>3106</td>\n",
              "      <td>21561</td>\n",
              "    </tr>\n",
              "  </tbody>\n",
              "</table>\n",
              "</div>"
            ],
            "text/plain": [
              "Has a Bank account     No   Yes  Total\n",
              "Type of Location                      \n",
              "Rural               11563  1529  13092\n",
              "Urban                6892  1577   8469\n",
              "Total               18455  3106  21561"
            ]
          },
          "metadata": {
            "tags": []
          },
          "execution_count": 39
        }
      ]
    },
    {
      "cell_type": "code",
      "metadata": {
        "colab": {
          "base_uri": "https://localhost:8080/",
          "height": 301
        },
        "id": "7wuIdZXXJjcd",
        "outputId": "3c43ba46-0e8d-4ffd-96ca-d589f13d615c"
      },
      "source": [
        "loc_acc=pd.crosstab(fin['Type of Location'],fin['Has a Bank account'])\n",
        "color=['red','green']\n",
        "loc_acc.plot.bar(color=color)\n",
        "\n",
        "plt.ylabel('count')\n",
        "plt.show()"
      ],
      "execution_count": 40,
      "outputs": [
        {
          "output_type": "display_data",
          "data": {
            "image/png": "[encoded data removed]",
            "text/plain": [
              "<Figure size 432x288 with 1 Axes>"
            ]
          },
          "metadata": {
            "tags": [],
            "needs_background": "light"
          }
        }
      ]
    },
    {
      "cell_type": "markdown",
      "metadata": {
        "id": "G4aHaN3LKD6N"
      },
      "source": [
        "- Across all locations, the number of people without bank accounts is more than those with bank accounts\n",
        "- The number of people with acess to bank services is slightly higher in urban areas than in rural areas"
      ]
    },
    {
      "cell_type": "code",
      "metadata": {
        "colab": {
          "base_uri": "https://localhost:8080/"
        },
        "id": "AWLPIhq7KlmT",
        "outputId": "eecb7cb3-f585-45ad-9d2f-c618a348b641"
      },
      "source": [
        "stats.chi2_contingency(loc_acc)\n",
        "\n",
        "# we have a chi2 statistic of 200 and a pvalue that is less than the 0.05 threshold\n",
        "#because of this we reject the null hypothesis that says there is no dependence between the location and accesibily of bank services\n",
        "# this result implies that there is a relationship between the location of the respondent and the the accesibility of bank services"
      ],
      "execution_count": 41,
      "outputs": [
        {
          "output_type": "execute_result",
          "data": {
            "text/plain": [
              "(200.41901043252508,\n",
              " 1.6919787717154862e-45,\n",
              " 1,\n",
              " array([[11206.01363573,  1885.98636427],\n",
              "        [ 7248.98636427,  1220.01363573]]))"
            ]
          },
          "metadata": {
            "tags": []
          },
          "execution_count": 41
        }
      ]
    },
    {
      "cell_type": "markdown",
      "metadata": {
        "id": "R8IXOhBVVEQa"
      },
      "source": [
        "##### has bank account and has accesss to mobile phones"
      ]
    },
    {
      "cell_type": "code",
      "metadata": {
        "colab": {
          "base_uri": "https://localhost:8080/",
          "height": 171
        },
        "id": "ay8lSY6LVNmn",
        "outputId": "85686709-cd36-4b92-8976-25bc224784c3"
      },
      "source": [
        "pd.crosstab(fin['Cell Phone Access'],fin['Has a Bank account'],margins=True,margins_name='Total')\n",
        "\n",
        "#Most people who had acess to cell phones did not have bank accounts\n",
        "#thos who had bank accounts and had cell phones were more than those who had bank accounts did not have cell phonescell"
      ],
      "execution_count": 42,
      "outputs": [
        {
          "output_type": "execute_result",
          "data": {
            "text/html": [
              "<div>\n",
              "<style scoped>\n",
              "    .dataframe tbody tr th:only-of-type {\n",
              "        vertical-align: middle;\n",
              "    }\n",
              "\n",
              "    .dataframe tbody tr th {\n",
              "        vertical-align: top;\n",
              "    }\n",
              "\n",
              "    .dataframe thead th {\n",
              "        text-align: right;\n",
              "    }\n",
              "</style>\n",
              "<table border=\"1\" class=\"dataframe\">\n",
              "  <thead>\n",
              "    <tr style=\"text-align: right;\">\n",
              "      <th>Has a Bank account</th>\n",
              "      <th>No</th>\n",
              "      <th>Yes</th>\n",
              "      <th>Total</th>\n",
              "    </tr>\n",
              "    <tr>\n",
              "      <th>Cell Phone Access</th>\n",
              "      <th></th>\n",
              "      <th></th>\n",
              "      <th></th>\n",
              "    </tr>\n",
              "  </thead>\n",
              "  <tbody>\n",
              "    <tr>\n",
              "      <th>No</th>\n",
              "      <td>5061</td>\n",
              "      <td>64</td>\n",
              "      <td>5125</td>\n",
              "    </tr>\n",
              "    <tr>\n",
              "      <th>Yes</th>\n",
              "      <td>13394</td>\n",
              "      <td>3042</td>\n",
              "      <td>16436</td>\n",
              "    </tr>\n",
              "    <tr>\n",
              "      <th>Total</th>\n",
              "      <td>18455</td>\n",
              "      <td>3106</td>\n",
              "      <td>21561</td>\n",
              "    </tr>\n",
              "  </tbody>\n",
              "</table>\n",
              "</div>"
            ],
            "text/plain": [
              "Has a Bank account     No   Yes  Total\n",
              "Cell Phone Access                     \n",
              "No                   5061    64   5125\n",
              "Yes                 13394  3042  16436\n",
              "Total               18455  3106  21561"
            ]
          },
          "metadata": {
            "tags": []
          },
          "execution_count": 42
        }
      ]
    },
    {
      "cell_type": "code",
      "metadata": {
        "colab": {
          "base_uri": "https://localhost:8080/",
          "height": 301
        },
        "id": "IVN_4KG_MZJJ",
        "outputId": "e6458e49-d480-4ab6-c89b-4904cf065bf1"
      },
      "source": [
        "cell_acc=pd.crosstab(fin['Cell Phone Access'],fin['Has a Bank account'])\n",
        "color=['red','green']\n",
        "cell_acc.plot.bar(color=color)\n",
        "plt.title('access to bank account and cell phone')\n",
        "plt.ylabel('count')\n",
        "plt.show()"
      ],
      "execution_count": 43,
      "outputs": [
        {
          "output_type": "display_data",
          "data": {
            "image/png": "[encoded data removed]",
            "text/plain": [
              "<Figure size 432x288 with 1 Axes>"
            ]
          },
          "metadata": {
            "tags": [],
            "needs_background": "light"
          }
        }
      ]
    },
    {
      "cell_type": "markdown",
      "metadata": {
        "id": "DFhfFaeOOtSX"
      },
      "source": [
        "- we can see that most people who had phone cell devices didn't have bank accounts\n",
        "- We can se that most people who had bank accounts had phone cells services"
      ]
    },
    {
      "cell_type": "code",
      "metadata": {
        "colab": {
          "base_uri": "https://localhost:8080/"
        },
        "id": "pXfpvQVvPI0r",
        "outputId": "345863b8-bf3d-461e-b2aa-b9fbe09b867c"
      },
      "source": [
        "#we will run a chi2 contignecy test to test for independnecy of the tow columns\n",
        "stats.chi2_contingency(cell_acc)\n"
      ],
      "execution_count": 44,
      "outputs": [
        {
          "output_type": "execute_result",
          "data": {
            "text/plain": [
              "(942.429953038965,\n",
              " 5.865321473962477e-207,\n",
              " 1,\n",
              " array([[ 4386.7109596,   738.2890404],\n",
              "        [14068.2890404,  2367.7109596]]))"
            ]
          },
          "metadata": {
            "tags": []
          },
          "execution_count": 44
        }
      ]
    },
    {
      "cell_type": "markdown",
      "metadata": {
        "id": "LeZOXgs6Pe9h"
      },
      "source": [
        "- From the chi2_contingency() test, we had a chi2 statistic of 942 and a p-value that was less than the 0.05 thresshold\n",
        "- because of this, we reject the null hypothesis which states that the two columns are independent\n",
        "- By rejecting the null, we imply that there is an influence by phone cell acess to bank access."
      ]
    },
    {
      "cell_type": "markdown",
      "metadata": {
        "id": "XfXFYCp7WAnu"
      },
      "source": [
        "#### has bank account and gender"
      ]
    },
    {
      "cell_type": "code",
      "metadata": {
        "colab": {
          "base_uri": "https://localhost:8080/",
          "height": 171
        },
        "id": "p-p4gjAwWFNc",
        "outputId": "c49769cb-e634-4a08-f97d-ff90acbf2c50"
      },
      "source": [
        "pd.crosstab(fin['gender_of_respondent'],fin['Has a Bank account'],margins=True,margins_name='Total')\n",
        "\n",
        "#most males had bank accounts than the females respondnents\n",
        "#the number of females who did not have bank accounts were more than the male respondnets"
      ],
      "execution_count": 45,
      "outputs": [
        {
          "output_type": "execute_result",
          "data": {
            "text/html": [
              "<div>\n",
              "<style scoped>\n",
              "    .dataframe tbody tr th:only-of-type {\n",
              "        vertical-align: middle;\n",
              "    }\n",
              "\n",
              "    .dataframe tbody tr th {\n",
              "        vertical-align: top;\n",
              "    }\n",
              "\n",
              "    .dataframe thead th {\n",
              "        text-align: right;\n",
              "    }\n",
              "</style>\n",
              "<table border=\"1\" class=\"dataframe\">\n",
              "  <thead>\n",
              "    <tr style=\"text-align: right;\">\n",
              "      <th>Has a Bank account</th>\n",
              "      <th>No</th>\n",
              "      <th>Yes</th>\n",
              "      <th>Total</th>\n",
              "    </tr>\n",
              "    <tr>\n",
              "      <th>gender_of_respondent</th>\n",
              "      <th></th>\n",
              "      <th></th>\n",
              "      <th></th>\n",
              "    </tr>\n",
              "  </thead>\n",
              "  <tbody>\n",
              "    <tr>\n",
              "      <th>Female</th>\n",
              "      <td>11279</td>\n",
              "      <td>1402</td>\n",
              "      <td>12681</td>\n",
              "    </tr>\n",
              "    <tr>\n",
              "      <th>Male</th>\n",
              "      <td>7176</td>\n",
              "      <td>1704</td>\n",
              "      <td>8880</td>\n",
              "    </tr>\n",
              "    <tr>\n",
              "      <th>Total</th>\n",
              "      <td>18455</td>\n",
              "      <td>3106</td>\n",
              "      <td>21561</td>\n",
              "    </tr>\n",
              "  </tbody>\n",
              "</table>\n",
              "</div>"
            ],
            "text/plain": [
              "Has a Bank account       No   Yes  Total\n",
              "gender_of_respondent                    \n",
              "Female                11279  1402  12681\n",
              "Male                   7176  1704   8880\n",
              "Total                 18455  3106  21561"
            ]
          },
          "metadata": {
            "tags": []
          },
          "execution_count": 45
        }
      ]
    },
    {
      "cell_type": "code",
      "metadata": {
        "colab": {
          "base_uri": "https://localhost:8080/",
          "height": 322
        },
        "id": "TwGaUeCoW_NK",
        "outputId": "439d433e-7428-4dbf-a8a7-3a864876a1b1"
      },
      "source": [
        "gend_acc=pd.crosstab(fin['gender_of_respondent'],fin['Has a Bank account'])\n",
        "color=['red','green']\n",
        "gend_acc.plot.bar(stacked=True,color=color)\n",
        "plt.title('bar chart')\n",
        "plt.ylabel('count')\n",
        "plt.show()"
      ],
      "execution_count": 46,
      "outputs": [
        {
          "output_type": "display_data",
          "data": {
            "image/png": "[encoded data removed]",
            "text/plain": [
              "<Figure size 432x288 with 1 Axes>"
            ]
          },
          "metadata": {
            "tags": [],
            "needs_background": "light"
          }
        }
      ]
    },
    {
      "cell_type": "markdown",
      "metadata": {
        "id": "pkt_xGHuQPlG"
      },
      "source": [
        "- we can see that most females did not have bank accounts\n",
        "- we can also see that most males had bank accounts than their female counterparts"
      ]
    },
    {
      "cell_type": "code",
      "metadata": {
        "colab": {
          "base_uri": "https://localhost:8080/"
        },
        "id": "GulWvONyQQDu",
        "outputId": "6a2db8e8-2b4e-4db2-938e-6cd3acd74974"
      },
      "source": [
        "#we will run a chi squared test for independnence\n",
        "stats.chi2_contingency(gend_acc)"
      ],
      "execution_count": 47,
      "outputs": [
        {
          "output_type": "execute_result",
          "data": {
            "text/plain": [
              "(279.529843021835,\n",
              " 9.507181629856706e-63,\n",
              " 1,\n",
              " array([[10854.22081536,  1826.77918464],\n",
              "        [ 7600.77918464,  1279.22081536]]))"
            ]
          },
          "metadata": {
            "tags": []
          },
          "execution_count": 47
        }
      ]
    },
    {
      "cell_type": "markdown",
      "metadata": {
        "id": "r4wXuNrdRUzJ"
      },
      "source": [
        "- from the test above, we can see that the chi2 statistic is 279 while the p-value is less than the threshold of 0.05\n",
        "- since the p-value is less than the 0.05 threshold, we fail to reject the null\n",
        "- This implies that there is a relationship betwee the gender of the respondnent and them having a bank account"
      ]
    },
    {
      "cell_type": "markdown",
      "metadata": {
        "id": "RvhEQb_vYK6K"
      },
      "source": [
        "has bank account and household size"
      ]
    },
    {
      "cell_type": "code",
      "metadata": {
        "colab": {
          "base_uri": "https://localhost:8080/",
          "height": 416
        },
        "id": "MgGe6qzdYP45",
        "outputId": "73a38ba9-cfb0-4d09-b437-f3836d6f1c74"
      },
      "source": [
        "pd.crosstab(fin['household_size'],fin['Has a Bank account'],margins=True,margins_name='Total')"
      ],
      "execution_count": 48,
      "outputs": [
        {
          "output_type": "execute_result",
          "data": {
            "text/html": [
              "<div>\n",
              "<style scoped>\n",
              "    .dataframe tbody tr th:only-of-type {\n",
              "        vertical-align: middle;\n",
              "    }\n",
              "\n",
              "    .dataframe tbody tr th {\n",
              "        vertical-align: top;\n",
              "    }\n",
              "\n",
              "    .dataframe thead th {\n",
              "        text-align: right;\n",
              "    }\n",
              "</style>\n",
              "<table border=\"1\" class=\"dataframe\">\n",
              "  <thead>\n",
              "    <tr style=\"text-align: right;\">\n",
              "      <th>Has a Bank account</th>\n",
              "      <th>No</th>\n",
              "      <th>Yes</th>\n",
              "      <th>Total</th>\n",
              "    </tr>\n",
              "    <tr>\n",
              "      <th>household_size</th>\n",
              "      <th></th>\n",
              "      <th></th>\n",
              "      <th></th>\n",
              "    </tr>\n",
              "  </thead>\n",
              "  <tbody>\n",
              "    <tr>\n",
              "      <th>1.0</th>\n",
              "      <td>2813</td>\n",
              "      <td>633</td>\n",
              "      <td>3446</td>\n",
              "    </tr>\n",
              "    <tr>\n",
              "      <th>2.0</th>\n",
              "      <td>4049</td>\n",
              "      <td>573</td>\n",
              "      <td>4622</td>\n",
              "    </tr>\n",
              "    <tr>\n",
              "      <th>3.0</th>\n",
              "      <td>2769</td>\n",
              "      <td>469</td>\n",
              "      <td>3238</td>\n",
              "    </tr>\n",
              "    <tr>\n",
              "      <th>4.0</th>\n",
              "      <td>2605</td>\n",
              "      <td>453</td>\n",
              "      <td>3058</td>\n",
              "    </tr>\n",
              "    <tr>\n",
              "      <th>5.0</th>\n",
              "      <td>2227</td>\n",
              "      <td>401</td>\n",
              "      <td>2628</td>\n",
              "    </tr>\n",
              "    <tr>\n",
              "      <th>6.0</th>\n",
              "      <td>1704</td>\n",
              "      <td>264</td>\n",
              "      <td>1968</td>\n",
              "    </tr>\n",
              "    <tr>\n",
              "      <th>7.0</th>\n",
              "      <td>1172</td>\n",
              "      <td>173</td>\n",
              "      <td>1345</td>\n",
              "    </tr>\n",
              "    <tr>\n",
              "      <th>8.0</th>\n",
              "      <td>645</td>\n",
              "      <td>82</td>\n",
              "      <td>727</td>\n",
              "    </tr>\n",
              "    <tr>\n",
              "      <th>9.0</th>\n",
              "      <td>309</td>\n",
              "      <td>34</td>\n",
              "      <td>343</td>\n",
              "    </tr>\n",
              "    <tr>\n",
              "      <th>10.0</th>\n",
              "      <td>162</td>\n",
              "      <td>24</td>\n",
              "      <td>186</td>\n",
              "    </tr>\n",
              "    <tr>\n",
              "      <th>Total</th>\n",
              "      <td>18455</td>\n",
              "      <td>3106</td>\n",
              "      <td>21561</td>\n",
              "    </tr>\n",
              "  </tbody>\n",
              "</table>\n",
              "</div>"
            ],
            "text/plain": [
              "Has a Bank account     No   Yes  Total\n",
              "household_size                        \n",
              "1.0                  2813   633   3446\n",
              "2.0                  4049   573   4622\n",
              "3.0                  2769   469   3238\n",
              "4.0                  2605   453   3058\n",
              "5.0                  2227   401   2628\n",
              "6.0                  1704   264   1968\n",
              "7.0                  1172   173   1345\n",
              "8.0                   645    82    727\n",
              "9.0                   309    34    343\n",
              "10.0                  162    24    186\n",
              "Total               18455  3106  21561"
            ]
          },
          "metadata": {
            "tags": []
          },
          "execution_count": 48
        }
      ]
    },
    {
      "cell_type": "code",
      "metadata": {
        "colab": {
          "base_uri": "https://localhost:8080/",
          "height": 307
        },
        "id": "hyWx-Z-TYmcP",
        "outputId": "17a00dfd-e4e7-471f-e870-2d45e82e6e48"
      },
      "source": [
        "siz_acc=pd.crosstab(fin['household_size'],fin['Has a Bank account'])\n",
        "color=['red','green']\n",
        "siz_acc.plot.bar(color=color)\n",
        "plt.ylabel('count')\n",
        "plt.title('household size vs bank account status')\n",
        "plt.show()"
      ],
      "execution_count": 49,
      "outputs": [
        {
          "output_type": "display_data",
          "data": {
            "image/png": "[encoded data removed]",
            "text/plain": [
              "<Figure size 432x288 with 1 Axes>"
            ]
          },
          "metadata": {
            "tags": [],
            "needs_background": "light"
          }
        }
      ]
    },
    {
      "cell_type": "markdown",
      "metadata": {
        "id": "uBDUj1ULSvS8"
      },
      "source": [
        "- at all household sizes, the number of those with no bank account is more than those with bank accounts\n",
        "- Small sized families have  more bank accounts than large families\n",
        "- as the family size increase, the number of bank account decreases"
      ]
    },
    {
      "cell_type": "code",
      "metadata": {
        "colab": {
          "base_uri": "https://localhost:8080/"
        },
        "id": "RyyFOOTXS8V9",
        "outputId": "4d8ed61d-5406-4300-f6c8-44642cc3391c"
      },
      "source": [
        "#we will do a chi2 contigency test\n",
        "stats.chi2_contingency(siz_acc)"
      ],
      "execution_count": 50,
      "outputs": [
        {
          "output_type": "execute_result",
          "data": {
            "text/plain": [
              "(76.88747755017685,\n",
              " 6.693083482791056e-13,\n",
              " 9,\n",
              " array([[2949.58165206,  496.41834794],\n",
              "        [3956.17132786,  665.82867214],\n",
              "        [2771.54538287,  466.45461713],\n",
              "        [2617.47553453,  440.52446547],\n",
              "        [2249.41978572,  378.58021428],\n",
              "        [1684.49700849,  283.50299151],\n",
              "        [1151.24414452,  193.75585548],\n",
              "        [ 622.27099856,  104.72900144],\n",
              "        [ 293.58865544,   49.41134456],\n",
              "        [ 159.20550995,   26.79449005]]))"
            ]
          },
          "metadata": {
            "tags": []
          },
          "execution_count": 50
        }
      ]
    },
    {
      "cell_type": "markdown",
      "metadata": {
        "id": "hUvlqdzsTNKA"
      },
      "source": [
        "- we have a chi2 test statistic of 76.88 and a p-value that is less than 0.05 threshold\n",
        "- because of this we reject the null hypothesis that there is independnece between the two columns\n",
        "- this implies that there is some level of influence that the family size has on access to bank services\n"
      ]
    },
    {
      "cell_type": "markdown",
      "metadata": {
        "id": "ZCT3JwKjanIv"
      },
      "source": [
        "#### has bank account and marital status "
      ]
    },
    {
      "cell_type": "code",
      "metadata": {
        "colab": {
          "base_uri": "https://localhost:8080/",
          "height": 232
        },
        "id": "6ZXQuJwbasUv",
        "outputId": "fc31edc5-c94a-4b75-b39e-fe957ffe5400"
      },
      "source": [
        "pd.crosstab(fin['marital_status'],fin['Has a Bank account'],margins=True,margins_name='Total')"
      ],
      "execution_count": 51,
      "outputs": [
        {
          "output_type": "execute_result",
          "data": {
            "text/html": [
              "<div>\n",
              "<style scoped>\n",
              "    .dataframe tbody tr th:only-of-type {\n",
              "        vertical-align: middle;\n",
              "    }\n",
              "\n",
              "    .dataframe tbody tr th {\n",
              "        vertical-align: top;\n",
              "    }\n",
              "\n",
              "    .dataframe thead th {\n",
              "        text-align: right;\n",
              "    }\n",
              "</style>\n",
              "<table border=\"1\" class=\"dataframe\">\n",
              "  <thead>\n",
              "    <tr style=\"text-align: right;\">\n",
              "      <th>Has a Bank account</th>\n",
              "      <th>No</th>\n",
              "      <th>Yes</th>\n",
              "      <th>Total</th>\n",
              "    </tr>\n",
              "    <tr>\n",
              "      <th>marital_status</th>\n",
              "      <th></th>\n",
              "      <th></th>\n",
              "      <th></th>\n",
              "    </tr>\n",
              "  </thead>\n",
              "  <tbody>\n",
              "    <tr>\n",
              "      <th>Divorced/Seperated</th>\n",
              "      <td>1755</td>\n",
              "      <td>223</td>\n",
              "      <td>1978</td>\n",
              "    </tr>\n",
              "    <tr>\n",
              "      <th>Married/Living together</th>\n",
              "      <td>8350</td>\n",
              "      <td>1777</td>\n",
              "      <td>10127</td>\n",
              "    </tr>\n",
              "    <tr>\n",
              "      <th>Single/Never Married</th>\n",
              "      <td>6703</td>\n",
              "      <td>933</td>\n",
              "      <td>7636</td>\n",
              "    </tr>\n",
              "    <tr>\n",
              "      <th>Widowed</th>\n",
              "      <td>1647</td>\n",
              "      <td>173</td>\n",
              "      <td>1820</td>\n",
              "    </tr>\n",
              "    <tr>\n",
              "      <th>Total</th>\n",
              "      <td>18455</td>\n",
              "      <td>3106</td>\n",
              "      <td>21561</td>\n",
              "    </tr>\n",
              "  </tbody>\n",
              "</table>\n",
              "</div>"
            ],
            "text/plain": [
              "Has a Bank account          No   Yes  Total\n",
              "marital_status                             \n",
              "Divorced/Seperated        1755   223   1978\n",
              "Married/Living together   8350  1777  10127\n",
              "Single/Never Married      6703   933   7636\n",
              "Widowed                   1647   173   1820\n",
              "Total                    18455  3106  21561"
            ]
          },
          "metadata": {
            "tags": []
          },
          "execution_count": 51
        }
      ]
    },
    {
      "cell_type": "code",
      "metadata": {
        "colab": {
          "base_uri": "https://localhost:8080/",
          "height": 404
        },
        "id": "tUE3eFumcjBU",
        "outputId": "e5f8b01e-884b-4d2e-b430-491137d42422"
      },
      "source": [
        "marital_acc=pd.crosstab(fin['marital_status'],fin['Has a Bank account'])\n",
        "color=['red','green']\n",
        "marital_acc.plot.bar(color=color)\n",
        "plt.title('marital status and bank account status')\n",
        "plt.ylabel('count')\n",
        "plt.show()"
      ],
      "execution_count": 52,
      "outputs": [
        {
          "output_type": "display_data",
          "data": {
            "image/png": "[encoded data removed]",
            "text/plain": [
              "<Figure size 432x288 with 1 Axes>"
            ]
          },
          "metadata": {
            "tags": [],
            "needs_background": "light"
          }
        }
      ]
    },
    {
      "cell_type": "markdown",
      "metadata": {
        "id": "hUUV-JHGUIdj"
      },
      "source": [
        "\n",
        "- we can see that in all the marital status groups, the number of people without bank accounts was more than those with bank accounts\n",
        "- married/people living together had bank accounts"
      ]
    },
    {
      "cell_type": "markdown",
      "metadata": {
        "id": "-MZNrPGpdMAc"
      },
      "source": [
        "#### type respondnent job and bank account status "
      ]
    },
    {
      "cell_type": "code",
      "metadata": {
        "colab": {
          "base_uri": "https://localhost:8080/",
          "height": 355
        },
        "id": "M0Z_0H7ZdfhS",
        "outputId": "e493b96c-6248-4cbb-c7cb-ac7fbabb7765"
      },
      "source": [
        "pd.crosstab(fin['Type of Job'],fin['Has a Bank account'],margins=True,margins_name='Total')"
      ],
      "execution_count": 53,
      "outputs": [
        {
          "output_type": "execute_result",
          "data": {
            "text/html": [
              "<div>\n",
              "<style scoped>\n",
              "    .dataframe tbody tr th:only-of-type {\n",
              "        vertical-align: middle;\n",
              "    }\n",
              "\n",
              "    .dataframe tbody tr th {\n",
              "        vertical-align: top;\n",
              "    }\n",
              "\n",
              "    .dataframe thead th {\n",
              "        text-align: right;\n",
              "    }\n",
              "</style>\n",
              "<table border=\"1\" class=\"dataframe\">\n",
              "  <thead>\n",
              "    <tr style=\"text-align: right;\">\n",
              "      <th>Has a Bank account</th>\n",
              "      <th>No</th>\n",
              "      <th>Yes</th>\n",
              "      <th>Total</th>\n",
              "    </tr>\n",
              "    <tr>\n",
              "      <th>Type of Job</th>\n",
              "      <th></th>\n",
              "      <th></th>\n",
              "      <th></th>\n",
              "    </tr>\n",
              "  </thead>\n",
              "  <tbody>\n",
              "    <tr>\n",
              "      <th>Farming and Fishing</th>\n",
              "      <td>4314</td>\n",
              "      <td>565</td>\n",
              "      <td>4879</td>\n",
              "    </tr>\n",
              "    <tr>\n",
              "      <th>Formally employed Government</th>\n",
              "      <td>87</td>\n",
              "      <td>297</td>\n",
              "      <td>384</td>\n",
              "    </tr>\n",
              "    <tr>\n",
              "      <th>Formally employed Private</th>\n",
              "      <td>468</td>\n",
              "      <td>563</td>\n",
              "      <td>1031</td>\n",
              "    </tr>\n",
              "    <tr>\n",
              "      <th>Informally employed</th>\n",
              "      <td>4972</td>\n",
              "      <td>431</td>\n",
              "      <td>5403</td>\n",
              "    </tr>\n",
              "    <tr>\n",
              "      <th>No Income</th>\n",
              "      <td>532</td>\n",
              "      <td>12</td>\n",
              "      <td>544</td>\n",
              "    </tr>\n",
              "    <tr>\n",
              "      <th>Other Income</th>\n",
              "      <td>909</td>\n",
              "      <td>183</td>\n",
              "      <td>1092</td>\n",
              "    </tr>\n",
              "    <tr>\n",
              "      <th>Self employed</th>\n",
              "      <td>5195</td>\n",
              "      <td>823</td>\n",
              "      <td>6018</td>\n",
              "    </tr>\n",
              "    <tr>\n",
              "      <th>dependent</th>\n",
              "      <td>1978</td>\n",
              "      <td>232</td>\n",
              "      <td>2210</td>\n",
              "    </tr>\n",
              "    <tr>\n",
              "      <th>Total</th>\n",
              "      <td>18455</td>\n",
              "      <td>3106</td>\n",
              "      <td>21561</td>\n",
              "    </tr>\n",
              "  </tbody>\n",
              "</table>\n",
              "</div>"
            ],
            "text/plain": [
              "Has a Bank account               No   Yes  Total\n",
              "Type of Job                                     \n",
              "Farming and Fishing            4314   565   4879\n",
              "Formally employed Government     87   297    384\n",
              "Formally employed Private       468   563   1031\n",
              "Informally employed            4972   431   5403\n",
              "No Income                       532    12    544\n",
              "Other Income                    909   183   1092\n",
              "Self employed                  5195   823   6018\n",
              "dependent                      1978   232   2210\n",
              "Total                         18455  3106  21561"
            ]
          },
          "metadata": {
            "tags": []
          },
          "execution_count": 53
        }
      ]
    },
    {
      "cell_type": "code",
      "metadata": {
        "colab": {
          "base_uri": "https://localhost:8080/",
          "height": 445
        },
        "id": "-W1-ssxQd_kq",
        "outputId": "e873cf65-74d6-4b50-db27-849a35652a3b"
      },
      "source": [
        "job_acc=pd.crosstab(fin['Type of Job'],fin['Has a Bank account'])\n",
        "color=['red','green']\n",
        "job_acc.plot.bar(color=color)\n",
        "plt.title('job of respondnent vs bank account status')\n",
        "plt.ylabel('count')\n",
        "plt.show()"
      ],
      "execution_count": 54,
      "outputs": [
        {
          "output_type": "display_data",
          "data": {
            "image/png": "[encoded data removed]",
            "text/plain": [
              "<Figure size 432x288 with 1 Axes>"
            ]
          },
          "metadata": {
            "tags": [],
            "needs_background": "light"
          }
        }
      ]
    },
    {
      "cell_type": "markdown",
      "metadata": {
        "id": "Edzz_pcwUXnb"
      },
      "source": [
        "- we can see that individuals who are self employed have more bank accounts folowed by those that are formally employed in the private sector then farming and fishing follows\n",
        "- those employed by government have more bank accounts"
      ]
    },
    {
      "cell_type": "code",
      "metadata": {
        "colab": {
          "base_uri": "https://localhost:8080/"
        },
        "id": "psnxOWnKVFGp",
        "outputId": "ad938d67-3b98-4994-82ec-a67fabd28224"
      },
      "source": [
        "stats.chi2_contingency(job_acc)"
      ],
      "execution_count": 55,
      "outputs": [
        {
          "output_type": "execute_result",
          "data": {
            "text/plain": [
              "(2898.176364803042, 0.0, 7, array([[4176.14883354,  702.85116646],\n",
              "        [ 328.68234312,   55.31765688],\n",
              "        [ 882.47785353,  148.52214647],\n",
              "        [4624.66328092,  778.33671908],\n",
              "        [ 465.63331942,   78.36668058],\n",
              "        [ 934.69041325,  157.30958675],\n",
              "        [5151.06859608,  866.93140392],\n",
              "        [1891.63536014,  318.36463986]]))"
            ]
          },
          "metadata": {
            "tags": []
          },
          "execution_count": 55
        }
      ]
    },
    {
      "cell_type": "markdown",
      "metadata": {
        "id": "2dfKHyRFVLqh"
      },
      "source": [
        "- we have a chi squared statistic of 2898.176 and a p-value of 0.0\n",
        "- the p-value is high than the p-value thresshold\n",
        "- because of this we fail to reject the null hypothesis\n",
        "- this implies that there is independence between the two columns\n",
        "- therefore they do not influence each other"
      ]
    },
    {
      "cell_type": "markdown",
      "metadata": {
        "id": "21UaqxzEe2Z-"
      },
      "source": [
        "#### bank account acess with years"
      ]
    },
    {
      "cell_type": "code",
      "metadata": {
        "colab": {
          "base_uri": "https://localhost:8080/",
          "height": 202
        },
        "id": "55AFhZzVe8Hq",
        "outputId": "e72fe992-588d-4b1c-f88a-818f9034c0ed"
      },
      "source": [
        "pd.crosstab(fin['year'],fin['Has a Bank account'],margins=True,margins_name='Total')\n",
        "\n",
        "#the number of people with bank accounts dropped from the year 2016 to 2017 \n",
        "#the number of people with bank accounts was highest in 2018"
      ],
      "execution_count": 56,
      "outputs": [
        {
          "output_type": "execute_result",
          "data": {
            "text/html": [
              "<div>\n",
              "<style scoped>\n",
              "    .dataframe tbody tr th:only-of-type {\n",
              "        vertical-align: middle;\n",
              "    }\n",
              "\n",
              "    .dataframe tbody tr th {\n",
              "        vertical-align: top;\n",
              "    }\n",
              "\n",
              "    .dataframe thead th {\n",
              "        text-align: right;\n",
              "    }\n",
              "</style>\n",
              "<table border=\"1\" class=\"dataframe\">\n",
              "  <thead>\n",
              "    <tr style=\"text-align: right;\">\n",
              "      <th>Has a Bank account</th>\n",
              "      <th>No</th>\n",
              "      <th>Yes</th>\n",
              "      <th>Total</th>\n",
              "    </tr>\n",
              "    <tr>\n",
              "      <th>year</th>\n",
              "      <th></th>\n",
              "      <th></th>\n",
              "      <th></th>\n",
              "    </tr>\n",
              "  </thead>\n",
              "  <tbody>\n",
              "    <tr>\n",
              "      <th>2016</th>\n",
              "      <td>7127</td>\n",
              "      <td>961</td>\n",
              "      <td>8088</td>\n",
              "    </tr>\n",
              "    <tr>\n",
              "      <th>2017</th>\n",
              "      <td>5475</td>\n",
              "      <td>578</td>\n",
              "      <td>6053</td>\n",
              "    </tr>\n",
              "    <tr>\n",
              "      <th>2018</th>\n",
              "      <td>5853</td>\n",
              "      <td>1567</td>\n",
              "      <td>7420</td>\n",
              "    </tr>\n",
              "    <tr>\n",
              "      <th>Total</th>\n",
              "      <td>18455</td>\n",
              "      <td>3106</td>\n",
              "      <td>21561</td>\n",
              "    </tr>\n",
              "  </tbody>\n",
              "</table>\n",
              "</div>"
            ],
            "text/plain": [
              "Has a Bank account     No   Yes  Total\n",
              "year                                  \n",
              "2016                 7127   961   8088\n",
              "2017                 5475   578   6053\n",
              "2018                 5853  1567   7420\n",
              "Total               18455  3106  21561"
            ]
          },
          "metadata": {
            "tags": []
          },
          "execution_count": 56
        }
      ]
    },
    {
      "cell_type": "code",
      "metadata": {
        "colab": {
          "base_uri": "https://localhost:8080/",
          "height": 311
        },
        "id": "PegLNMj6fqrd",
        "outputId": "60c9d963-6b9c-4a7e-9cba-9898a5fd29fc"
      },
      "source": [
        "year_acc=pd.crosstab(fin['year'],fin['Has a Bank account'])\n",
        "color=['red','green']\n",
        "year_acc.plot.bar(stacked=True,color=color)\n",
        "plt.title('bank account status over the years')\n",
        "plt.ylabel('count')\n",
        "plt.show()"
      ],
      "execution_count": 57,
      "outputs": [
        {
          "output_type": "display_data",
          "data": {
            "image/png": "[encoded data removed]",
            "text/plain": [
              "<Figure size 432x288 with 1 Axes>"
            ]
          },
          "metadata": {
            "tags": [],
            "needs_background": "light"
          }
        }
      ]
    },
    {
      "cell_type": "markdown",
      "metadata": {
        "id": "WmGnoI4CgUzT"
      },
      "source": [
        "### bank account status with family head"
      ]
    },
    {
      "cell_type": "code",
      "metadata": {
        "colab": {
          "base_uri": "https://localhost:8080/",
          "height": 294
        },
        "id": "V1yLthQRgdDp",
        "outputId": "6a2d8a57-f647-460e-869f-c4d62a47be70"
      },
      "source": [
        "pd.crosstab(fin['The relationship with household head'],fin['Has a Bank account'],margins=True,margins_name='Total')"
      ],
      "execution_count": 58,
      "outputs": [
        {
          "output_type": "execute_result",
          "data": {
            "text/html": [
              "<div>\n",
              "<style scoped>\n",
              "    .dataframe tbody tr th:only-of-type {\n",
              "        vertical-align: middle;\n",
              "    }\n",
              "\n",
              "    .dataframe tbody tr th {\n",
              "        vertical-align: top;\n",
              "    }\n",
              "\n",
              "    .dataframe thead th {\n",
              "        text-align: right;\n",
              "    }\n",
              "</style>\n",
              "<table border=\"1\" class=\"dataframe\">\n",
              "  <thead>\n",
              "    <tr style=\"text-align: right;\">\n",
              "      <th>Has a Bank account</th>\n",
              "      <th>No</th>\n",
              "      <th>Yes</th>\n",
              "      <th>Total</th>\n",
              "    </tr>\n",
              "    <tr>\n",
              "      <th>The relationship with household head</th>\n",
              "      <th></th>\n",
              "      <th></th>\n",
              "      <th></th>\n",
              "    </tr>\n",
              "  </thead>\n",
              "  <tbody>\n",
              "    <tr>\n",
              "      <th>Child</th>\n",
              "      <td>1960</td>\n",
              "      <td>187</td>\n",
              "      <td>2147</td>\n",
              "    </tr>\n",
              "    <tr>\n",
              "      <th>Head of Household</th>\n",
              "      <td>9195</td>\n",
              "      <td>2089</td>\n",
              "      <td>11284</td>\n",
              "    </tr>\n",
              "    <tr>\n",
              "      <th>Other non-relatives</th>\n",
              "      <td>165</td>\n",
              "      <td>20</td>\n",
              "      <td>185</td>\n",
              "    </tr>\n",
              "    <tr>\n",
              "      <th>Other relative</th>\n",
              "      <td>566</td>\n",
              "      <td>64</td>\n",
              "      <td>630</td>\n",
              "    </tr>\n",
              "    <tr>\n",
              "      <th>Parent</th>\n",
              "      <td>957</td>\n",
              "      <td>60</td>\n",
              "      <td>1017</td>\n",
              "    </tr>\n",
              "    <tr>\n",
              "      <th>Spouse</th>\n",
              "      <td>5612</td>\n",
              "      <td>686</td>\n",
              "      <td>6298</td>\n",
              "    </tr>\n",
              "    <tr>\n",
              "      <th>Total</th>\n",
              "      <td>18455</td>\n",
              "      <td>3106</td>\n",
              "      <td>21561</td>\n",
              "    </tr>\n",
              "  </tbody>\n",
              "</table>\n",
              "</div>"
            ],
            "text/plain": [
              "Has a Bank account                       No   Yes  Total\n",
              "The relationship with household head                    \n",
              "Child                                  1960   187   2147\n",
              "Head of Household                      9195  2089  11284\n",
              "Other non-relatives                     165    20    185\n",
              "Other relative                          566    64    630\n",
              "Parent                                  957    60   1017\n",
              "Spouse                                 5612   686   6298\n",
              "Total                                 18455  3106  21561"
            ]
          },
          "metadata": {
            "tags": []
          },
          "execution_count": 58
        }
      ]
    },
    {
      "cell_type": "code",
      "metadata": {
        "colab": {
          "base_uri": "https://localhost:8080/",
          "height": 382
        },
        "id": "TR290IVIg5DW",
        "outputId": "97250f6b-1e52-47c1-b491-9a873c8670d0"
      },
      "source": [
        "head_acc=pd.crosstab(fin['The relationship with household head'],fin['Has a Bank account'])\n",
        "color=['red','green']\n",
        "head_acc.plot.bar(color=color)\n",
        "plt.title('relationship with household head and bank account status')\n",
        "plt.ylabel('count')\n",
        "plt.show()"
      ],
      "execution_count": 59,
      "outputs": [
        {
          "output_type": "display_data",
          "data": {
            "image/png": "[encoded data removed]",
            "text/plain": [
              "<Figure size 432x288 with 1 Axes>"
            ]
          },
          "metadata": {
            "tags": [],
            "needs_background": "light"
          }
        }
      ]
    },
    {
      "cell_type": "markdown",
      "metadata": {
        "id": "f36Pil-uV34Y"
      },
      "source": [
        "- we can see that most household head do not have access to bank accounts\n",
        "- this is a worrying observation\n",
        "- most parents did not have bank accounts"
      ]
    },
    {
      "cell_type": "code",
      "metadata": {
        "colab": {
          "base_uri": "https://localhost:8080/"
        },
        "id": "am1SpApyWBrQ",
        "outputId": "6fdb9ce9-570d-4206-ef51-ce75518570d5"
      },
      "source": [
        "# we will calculate a chi square\n",
        "stats.chi2_contingency(head_acc)"
      ],
      "execution_count": 60,
      "outputs": [
        {
          "output_type": "execute_result",
          "data": {
            "text/plain": [
              "(344.74561184065624,\n",
              " 2.36745773068201e-72,\n",
              " 5,\n",
              " array([[1837.71091322,  309.28908678],\n",
              "        [9658.46760354, 1625.53239646],\n",
              "        [ 158.34956635,   26.65043365],\n",
              "        [ 539.24446918,   90.75553082],\n",
              "        [ 870.49464311,  146.50535689],\n",
              "        [5390.7328046 ,  907.2671954 ]]))"
            ]
          },
          "metadata": {
            "tags": []
          },
          "execution_count": 60
        }
      ]
    },
    {
      "cell_type": "markdown",
      "metadata": {
        "id": "Dvb28PxdWN56"
      },
      "source": [
        "- the chi2 statistic is 344.75 while the p-value is less than 0.05 threshold\n",
        "- we fail to reject the null hypothesis that states that there is independnece between the two features\n",
        "- this implies that the feature relationship with head has an influence on whether there the respondent has a bank account or not"
      ]
    },
    {
      "cell_type": "markdown",
      "metadata": {
        "id": "CBmuZP6ViDKL"
      },
      "source": [
        "## Multivariate Analysis"
      ]
    },
    {
      "cell_type": "markdown",
      "metadata": {
        "id": "HvYBXLH-iJtj"
      },
      "source": [
        "We will look at the relationships between different features with 'has bank account' column"
      ]
    },
    {
      "cell_type": "markdown",
      "metadata": {
        "id": "F9haIJIXE7ea"
      },
      "source": [
        "##### country, has bank account, location of respondent"
      ]
    },
    {
      "cell_type": "code",
      "metadata": {
        "colab": {
          "base_uri": "https://localhost:8080/",
          "height": 263
        },
        "id": "eNoJGyAFtbZb",
        "outputId": "18e2ec7c-0681-416e-b51a-d208ce245f3c"
      },
      "source": [
        "pd.crosstab(index=[fin['country']],columns=[fin['Has a Bank account'],fin['Type of Location']],margins=True,margins_name='Total')"
      ],
      "execution_count": 61,
      "outputs": [
        {
          "output_type": "execute_result",
          "data": {
            "text/html": [
              "<div>\n",
              "<style scoped>\n",
              "    .dataframe tbody tr th:only-of-type {\n",
              "        vertical-align: middle;\n",
              "    }\n",
              "\n",
              "    .dataframe tbody tr th {\n",
              "        vertical-align: top;\n",
              "    }\n",
              "\n",
              "    .dataframe thead tr th {\n",
              "        text-align: left;\n",
              "    }\n",
              "\n",
              "    .dataframe thead tr:last-of-type th {\n",
              "        text-align: right;\n",
              "    }\n",
              "</style>\n",
              "<table border=\"1\" class=\"dataframe\">\n",
              "  <thead>\n",
              "    <tr>\n",
              "      <th>Has a Bank account</th>\n",
              "      <th colspan=\"2\" halign=\"left\">No</th>\n",
              "      <th colspan=\"2\" halign=\"left\">Yes</th>\n",
              "      <th>Total</th>\n",
              "    </tr>\n",
              "    <tr>\n",
              "      <th>Type of Location</th>\n",
              "      <th>Rural</th>\n",
              "      <th>Urban</th>\n",
              "      <th>Rural</th>\n",
              "      <th>Urban</th>\n",
              "      <th></th>\n",
              "    </tr>\n",
              "    <tr>\n",
              "      <th>country</th>\n",
              "      <th></th>\n",
              "      <th></th>\n",
              "      <th></th>\n",
              "      <th></th>\n",
              "      <th></th>\n",
              "    </tr>\n",
              "  </thead>\n",
              "  <tbody>\n",
              "    <tr>\n",
              "      <th>Kenya</th>\n",
              "      <td>2585</td>\n",
              "      <td>1513</td>\n",
              "      <td>517</td>\n",
              "      <td>881</td>\n",
              "      <td>5496</td>\n",
              "    </tr>\n",
              "    <tr>\n",
              "      <th>Rwanda</th>\n",
              "      <td>6321</td>\n",
              "      <td>806</td>\n",
              "      <td>594</td>\n",
              "      <td>367</td>\n",
              "      <td>8088</td>\n",
              "    </tr>\n",
              "    <tr>\n",
              "      <th>Tanzania</th>\n",
              "      <td>1347</td>\n",
              "      <td>4128</td>\n",
              "      <td>360</td>\n",
              "      <td>218</td>\n",
              "      <td>6053</td>\n",
              "    </tr>\n",
              "    <tr>\n",
              "      <th>Uganda</th>\n",
              "      <td>1310</td>\n",
              "      <td>445</td>\n",
              "      <td>58</td>\n",
              "      <td>111</td>\n",
              "      <td>1924</td>\n",
              "    </tr>\n",
              "    <tr>\n",
              "      <th>Total</th>\n",
              "      <td>11563</td>\n",
              "      <td>6892</td>\n",
              "      <td>1529</td>\n",
              "      <td>1577</td>\n",
              "      <td>21561</td>\n",
              "    </tr>\n",
              "  </tbody>\n",
              "</table>\n",
              "</div>"
            ],
            "text/plain": [
              "Has a Bank account     No         Yes        Total\n",
              "Type of Location    Rural Urban Rural Urban       \n",
              "country                                           \n",
              "Kenya                2585  1513   517   881   5496\n",
              "Rwanda               6321   806   594   367   8088\n",
              "Tanzania             1347  4128   360   218   6053\n",
              "Uganda               1310   445    58   111   1924\n",
              "Total               11563  6892  1529  1577  21561"
            ]
          },
          "metadata": {
            "tags": []
          },
          "execution_count": 61
        }
      ]
    },
    {
      "cell_type": "code",
      "metadata": {
        "colab": {
          "base_uri": "https://localhost:8080/",
          "height": 328
        },
        "id": "OqBDL00L9SyP",
        "outputId": "83c66c47-c084-4828-97c1-51f34bfec7df"
      },
      "source": [
        "a=pd.crosstab(index=[fin['country']],columns=[fin['Has a Bank account'],fin['Type of Location']])\n",
        "a.plot.bar()\n",
        "plt.title('acsess to bank account vs location')\n",
        "plt.ylabel('count')\n",
        "plt.show()"
      ],
      "execution_count": 62,
      "outputs": [
        {
          "output_type": "display_data",
          "data": {
            "image/png": "[encoded data removed]",
            "text/plain": [
              "<Figure size 432x288 with 1 Axes>"
            ]
          },
          "metadata": {
            "tags": [],
            "needs_background": "light"
          }
        }
      ]
    },
    {
      "cell_type": "markdown",
      "metadata": {
        "id": "JRHxuNso6kIt"
      },
      "source": [
        "- We can see that apart from Tanzania, most people in the rural areas had no bank accounts. In Tanzania we observe that most people in urban areas had no acess to bank services\n",
        "- we can see that the number of people without bank accounts in the urban areas is more than those with bank account. this observation cuts across all the countries\n",
        "- We can also see that the number of people without access to bank accounts are more in rural areas than in urban areas. This observation cuts across all the countries\n",
        "- most people in rural areas have no bank accounts compared to those who have bank accounts in rural areas "
      ]
    },
    {
      "cell_type": "markdown",
      "metadata": {
        "id": "9QiWhSUSFDgq"
      },
      "source": [
        "##### country, type of job, has bank account, cell phone acesss and gender of respondnent"
      ]
    },
    {
      "cell_type": "code",
      "metadata": {
        "colab": {
          "base_uri": "https://localhost:8080/",
          "height": 937
        },
        "id": "fjczStUo0Hu2",
        "outputId": "7aa90b9d-dcee-4692-b5c8-7ac483d99272"
      },
      "source": [
        "pd.crosstab(index=[fin['country'],fin['Type of Job']],columns=[fin['Has a Bank account'],fin['Cell Phone Access'],fin['gender_of_respondent']],margins=True,margins_name='Total')"
      ],
      "execution_count": 63,
      "outputs": [
        {
          "output_type": "execute_result",
          "data": {
            "text/html": [
              "<div>\n",
              "<style scoped>\n",
              "    .dataframe tbody tr th:only-of-type {\n",
              "        vertical-align: middle;\n",
              "    }\n",
              "\n",
              "    .dataframe tbody tr th {\n",
              "        vertical-align: top;\n",
              "    }\n",
              "\n",
              "    .dataframe thead tr th {\n",
              "        text-align: left;\n",
              "    }\n",
              "\n",
              "    .dataframe thead tr:last-of-type th {\n",
              "        text-align: right;\n",
              "    }\n",
              "</style>\n",
              "<table border=\"1\" class=\"dataframe\">\n",
              "  <thead>\n",
              "    <tr>\n",
              "      <th></th>\n",
              "      <th>Has a Bank account</th>\n",
              "      <th colspan=\"4\" halign=\"left\">No</th>\n",
              "      <th colspan=\"4\" halign=\"left\">Yes</th>\n",
              "      <th>Total</th>\n",
              "    </tr>\n",
              "    <tr>\n",
              "      <th></th>\n",
              "      <th>Cell Phone Access</th>\n",
              "      <th colspan=\"2\" halign=\"left\">No</th>\n",
              "      <th colspan=\"2\" halign=\"left\">Yes</th>\n",
              "      <th colspan=\"2\" halign=\"left\">No</th>\n",
              "      <th colspan=\"2\" halign=\"left\">Yes</th>\n",
              "      <th></th>\n",
              "    </tr>\n",
              "    <tr>\n",
              "      <th></th>\n",
              "      <th>gender_of_respondent</th>\n",
              "      <th>Female</th>\n",
              "      <th>Male</th>\n",
              "      <th>Female</th>\n",
              "      <th>Male</th>\n",
              "      <th>Female</th>\n",
              "      <th>Male</th>\n",
              "      <th>Female</th>\n",
              "      <th>Male</th>\n",
              "      <th></th>\n",
              "    </tr>\n",
              "    <tr>\n",
              "      <th>country</th>\n",
              "      <th>Type of Job</th>\n",
              "      <th></th>\n",
              "      <th></th>\n",
              "      <th></th>\n",
              "      <th></th>\n",
              "      <th></th>\n",
              "      <th></th>\n",
              "      <th></th>\n",
              "      <th></th>\n",
              "      <th></th>\n",
              "    </tr>\n",
              "  </thead>\n",
              "  <tbody>\n",
              "    <tr>\n",
              "      <th rowspan=\"7\" valign=\"top\">Kenya</th>\n",
              "      <th>Farming and Fishing</th>\n",
              "      <td>176</td>\n",
              "      <td>87</td>\n",
              "      <td>539</td>\n",
              "      <td>316</td>\n",
              "      <td>5</td>\n",
              "      <td>5</td>\n",
              "      <td>113</td>\n",
              "      <td>136</td>\n",
              "      <td>1377</td>\n",
              "    </tr>\n",
              "    <tr>\n",
              "      <th>Formally employed Government</th>\n",
              "      <td>1</td>\n",
              "      <td>0</td>\n",
              "      <td>25</td>\n",
              "      <td>18</td>\n",
              "      <td>2</td>\n",
              "      <td>1</td>\n",
              "      <td>96</td>\n",
              "      <td>115</td>\n",
              "      <td>258</td>\n",
              "    </tr>\n",
              "    <tr>\n",
              "      <th>Formally employed Private</th>\n",
              "      <td>5</td>\n",
              "      <td>5</td>\n",
              "      <td>79</td>\n",
              "      <td>96</td>\n",
              "      <td>1</td>\n",
              "      <td>1</td>\n",
              "      <td>87</td>\n",
              "      <td>134</td>\n",
              "      <td>408</td>\n",
              "    </tr>\n",
              "    <tr>\n",
              "      <th>Informally employed</th>\n",
              "      <td>144</td>\n",
              "      <td>107</td>\n",
              "      <td>470</td>\n",
              "      <td>480</td>\n",
              "      <td>3</td>\n",
              "      <td>2</td>\n",
              "      <td>65</td>\n",
              "      <td>111</td>\n",
              "      <td>1382</td>\n",
              "    </tr>\n",
              "    <tr>\n",
              "      <th>Other Income</th>\n",
              "      <td>17</td>\n",
              "      <td>16</td>\n",
              "      <td>17</td>\n",
              "      <td>31</td>\n",
              "      <td>0</td>\n",
              "      <td>0</td>\n",
              "      <td>20</td>\n",
              "      <td>27</td>\n",
              "      <td>128</td>\n",
              "    </tr>\n",
              "    <tr>\n",
              "      <th>Self employed</th>\n",
              "      <td>44</td>\n",
              "      <td>18</td>\n",
              "      <td>335</td>\n",
              "      <td>173</td>\n",
              "      <td>3</td>\n",
              "      <td>2</td>\n",
              "      <td>174</td>\n",
              "      <td>179</td>\n",
              "      <td>928</td>\n",
              "    </tr>\n",
              "    <tr>\n",
              "      <th>dependent</th>\n",
              "      <td>238</td>\n",
              "      <td>142</td>\n",
              "      <td>404</td>\n",
              "      <td>115</td>\n",
              "      <td>3</td>\n",
              "      <td>2</td>\n",
              "      <td>74</td>\n",
              "      <td>37</td>\n",
              "      <td>1015</td>\n",
              "    </tr>\n",
              "    <tr>\n",
              "      <th rowspan=\"7\" valign=\"top\">Rwanda</th>\n",
              "      <th>Farming and Fishing</th>\n",
              "      <td>305</td>\n",
              "      <td>144</td>\n",
              "      <td>1619</td>\n",
              "      <td>1128</td>\n",
              "      <td>1</td>\n",
              "      <td>7</td>\n",
              "      <td>122</td>\n",
              "      <td>176</td>\n",
              "      <td>3502</td>\n",
              "    </tr>\n",
              "    <tr>\n",
              "      <th>Formally employed Government</th>\n",
              "      <td>1</td>\n",
              "      <td>0</td>\n",
              "      <td>25</td>\n",
              "      <td>17</td>\n",
              "      <td>1</td>\n",
              "      <td>0</td>\n",
              "      <td>34</td>\n",
              "      <td>48</td>\n",
              "      <td>126</td>\n",
              "    </tr>\n",
              "    <tr>\n",
              "      <th>Formally employed Private</th>\n",
              "      <td>5</td>\n",
              "      <td>3</td>\n",
              "      <td>49</td>\n",
              "      <td>44</td>\n",
              "      <td>0</td>\n",
              "      <td>0</td>\n",
              "      <td>20</td>\n",
              "      <td>36</td>\n",
              "      <td>157</td>\n",
              "    </tr>\n",
              "    <tr>\n",
              "      <th>Informally employed</th>\n",
              "      <td>416</td>\n",
              "      <td>207</td>\n",
              "      <td>1138</td>\n",
              "      <td>833</td>\n",
              "      <td>1</td>\n",
              "      <td>1</td>\n",
              "      <td>73</td>\n",
              "      <td>110</td>\n",
              "      <td>2779</td>\n",
              "    </tr>\n",
              "    <tr>\n",
              "      <th>Other Income</th>\n",
              "      <td>36</td>\n",
              "      <td>14</td>\n",
              "      <td>127</td>\n",
              "      <td>81</td>\n",
              "      <td>0</td>\n",
              "      <td>1</td>\n",
              "      <td>40</td>\n",
              "      <td>46</td>\n",
              "      <td>345</td>\n",
              "    </tr>\n",
              "    <tr>\n",
              "      <th>Self employed</th>\n",
              "      <td>17</td>\n",
              "      <td>11</td>\n",
              "      <td>215</td>\n",
              "      <td>169</td>\n",
              "      <td>0</td>\n",
              "      <td>0</td>\n",
              "      <td>83</td>\n",
              "      <td>94</td>\n",
              "      <td>589</td>\n",
              "    </tr>\n",
              "    <tr>\n",
              "      <th>dependent</th>\n",
              "      <td>54</td>\n",
              "      <td>12</td>\n",
              "      <td>334</td>\n",
              "      <td>123</td>\n",
              "      <td>0</td>\n",
              "      <td>2</td>\n",
              "      <td>52</td>\n",
              "      <td>13</td>\n",
              "      <td>590</td>\n",
              "    </tr>\n",
              "    <tr>\n",
              "      <th rowspan=\"6\" valign=\"top\">Tanzania</th>\n",
              "      <th>Formally employed Private</th>\n",
              "      <td>8</td>\n",
              "      <td>7</td>\n",
              "      <td>48</td>\n",
              "      <td>67</td>\n",
              "      <td>0</td>\n",
              "      <td>0</td>\n",
              "      <td>100</td>\n",
              "      <td>131</td>\n",
              "      <td>361</td>\n",
              "    </tr>\n",
              "    <tr>\n",
              "      <th>Informally employed</th>\n",
              "      <td>314</td>\n",
              "      <td>188</td>\n",
              "      <td>296</td>\n",
              "      <td>379</td>\n",
              "      <td>0</td>\n",
              "      <td>0</td>\n",
              "      <td>27</td>\n",
              "      <td>38</td>\n",
              "      <td>1242</td>\n",
              "    </tr>\n",
              "    <tr>\n",
              "      <th>No Income</th>\n",
              "      <td>144</td>\n",
              "      <td>38</td>\n",
              "      <td>119</td>\n",
              "      <td>17</td>\n",
              "      <td>1</td>\n",
              "      <td>0</td>\n",
              "      <td>5</td>\n",
              "      <td>1</td>\n",
              "      <td>325</td>\n",
              "    </tr>\n",
              "    <tr>\n",
              "      <th>Other Income</th>\n",
              "      <td>4</td>\n",
              "      <td>2</td>\n",
              "      <td>9</td>\n",
              "      <td>9</td>\n",
              "      <td>0</td>\n",
              "      <td>0</td>\n",
              "      <td>1</td>\n",
              "      <td>3</td>\n",
              "      <td>28</td>\n",
              "    </tr>\n",
              "    <tr>\n",
              "      <th>Self employed</th>\n",
              "      <td>901</td>\n",
              "      <td>419</td>\n",
              "      <td>932</td>\n",
              "      <td>1020</td>\n",
              "      <td>4</td>\n",
              "      <td>4</td>\n",
              "      <td>69</td>\n",
              "      <td>147</td>\n",
              "      <td>3496</td>\n",
              "    </tr>\n",
              "    <tr>\n",
              "      <th>dependent</th>\n",
              "      <td>235</td>\n",
              "      <td>31</td>\n",
              "      <td>248</td>\n",
              "      <td>40</td>\n",
              "      <td>1</td>\n",
              "      <td>2</td>\n",
              "      <td>26</td>\n",
              "      <td>18</td>\n",
              "      <td>601</td>\n",
              "    </tr>\n",
              "    <tr>\n",
              "      <th rowspan=\"5\" valign=\"top\">Uganda</th>\n",
              "      <th>Formally employed Private</th>\n",
              "      <td>5</td>\n",
              "      <td>4</td>\n",
              "      <td>29</td>\n",
              "      <td>14</td>\n",
              "      <td>0</td>\n",
              "      <td>1</td>\n",
              "      <td>26</td>\n",
              "      <td>26</td>\n",
              "      <td>105</td>\n",
              "    </tr>\n",
              "    <tr>\n",
              "      <th>No Income</th>\n",
              "      <td>66</td>\n",
              "      <td>25</td>\n",
              "      <td>105</td>\n",
              "      <td>18</td>\n",
              "      <td>1</td>\n",
              "      <td>0</td>\n",
              "      <td>4</td>\n",
              "      <td>0</td>\n",
              "      <td>219</td>\n",
              "    </tr>\n",
              "    <tr>\n",
              "      <th>Other Income</th>\n",
              "      <td>124</td>\n",
              "      <td>56</td>\n",
              "      <td>256</td>\n",
              "      <td>110</td>\n",
              "      <td>3</td>\n",
              "      <td>0</td>\n",
              "      <td>29</td>\n",
              "      <td>13</td>\n",
              "      <td>591</td>\n",
              "    </tr>\n",
              "    <tr>\n",
              "      <th>Self employed</th>\n",
              "      <td>192</td>\n",
              "      <td>71</td>\n",
              "      <td>407</td>\n",
              "      <td>271</td>\n",
              "      <td>2</td>\n",
              "      <td>1</td>\n",
              "      <td>30</td>\n",
              "      <td>31</td>\n",
              "      <td>1005</td>\n",
              "    </tr>\n",
              "    <tr>\n",
              "      <th>dependent</th>\n",
              "      <td>2</td>\n",
              "      <td>0</td>\n",
              "      <td>0</td>\n",
              "      <td>0</td>\n",
              "      <td>0</td>\n",
              "      <td>0</td>\n",
              "      <td>0</td>\n",
              "      <td>2</td>\n",
              "      <td>4</td>\n",
              "    </tr>\n",
              "    <tr>\n",
              "      <th>Total</th>\n",
              "      <th></th>\n",
              "      <td>3454</td>\n",
              "      <td>1607</td>\n",
              "      <td>7825</td>\n",
              "      <td>5569</td>\n",
              "      <td>32</td>\n",
              "      <td>32</td>\n",
              "      <td>1370</td>\n",
              "      <td>1672</td>\n",
              "      <td>21561</td>\n",
              "    </tr>\n",
              "  </tbody>\n",
              "</table>\n",
              "</div>"
            ],
            "text/plain": [
              "Has a Bank account                        No               ...    Yes        Total\n",
              "Cell Phone Access                         No          Yes  ...    Yes             \n",
              "gender_of_respondent                  Female  Male Female  ... Female  Male       \n",
              "country  Type of Job                                       ...                    \n",
              "Kenya    Farming and Fishing             176    87    539  ...    113   136   1377\n",
              "         Formally employed Government      1     0     25  ...     96   115    258\n",
              "         Formally employed Private         5     5     79  ...     87   134    408\n",
              "         Informally employed             144   107    470  ...     65   111   1382\n",
              "         Other Income                     17    16     17  ...     20    27    128\n",
              "         Self employed                    44    18    335  ...    174   179    928\n",
              "         dependent                       238   142    404  ...     74    37   1015\n",
              "Rwanda   Farming and Fishing             305   144   1619  ...    122   176   3502\n",
              "         Formally employed Government      1     0     25  ...     34    48    126\n",
              "         Formally employed Private         5     3     49  ...     20    36    157\n",
              "         Informally employed             416   207   1138  ...     73   110   2779\n",
              "         Other Income                     36    14    127  ...     40    46    345\n",
              "         Self employed                    17    11    215  ...     83    94    589\n",
              "         dependent                        54    12    334  ...     52    13    590\n",
              "Tanzania Formally employed Private         8     7     48  ...    100   131    361\n",
              "         Informally employed             314   188    296  ...     27    38   1242\n",
              "         No Income                       144    38    119  ...      5     1    325\n",
              "         Other Income                      4     2      9  ...      1     3     28\n",
              "         Self employed                   901   419    932  ...     69   147   3496\n",
              "         dependent                       235    31    248  ...     26    18    601\n",
              "Uganda   Formally employed Private         5     4     29  ...     26    26    105\n",
              "         No Income                        66    25    105  ...      4     0    219\n",
              "         Other Income                    124    56    256  ...     29    13    591\n",
              "         Self employed                   192    71    407  ...     30    31   1005\n",
              "         dependent                         2     0      0  ...      0     2      4\n",
              "Total                                   3454  1607   7825  ...   1370  1672  21561\n",
              "\n",
              "[26 rows x 9 columns]"
            ]
          },
          "metadata": {
            "tags": []
          },
          "execution_count": 63
        }
      ]
    },
    {
      "cell_type": "markdown",
      "metadata": {
        "id": "p7DkNmil1eaw"
      },
      "source": [
        "- We can see that there are more males who have access to cell phones and bank accounts compared to their female counterparts\n",
        "- This observation was across all types of job or income streams apart from dependent where the female population had the most bank accounts\n",
        "- this can imply most females are dependnent on aid\n",
        "\n",
        "- We can also see that there more females who have access to bank accounts but they do not have acesst o mobile phones\n",
        "- this observation cuts across all countries and income streams\n",
        "\n",
        "-In overall most females who had acess to bank services and acess to mobile phones aswell were more compared to the females who had acess to banks services but with no acess to mobile phones\n",
        "- Also there were more males who had acess to bank accounts and acess to mobile phones than those who had acess to bank accounts but with no access to mobile phones"
      ]
    },
    {
      "cell_type": "markdown",
      "metadata": {
        "id": "_hc81jAFFONa"
      },
      "source": [
        "##### type of location, has a bank account, cell phone acesss"
      ]
    },
    {
      "cell_type": "code",
      "metadata": {
        "colab": {
          "base_uri": "https://localhost:8080/",
          "height": 202
        },
        "id": "-wXFsbpy8VP5",
        "outputId": "2acc2013-923e-4cfc-c9e0-eb186100d2ac"
      },
      "source": [
        "pd.crosstab(index=[fin['Type of Location']], columns=[fin['Has a Bank account'],fin['Cell Phone Access']],margins=True,margins_name='Total')"
      ],
      "execution_count": 64,
      "outputs": [
        {
          "output_type": "execute_result",
          "data": {
            "text/html": [
              "<div>\n",
              "<style scoped>\n",
              "    .dataframe tbody tr th:only-of-type {\n",
              "        vertical-align: middle;\n",
              "    }\n",
              "\n",
              "    .dataframe tbody tr th {\n",
              "        vertical-align: top;\n",
              "    }\n",
              "\n",
              "    .dataframe thead tr th {\n",
              "        text-align: left;\n",
              "    }\n",
              "\n",
              "    .dataframe thead tr:last-of-type th {\n",
              "        text-align: right;\n",
              "    }\n",
              "</style>\n",
              "<table border=\"1\" class=\"dataframe\">\n",
              "  <thead>\n",
              "    <tr>\n",
              "      <th>Has a Bank account</th>\n",
              "      <th colspan=\"2\" halign=\"left\">No</th>\n",
              "      <th colspan=\"2\" halign=\"left\">Yes</th>\n",
              "      <th>Total</th>\n",
              "    </tr>\n",
              "    <tr>\n",
              "      <th>Cell Phone Access</th>\n",
              "      <th>No</th>\n",
              "      <th>Yes</th>\n",
              "      <th>No</th>\n",
              "      <th>Yes</th>\n",
              "      <th></th>\n",
              "    </tr>\n",
              "    <tr>\n",
              "      <th>Type of Location</th>\n",
              "      <th></th>\n",
              "      <th></th>\n",
              "      <th></th>\n",
              "      <th></th>\n",
              "      <th></th>\n",
              "    </tr>\n",
              "  </thead>\n",
              "  <tbody>\n",
              "    <tr>\n",
              "      <th>Rural</th>\n",
              "      <td>2680</td>\n",
              "      <td>8883</td>\n",
              "      <td>35</td>\n",
              "      <td>1494</td>\n",
              "      <td>13092</td>\n",
              "    </tr>\n",
              "    <tr>\n",
              "      <th>Urban</th>\n",
              "      <td>2381</td>\n",
              "      <td>4511</td>\n",
              "      <td>29</td>\n",
              "      <td>1548</td>\n",
              "      <td>8469</td>\n",
              "    </tr>\n",
              "    <tr>\n",
              "      <th>Total</th>\n",
              "      <td>5061</td>\n",
              "      <td>13394</td>\n",
              "      <td>64</td>\n",
              "      <td>3042</td>\n",
              "      <td>21561</td>\n",
              "    </tr>\n",
              "  </tbody>\n",
              "</table>\n",
              "</div>"
            ],
            "text/plain": [
              "Has a Bank account    No        Yes        Total\n",
              "Cell Phone Access     No    Yes  No   Yes       \n",
              "Type of Location                                \n",
              "Rural               2680   8883  35  1494  13092\n",
              "Urban               2381   4511  29  1548   8469\n",
              "Total               5061  13394  64  3042  21561"
            ]
          },
          "metadata": {
            "tags": []
          },
          "execution_count": 64
        }
      ]
    },
    {
      "cell_type": "code",
      "metadata": {
        "colab": {
          "base_uri": "https://localhost:8080/",
          "height": 333
        },
        "id": "v1A-H-Ke86zv",
        "outputId": "1306fc7b-0133-472d-ac36-018bcf3d6af2"
      },
      "source": [
        "a=pd.crosstab(index=[fin['Type of Location']], columns=[fin['Has a Bank account'],fin['Cell Phone Access']])\n",
        "plt.figure(figsize=(8,8))\n",
        "a.plot.bar()\n",
        "plt.title('has bank account, cell phone access')\n",
        "plt.ylabel('count')\n",
        "plt.show()"
      ],
      "execution_count": 65,
      "outputs": [
        {
          "output_type": "display_data",
          "data": {
            "text/plain": [
              "<Figure size 576x576 with 0 Axes>"
            ]
          },
          "metadata": {
            "tags": []
          }
        },
        {
          "output_type": "display_data",
          "data": {
            "image/png": "[encoded data removed]",
            "text/plain": [
              "<Figure size 432x288 with 1 Axes>"
            ]
          },
          "metadata": {
            "tags": [],
            "needs_background": "light"
          }
        }
      ]
    },
    {
      "cell_type": "markdown",
      "metadata": {
        "id": "9buz0JyD_mAi"
      },
      "source": [
        "- We can see that most people in rural areas had acess to phone cells and  but lacked acess to bank accounts than those in urban areas\n",
        "- we can also see that the number of people who have neither bank accounts and phone cells are almost proportional in both urban and rural areas. Thos ein the rural areas are slightly more\n",
        "- We can also see that there proportion of people who had access to bank accounts but no acess to cell phones were more in the urban areas\n",
        "- We can also see that the number of people who had both acess to bank accounts and cell phones were more in urban areas. "
      ]
    },
    {
      "cell_type": "markdown",
      "metadata": {
        "id": "3bpr6AAKFW-0"
      },
      "source": [
        "##### level of education, has bank account and gender of respondent"
      ]
    },
    {
      "cell_type": "code",
      "metadata": {
        "colab": {
          "base_uri": "https://localhost:8080/",
          "height": 355
        },
        "id": "8YfpAbHNCrX5",
        "outputId": "2efab75e-01fc-413f-9850-a79cb21e0581"
      },
      "source": [
        "pd.crosstab(index=[fin['Level of education']],columns=[fin['Has a Bank account'],fin['gender_of_respondent']],margins=True,margins_name='Total')"
      ],
      "execution_count": 66,
      "outputs": [
        {
          "output_type": "execute_result",
          "data": {
            "text/html": [
              "<div>\n",
              "<style scoped>\n",
              "    .dataframe tbody tr th:only-of-type {\n",
              "        vertical-align: middle;\n",
              "    }\n",
              "\n",
              "    .dataframe tbody tr th {\n",
              "        vertical-align: top;\n",
              "    }\n",
              "\n",
              "    .dataframe thead tr th {\n",
              "        text-align: left;\n",
              "    }\n",
              "\n",
              "    .dataframe thead tr:last-of-type th {\n",
              "        text-align: right;\n",
              "    }\n",
              "</style>\n",
              "<table border=\"1\" class=\"dataframe\">\n",
              "  <thead>\n",
              "    <tr>\n",
              "      <th>Has a Bank account</th>\n",
              "      <th colspan=\"2\" halign=\"left\">No</th>\n",
              "      <th colspan=\"2\" halign=\"left\">Yes</th>\n",
              "      <th>Total</th>\n",
              "    </tr>\n",
              "    <tr>\n",
              "      <th>gender_of_respondent</th>\n",
              "      <th>Female</th>\n",
              "      <th>Male</th>\n",
              "      <th>Female</th>\n",
              "      <th>Male</th>\n",
              "      <th></th>\n",
              "    </tr>\n",
              "    <tr>\n",
              "      <th>Level of education</th>\n",
              "      <th></th>\n",
              "      <th></th>\n",
              "      <th></th>\n",
              "      <th></th>\n",
              "      <th></th>\n",
              "    </tr>\n",
              "  </thead>\n",
              "  <tbody>\n",
              "    <tr>\n",
              "      <th>6</th>\n",
              "      <td>13</td>\n",
              "      <td>3</td>\n",
              "      <td>2</td>\n",
              "      <td>1</td>\n",
              "      <td>19</td>\n",
              "    </tr>\n",
              "    <tr>\n",
              "      <th>No formal education</th>\n",
              "      <td>2399</td>\n",
              "      <td>1016</td>\n",
              "      <td>59</td>\n",
              "      <td>56</td>\n",
              "      <td>3530</td>\n",
              "    </tr>\n",
              "    <tr>\n",
              "      <th>Other/Dont know/RTA</th>\n",
              "      <td>0</td>\n",
              "      <td>0</td>\n",
              "      <td>4</td>\n",
              "      <td>1</td>\n",
              "      <td>5</td>\n",
              "    </tr>\n",
              "    <tr>\n",
              "      <th>Primary education</th>\n",
              "      <td>6598</td>\n",
              "      <td>4412</td>\n",
              "      <td>441</td>\n",
              "      <td>565</td>\n",
              "      <td>12016</td>\n",
              "    </tr>\n",
              "    <tr>\n",
              "      <th>Secondary education</th>\n",
              "      <td>1767</td>\n",
              "      <td>1371</td>\n",
              "      <td>419</td>\n",
              "      <td>535</td>\n",
              "      <td>4092</td>\n",
              "    </tr>\n",
              "    <tr>\n",
              "      <th>Tertiary education</th>\n",
              "      <td>298</td>\n",
              "      <td>247</td>\n",
              "      <td>269</td>\n",
              "      <td>312</td>\n",
              "      <td>1126</td>\n",
              "    </tr>\n",
              "    <tr>\n",
              "      <th>Vocational/Specialised training</th>\n",
              "      <td>204</td>\n",
              "      <td>127</td>\n",
              "      <td>208</td>\n",
              "      <td>234</td>\n",
              "      <td>773</td>\n",
              "    </tr>\n",
              "    <tr>\n",
              "      <th>Total</th>\n",
              "      <td>11279</td>\n",
              "      <td>7176</td>\n",
              "      <td>1402</td>\n",
              "      <td>1704</td>\n",
              "      <td>21561</td>\n",
              "    </tr>\n",
              "  </tbody>\n",
              "</table>\n",
              "</div>"
            ],
            "text/plain": [
              "Has a Bank account                  No          Yes        Total\n",
              "gender_of_respondent            Female  Male Female  Male       \n",
              "Level of education                                              \n",
              "6                                   13     3      2     1     19\n",
              "No formal education               2399  1016     59    56   3530\n",
              "Other/Dont know/RTA                  0     0      4     1      5\n",
              "Primary education                 6598  4412    441   565  12016\n",
              "Secondary education               1767  1371    419   535   4092\n",
              "Tertiary education                 298   247    269   312   1126\n",
              "Vocational/Specialised training    204   127    208   234    773\n",
              "Total                            11279  7176   1402  1704  21561"
            ]
          },
          "metadata": {
            "tags": []
          },
          "execution_count": 66
        }
      ]
    },
    {
      "cell_type": "code",
      "metadata": {
        "colab": {
          "base_uri": "https://localhost:8080/",
          "height": 438
        },
        "id": "l_-ZCL4xDYgY",
        "outputId": "7726cfb0-5576-4c90-e2a3-1c7ed9ac8f3f"
      },
      "source": [
        "a=pd.crosstab(index=[fin['Level of education']],columns=[fin['Has a Bank account'],fin['gender_of_respondent']])\n",
        "a.plot.bar()\n",
        "plt.ylabel('count')\n",
        "plt.title('bank account access and gender of respondent')\n",
        "plt.show()"
      ],
      "execution_count": 67,
      "outputs": [
        {
          "output_type": "display_data",
          "data": {
            "image/png": "[encoded data removed]",
            "text/plain": [
              "<Figure size 432x288 with 1 Axes>"
            ]
          },
          "metadata": {
            "tags": [],
            "needs_background": "light"
          }
        }
      ]
    },
    {
      "cell_type": "markdown",
      "metadata": {
        "id": "hh1wk70_DuA-"
      },
      "source": [
        "- Across all levels of education attained by respondnents, most males and females did not have acess to bank accounts\n",
        "- Across all level of education, males counterparts had more bank accounts than the females\n",
        "- For both males and females that only achieved primary scholl education, they did not have acess to bank services\n",
        "- Most people who reached secondary school have acess to banks than the other people in the other levels of education"
      ]
    }
  ]
}