{
  "nbformat": 4,
  "nbformat_minor": 0,
  "metadata": {
    "colab": {
      "name": "financial inclusion in east africa",
      "provenance": [],
      "collapsed_sections": [],
      "toc_visible": true,
      "authorship_tag": "ABX9TyOvJWZl6F1JpXv5rQSKZ9Nt",
      "include_colab_link": true
    },
    "kernelspec": {
      "name": "python3",
      "display_name": "Python 3"
    },
    "language_info": {
      "name": "python"
    }
  },
  "cells": [
    {
      "cell_type": "markdown",
      "metadata": {
        "id": "view-in-github",
        "colab_type": "text"
      },
      "source": [
        "<a href=\"https://colab.research.google.com/github/GeorgeKMaina/Financial-Inclusion-East-Africa/blob/main/financial_inclusion_in_east_africa.ipynb\" target=\"_parent\"><img src=\"https://colab.research.google.com/assets/colab-badge.svg\" alt=\"Open In Colab\"/></a>"
      ]
    },
    {
      "cell_type": "markdown",
      "metadata": {
        "id": "JFFVylWzIev2"
      },
      "source": [
        "# Defining the question"
      ]
    },
    {
      "cell_type": "markdown",
      "metadata": {
        "id": "yMey81JCIhm-"
      },
      "source": [
        "#### a) Specyfying the Data Analytic Question"
      ]
    },
    {
      "cell_type": "markdown",
      "metadata": {
        "id": "CHjRcnN25RTW"
      },
      "source": [
        "What demographic factors can be used to establish whether an individual has acess to bank services "
      ]
    },
    {
      "cell_type": "markdown",
      "metadata": {
        "id": "gt6n1s3ZIu3t"
      },
      "source": [
        "#### b) Metric of success"
      ]
    },
    {
      "cell_type": "markdown",
      "metadata": {
        "id": "emaBGn6v5dr7"
      },
      "source": [
        "To identify the features that can help know whether an individual has acess to bank services using the chi squared test"
      ]
    },
    {
      "cell_type": "markdown",
      "metadata": {
        "id": "JJ0I7UjgIsBz"
      },
      "source": [
        "#### c) Understanding the context"
      ]
    },
    {
      "cell_type": "markdown",
      "metadata": {
        "id": "kTHWK8YN6IjK"
      },
      "source": [
        "- Traditionally, access to bank accounts has been regarded as an indicator of financial inclusion. Despite the proliferation of mobile money in Africa and the growth of innovative fintech solutions, banks still play a pivotal role in facilitating access to financial services. Access to bank accounts enables households to save and facilitate payments while also helping businesses build up their credit-worthiness and improve their access to other financial services. Therefore, access to bank accounts is an essential contributor to long-term economic growth.\n",
        "- The research problem is to figure out how we can predict which individuals are most likely to have or use a bank account."
      ]
    },
    {
      "cell_type": "markdown",
      "metadata": {
        "id": "kQ4bxYagJBGu"
      },
      "source": [
        "#### d) Recording the experimental design"
      ]
    },
    {
      "cell_type": "markdown",
      "metadata": {
        "id": "GVXACkJvyya3"
      },
      "source": [
        "- The project entailed the use of pandas cross tabulations to get summaries of the different columns\n",
        "- The project also used the chi2_contingency() function to get the chi squared statistics\n",
        "- The chi squared statistic is used to determine whether two column features are independent\n",
        "The null and alternative hypothesis for the chi square test is:"
      ]
    },
    {
      "cell_type": "markdown",
      "metadata": {
        "id": "MvEGOr5MzVY1"
      },
      "source": [
        "- Ho: The features are independnet\n",
        "- Ha: There is a relationship between the features\n",
        "\n",
        "-- null hypothesis is rejected when p-value is less than 0.05"
      ]
    },
    {
      "cell_type": "markdown",
      "metadata": {
        "id": "2W_GPKyBJMFs"
      },
      "source": [
        "#### e) Relevance of the data"
      ]
    },
    {
      "cell_type": "markdown",
      "metadata": {
        "id": "GFNcIuZ1yiI0"
      },
      "source": [
        "- The data provided is relevant to our research question which was to establish what factors can help predict whether an individual has access to bank services\n",
        "- from our analysis we were able to this"
      ]
    },
    {
      "cell_type": "markdown",
      "metadata": {
        "id": "-O4jKZW1JT1_"
      },
      "source": [
        "# Reading the Data"
      ]
    },
    {
      "cell_type": "code",
      "metadata": {
        "id": "97x3jAjGJXGS"
      },
      "source": [
        "# we will import the necessary libraries for analysis\n",
        "import pandas as pd\n",
        "import numpy as np\n",
        "import matplotlib.pyplot as plt\n",
        "import seaborn as sns\n",
        "from scipy import stats\n",
        "\n",
        "# we will read the dataset\n",
        "fin=pd.read_csv(r'/content/Financial Dataset - 1.csv')"
      ],
      "execution_count": 1,
      "outputs": []
    },
    {
      "cell_type": "markdown",
      "metadata": {
        "id": "mwaUmpnXLTMo"
      },
      "source": [
        "# Checking the Data"
      ]
    },
    {
      "cell_type": "code",
      "metadata": {
        "colab": {
          "base_uri": "https://localhost:8080/",
          "height": 372
        },
        "id": "vXp_7wBbLJG-",
        "outputId": "2c400b25-91d6-4086-9a01-a9b928b9a097"
      },
      "source": [
        "# we look at the first 5 rows\n",
        "fin.head()"
      ],
      "execution_count": 2,
      "outputs": [
        {
          "output_type": "execute_result",
          "data": {
            "text/html": [
              "<div>\n",
              "<style scoped>\n",
              "    .dataframe tbody tr th:only-of-type {\n",
              "        vertical-align: middle;\n",
              "    }\n",
              "\n",
              "    .dataframe tbody tr th {\n",
              "        vertical-align: top;\n",
              "    }\n",
              "\n",
              "    .dataframe thead th {\n",
              "        text-align: right;\n",
              "    }\n",
              "</style>\n",
              "<table border=\"1\" class=\"dataframe\">\n",
              "  <thead>\n",
              "    <tr style=\"text-align: right;\">\n",
              "      <th></th>\n",
              "      <th>country</th>\n",
              "      <th>year</th>\n",
              "      <th>uniqueid</th>\n",
              "      <th>Has a Bank account</th>\n",
              "      <th>Type of Location</th>\n",
              "      <th>Cell Phone Access</th>\n",
              "      <th>household_size</th>\n",
              "      <th>Respondent Age</th>\n",
              "      <th>gender_of_respondent</th>\n",
              "      <th>The relathip with head</th>\n",
              "      <th>marital_status</th>\n",
              "      <th>Level of Educuation</th>\n",
              "      <th>Type of Job</th>\n",
              "    </tr>\n",
              "  </thead>\n",
              "  <tbody>\n",
              "    <tr>\n",
              "      <th>0</th>\n",
              "      <td>Kenya</td>\n",
              "      <td>2018</td>\n",
              "      <td>uniqueid_1</td>\n",
              "      <td>Yes</td>\n",
              "      <td>Rural</td>\n",
              "      <td>Yes</td>\n",
              "      <td>3.0</td>\n",
              "      <td>24.0</td>\n",
              "      <td>Female</td>\n",
              "      <td>Spouse</td>\n",
              "      <td>Married/Living together</td>\n",
              "      <td>Secondary education</td>\n",
              "      <td>Self employed</td>\n",
              "    </tr>\n",
              "    <tr>\n",
              "      <th>1</th>\n",
              "      <td>Kenya</td>\n",
              "      <td>2018</td>\n",
              "      <td>uniqueid_2</td>\n",
              "      <td>No</td>\n",
              "      <td>Rural</td>\n",
              "      <td>No</td>\n",
              "      <td>5.0</td>\n",
              "      <td>70.0</td>\n",
              "      <td>Female</td>\n",
              "      <td>Head of Household</td>\n",
              "      <td>Widowed</td>\n",
              "      <td>No formal education</td>\n",
              "      <td>Government Dependent</td>\n",
              "    </tr>\n",
              "    <tr>\n",
              "      <th>2</th>\n",
              "      <td>Kenya</td>\n",
              "      <td>2018</td>\n",
              "      <td>uniqueid_3</td>\n",
              "      <td>Yes</td>\n",
              "      <td>Urban</td>\n",
              "      <td>Yes</td>\n",
              "      <td>5.0</td>\n",
              "      <td>26.0</td>\n",
              "      <td>Male</td>\n",
              "      <td>Other relative</td>\n",
              "      <td>Single/Never Married</td>\n",
              "      <td>Vocational/Specialised training</td>\n",
              "      <td>Self employed</td>\n",
              "    </tr>\n",
              "    <tr>\n",
              "      <th>3</th>\n",
              "      <td>Kenya</td>\n",
              "      <td>2018</td>\n",
              "      <td>uniqueid_4</td>\n",
              "      <td>No</td>\n",
              "      <td>Rural</td>\n",
              "      <td>Yes</td>\n",
              "      <td>5.0</td>\n",
              "      <td>34.0</td>\n",
              "      <td>Female</td>\n",
              "      <td>Head of Household</td>\n",
              "      <td>Married/Living together</td>\n",
              "      <td>Primary education</td>\n",
              "      <td>Formally employed Private</td>\n",
              "    </tr>\n",
              "    <tr>\n",
              "      <th>4</th>\n",
              "      <td>Kenya</td>\n",
              "      <td>2018</td>\n",
              "      <td>uniqueid_5</td>\n",
              "      <td>No</td>\n",
              "      <td>Urban</td>\n",
              "      <td>No</td>\n",
              "      <td>8.0</td>\n",
              "      <td>26.0</td>\n",
              "      <td>Male</td>\n",
              "      <td>Child</td>\n",
              "      <td>Single/Never Married</td>\n",
              "      <td>Primary education</td>\n",
              "      <td>Informally employed</td>\n",
              "    </tr>\n",
              "  </tbody>\n",
              "</table>\n",
              "</div>"
            ],
            "text/plain": [
              "  country  year  ...              Level of Educuation                Type of Job\n",
              "0   Kenya  2018  ...              Secondary education              Self employed\n",
              "1   Kenya  2018  ...              No formal education       Government Dependent\n",
              "2   Kenya  2018  ...  Vocational/Specialised training              Self employed\n",
              "3   Kenya  2018  ...                Primary education  Formally employed Private\n",
              "4   Kenya  2018  ...                Primary education        Informally employed\n",
              "\n",
              "[5 rows x 13 columns]"
            ]
          },
          "metadata": {
            "tags": []
          },
          "execution_count": 2
        }
      ]
    },
    {
      "cell_type": "code",
      "metadata": {
        "colab": {
          "base_uri": "https://localhost:8080/",
          "height": 355
        },
        "id": "zc0fFmJ9Lf5p",
        "outputId": "4f1de255-f9e9-4e06-eea6-b09933a41cc6"
      },
      "source": [
        "#we will look at the last 5 rows\n",
        "fin.tail()"
      ],
      "execution_count": 3,
      "outputs": [
        {
          "output_type": "execute_result",
          "data": {
            "text/html": [
              "<div>\n",
              "<style scoped>\n",
              "    .dataframe tbody tr th:only-of-type {\n",
              "        vertical-align: middle;\n",
              "    }\n",
              "\n",
              "    .dataframe tbody tr th {\n",
              "        vertical-align: top;\n",
              "    }\n",
              "\n",
              "    .dataframe thead th {\n",
              "        text-align: right;\n",
              "    }\n",
              "</style>\n",
              "<table border=\"1\" class=\"dataframe\">\n",
              "  <thead>\n",
              "    <tr style=\"text-align: right;\">\n",
              "      <th></th>\n",
              "      <th>country</th>\n",
              "      <th>year</th>\n",
              "      <th>uniqueid</th>\n",
              "      <th>Has a Bank account</th>\n",
              "      <th>Type of Location</th>\n",
              "      <th>Cell Phone Access</th>\n",
              "      <th>household_size</th>\n",
              "      <th>Respondent Age</th>\n",
              "      <th>gender_of_respondent</th>\n",
              "      <th>The relathip with head</th>\n",
              "      <th>marital_status</th>\n",
              "      <th>Level of Educuation</th>\n",
              "      <th>Type of Job</th>\n",
              "    </tr>\n",
              "  </thead>\n",
              "  <tbody>\n",
              "    <tr>\n",
              "      <th>23519</th>\n",
              "      <td>Uganda</td>\n",
              "      <td>2018</td>\n",
              "      <td>uniqueid_2113</td>\n",
              "      <td>No</td>\n",
              "      <td>Rural</td>\n",
              "      <td>Yes</td>\n",
              "      <td>4.0</td>\n",
              "      <td>48.0</td>\n",
              "      <td>Female</td>\n",
              "      <td>Head of Household</td>\n",
              "      <td>Divorced/Seperated</td>\n",
              "      <td>No formal education</td>\n",
              "      <td>Other Income</td>\n",
              "    </tr>\n",
              "    <tr>\n",
              "      <th>23520</th>\n",
              "      <td>Uganda</td>\n",
              "      <td>2018</td>\n",
              "      <td>uniqueid_2114</td>\n",
              "      <td>No</td>\n",
              "      <td>Rural</td>\n",
              "      <td>Yes</td>\n",
              "      <td>2.0</td>\n",
              "      <td>27.0</td>\n",
              "      <td>Female</td>\n",
              "      <td>Head of Household</td>\n",
              "      <td>Single/Never Married</td>\n",
              "      <td>Secondary education</td>\n",
              "      <td>Other Income</td>\n",
              "    </tr>\n",
              "    <tr>\n",
              "      <th>23521</th>\n",
              "      <td>Uganda</td>\n",
              "      <td>2018</td>\n",
              "      <td>uniqueid_2115</td>\n",
              "      <td>No</td>\n",
              "      <td>Rural</td>\n",
              "      <td>Yes</td>\n",
              "      <td>5.0</td>\n",
              "      <td>27.0</td>\n",
              "      <td>Female</td>\n",
              "      <td>Parent</td>\n",
              "      <td>Widowed</td>\n",
              "      <td>Primary education</td>\n",
              "      <td>Other Income</td>\n",
              "    </tr>\n",
              "    <tr>\n",
              "      <th>23522</th>\n",
              "      <td>Uganda</td>\n",
              "      <td>2018</td>\n",
              "      <td>uniqueid_2116</td>\n",
              "      <td>No</td>\n",
              "      <td>Urban</td>\n",
              "      <td>Yes</td>\n",
              "      <td>7.0</td>\n",
              "      <td>30.0</td>\n",
              "      <td>Female</td>\n",
              "      <td>Parent</td>\n",
              "      <td>Divorced/Seperated</td>\n",
              "      <td>Secondary education</td>\n",
              "      <td>Self employed</td>\n",
              "    </tr>\n",
              "    <tr>\n",
              "      <th>23523</th>\n",
              "      <td>Uganda</td>\n",
              "      <td>2018</td>\n",
              "      <td>uniqueid_2117</td>\n",
              "      <td>No</td>\n",
              "      <td>Rural</td>\n",
              "      <td>Yes</td>\n",
              "      <td>10.0</td>\n",
              "      <td>20.0</td>\n",
              "      <td>Male</td>\n",
              "      <td>Child</td>\n",
              "      <td>Single/Never Married</td>\n",
              "      <td>Secondary education</td>\n",
              "      <td>No Income</td>\n",
              "    </tr>\n",
              "  </tbody>\n",
              "</table>\n",
              "</div>"
            ],
            "text/plain": [
              "      country  year  ...  Level of Educuation    Type of Job\n",
              "23519  Uganda  2018  ...  No formal education   Other Income\n",
              "23520  Uganda  2018  ...  Secondary education   Other Income\n",
              "23521  Uganda  2018  ...    Primary education   Other Income\n",
              "23522  Uganda  2018  ...  Secondary education  Self employed\n",
              "23523  Uganda  2018  ...  Secondary education      No Income\n",
              "\n",
              "[5 rows x 13 columns]"
            ]
          },
          "metadata": {
            "tags": []
          },
          "execution_count": 3
        }
      ]
    },
    {
      "cell_type": "code",
      "metadata": {
        "colab": {
          "base_uri": "https://localhost:8080/"
        },
        "id": "hUTTq6pyLnT1",
        "outputId": "b523372a-c05a-4bca-cfcc-351b68566a1a"
      },
      "source": [
        "# we will check for the shape of the dataset\n",
        "print('shape of dataset:', fin.shape)\n",
        "print('Dataset has '+ str(fin.shape[0]) + ' rows and ' + str(fin.shape[1]) + ' columns')"
      ],
      "execution_count": 4,
      "outputs": [
        {
          "output_type": "stream",
          "text": [
            "shape of dataset: (23524, 13)\n",
            "Dataset has 23524 rows and 13 columns\n"
          ],
          "name": "stdout"
        }
      ]
    },
    {
      "cell_type": "code",
      "metadata": {
        "colab": {
          "base_uri": "https://localhost:8080/"
        },
        "id": "FBbT_GPZMOaw",
        "outputId": "53cd9e38-2902-4086-a400-7eb77c436b6f"
      },
      "source": [
        "# looking for the info of the dataset and the data types of the column\n",
        "fin.dtypes\n",
        "\n",
        "# we will need to convert the year column into datetime\n",
        "# we will need to convert the gender of respondent into categorical data type\n",
        "# we will need to convert the column Cell Phone Access into categorical data type\n",
        "# we will need to convert the Has a Bank account into categorical data type\n",
        "# we will need to convert the Has a marital_status categorical data type"
      ],
      "execution_count": 5,
      "outputs": [
        {
          "output_type": "execute_result",
          "data": {
            "text/plain": [
              "country                    object\n",
              "year                        int64\n",
              "uniqueid                   object\n",
              "Has a Bank account         object\n",
              "Type of Location           object\n",
              "Cell Phone Access          object\n",
              "household_size            float64\n",
              "Respondent Age            float64\n",
              "gender_of_respondent       object\n",
              "The relathip with head     object\n",
              "marital_status             object\n",
              "Level of Educuation        object\n",
              "Type of Job                object\n",
              "dtype: object"
            ]
          },
          "metadata": {
            "tags": []
          },
          "execution_count": 5
        }
      ]
    },
    {
      "cell_type": "code",
      "metadata": {
        "colab": {
          "base_uri": "https://localhost:8080/"
        },
        "id": "iO4PF3IvNKUG",
        "outputId": "e100e62b-9857-4651-e306-c3f8f8d6a186"
      },
      "source": [
        "fin.info()\n",
        "\n",
        "# we can see that there are columns with missing values"
      ],
      "execution_count": 6,
      "outputs": [
        {
          "output_type": "stream",
          "text": [
            "<class 'pandas.core.frame.DataFrame'>\n",
            "RangeIndex: 23524 entries, 0 to 23523\n",
            "Data columns (total 13 columns):\n",
            " #   Column                  Non-Null Count  Dtype  \n",
            "---  ------                  --------------  -----  \n",
            " 0   country                 23510 non-null  object \n",
            " 1   year                    23524 non-null  int64  \n",
            " 2   uniqueid                23524 non-null  object \n",
            " 3   Has a Bank account      23488 non-null  object \n",
            " 4   Type of Location        23509 non-null  object \n",
            " 5   Cell Phone Access       23513 non-null  object \n",
            " 6   household_size          23496 non-null  float64\n",
            " 7   Respondent Age          23490 non-null  float64\n",
            " 8   gender_of_respondent    23490 non-null  object \n",
            " 9   The relathip with head  23520 non-null  object \n",
            " 10  marital_status          23492 non-null  object \n",
            " 11  Level of Educuation     23495 non-null  object \n",
            " 12  Type of Job             23494 non-null  object \n",
            "dtypes: float64(2), int64(1), object(10)\n",
            "memory usage: 2.3+ MB\n"
          ],
          "name": "stdout"
        }
      ]
    },
    {
      "cell_type": "markdown",
      "metadata": {
        "id": "eHTPVzRtNhHr"
      },
      "source": [
        "# Tidying Up the Dataset"
      ]
    },
    {
      "cell_type": "code",
      "metadata": {
        "colab": {
          "base_uri": "https://localhost:8080/"
        },
        "id": "zgkHYB95aLkZ",
        "outputId": "a1883221-1698-41f0-aa67-c8f8d3f79f88"
      },
      "source": [
        "# we will start by looking for duplicated records in the dataset\n",
        "fin.duplicated().sum()"
      ],
      "execution_count": 7,
      "outputs": [
        {
          "output_type": "execute_result",
          "data": {
            "text/plain": [
              "0"
            ]
          },
          "metadata": {
            "tags": []
          },
          "execution_count": 7
        }
      ]
    },
    {
      "cell_type": "code",
      "metadata": {
        "colab": {
          "base_uri": "https://localhost:8080/"
        },
        "id": "Lmc10TN3RaQG",
        "outputId": "449f2a53-050d-4c64-b858-6387210986c9"
      },
      "source": [
        "cols=fin[['country','year','Has a Bank account','Type of Location','Cell Phone Access','household_size','gender_of_respondent','marital_status','Level of Educuation','Type of Job']]\n",
        "for col in cols:\n",
        "  print ('\\nlist of unique values in the column :%s'%col)\n",
        "  print(cols[col].unique())\n",
        "  \n",
        "\n",
        "# we can see that most columns contain nan values\n",
        "# the column year has records of 2029,2039 and 2056\n",
        "# we will first drop all the nan values\n",
        "# then proceed to look at the rows with the years 2029,2039,2056"
      ],
      "execution_count": 8,
      "outputs": [
        {
          "output_type": "stream",
          "text": [
            "\n",
            "list of unique values in the column :country\n",
            "['Kenya' 'Rwanda' 'Tanzania' nan 'Uganda']\n",
            "\n",
            "list of unique values in the column :year\n",
            "[2018 2029 2056 2016 2039 2017]\n",
            "\n",
            "list of unique values in the column :Has a Bank account\n",
            "['Yes' 'No' nan]\n",
            "\n",
            "list of unique values in the column :Type of Location\n",
            "['Rural' 'Urban' nan]\n",
            "\n",
            "list of unique values in the column :Cell Phone Access\n",
            "['Yes' 'No' nan]\n",
            "\n",
            "list of unique values in the column :household_size\n",
            "[ 3.  5.  8.  7.  1.  6.  4. 10.  2. 11.  9. 12. 16. 15. 13. 14. 21. nan\n",
            "  0. 18. 17. 20.]\n",
            "\n",
            "list of unique values in the column :gender_of_respondent\n",
            "['Female' 'Male' nan]\n",
            "\n",
            "list of unique values in the column :marital_status\n",
            "['Married/Living together' 'Widowed' 'Single/Never Married'\n",
            " 'Divorced/Seperated' 'Dont know' nan]\n",
            "\n",
            "list of unique values in the column :Level of Educuation\n",
            "['Secondary education' 'No formal education'\n",
            " 'Vocational/Specialised training' 'Primary education'\n",
            " 'Tertiary education' 'Other/Dont know/RTA' '6' nan]\n",
            "\n",
            "list of unique values in the column :Type of Job\n",
            "['Self employed' 'Government Dependent' 'Formally employed Private'\n",
            " 'Informally employed' 'Formally employed Government'\n",
            " 'Farming and Fishing' 'Remittance Dependent' 'Other Income'\n",
            " 'Dont Know/Refuse to answer' nan 'No Income']\n"
          ],
          "name": "stdout"
        }
      ]
    },
    {
      "cell_type": "code",
      "metadata": {
        "colab": {
          "base_uri": "https://localhost:8080/",
          "height": 403
        },
        "id": "85CpT58wTsRm",
        "outputId": "fd6f1434-bf11-4d9a-f8d2-bf73a672bf7e"
      },
      "source": [
        "#checking for the number of missing values(null) in each column\n",
        "missing=fin.isna().sum()\n",
        "missing=missing[missing!=0]\n",
        "print('number of columns with missing values:', len(missing))\n",
        "#checking for the propotion of missing values in percentage\n",
        "perc=(missing/len(fin))*100\n",
        "missing_perc=pd.concat([missing,perc],axis=1)\n",
        "missing_perc.rename(columns={0:'number of missing values',1:' percentage of missing values'},inplace=True)\n",
        "missing_perc"
      ],
      "execution_count": 9,
      "outputs": [
        {
          "output_type": "stream",
          "text": [
            "number of columns with missing values: 11\n"
          ],
          "name": "stdout"
        },
        {
          "output_type": "execute_result",
          "data": {
            "text/html": [
              "<div>\n",
              "<style scoped>\n",
              "    .dataframe tbody tr th:only-of-type {\n",
              "        vertical-align: middle;\n",
              "    }\n",
              "\n",
              "    .dataframe tbody tr th {\n",
              "        vertical-align: top;\n",
              "    }\n",
              "\n",
              "    .dataframe thead th {\n",
              "        text-align: right;\n",
              "    }\n",
              "</style>\n",
              "<table border=\"1\" class=\"dataframe\">\n",
              "  <thead>\n",
              "    <tr style=\"text-align: right;\">\n",
              "      <th></th>\n",
              "      <th>number of missing values</th>\n",
              "      <th>percentage of missing values</th>\n",
              "    </tr>\n",
              "  </thead>\n",
              "  <tbody>\n",
              "    <tr>\n",
              "      <th>country</th>\n",
              "      <td>14</td>\n",
              "      <td>0.059514</td>\n",
              "    </tr>\n",
              "    <tr>\n",
              "      <th>Has a Bank account</th>\n",
              "      <td>36</td>\n",
              "      <td>0.153035</td>\n",
              "    </tr>\n",
              "    <tr>\n",
              "      <th>Type of Location</th>\n",
              "      <td>15</td>\n",
              "      <td>0.063765</td>\n",
              "    </tr>\n",
              "    <tr>\n",
              "      <th>Cell Phone Access</th>\n",
              "      <td>11</td>\n",
              "      <td>0.046761</td>\n",
              "    </tr>\n",
              "    <tr>\n",
              "      <th>household_size</th>\n",
              "      <td>28</td>\n",
              "      <td>0.119027</td>\n",
              "    </tr>\n",
              "    <tr>\n",
              "      <th>Respondent Age</th>\n",
              "      <td>34</td>\n",
              "      <td>0.144533</td>\n",
              "    </tr>\n",
              "    <tr>\n",
              "      <th>gender_of_respondent</th>\n",
              "      <td>34</td>\n",
              "      <td>0.144533</td>\n",
              "    </tr>\n",
              "    <tr>\n",
              "      <th>The relathip with head</th>\n",
              "      <td>4</td>\n",
              "      <td>0.017004</td>\n",
              "    </tr>\n",
              "    <tr>\n",
              "      <th>marital_status</th>\n",
              "      <td>32</td>\n",
              "      <td>0.136031</td>\n",
              "    </tr>\n",
              "    <tr>\n",
              "      <th>Level of Educuation</th>\n",
              "      <td>29</td>\n",
              "      <td>0.123278</td>\n",
              "    </tr>\n",
              "    <tr>\n",
              "      <th>Type of Job</th>\n",
              "      <td>30</td>\n",
              "      <td>0.127529</td>\n",
              "    </tr>\n",
              "  </tbody>\n",
              "</table>\n",
              "</div>"
            ],
            "text/plain": [
              "                        number of missing values   percentage of missing values\n",
              "country                                       14                       0.059514\n",
              "Has a Bank account                            36                       0.153035\n",
              "Type of Location                              15                       0.063765\n",
              "Cell Phone Access                             11                       0.046761\n",
              "household_size                                28                       0.119027\n",
              "Respondent Age                                34                       0.144533\n",
              "gender_of_respondent                          34                       0.144533\n",
              "The relathip with head                         4                       0.017004\n",
              "marital_status                                32                       0.136031\n",
              "Level of Educuation                           29                       0.123278\n",
              "Type of Job                                   30                       0.127529"
            ]
          },
          "metadata": {
            "tags": []
          },
          "execution_count": 9
        }
      ]
    },
    {
      "cell_type": "code",
      "metadata": {
        "id": "o28gpxnDWcBu"
      },
      "source": [
        "# droping the null values will have no significant damage to our dataset\n",
        "# we will drop all the rows with missing values\n",
        "fin=fin.dropna()"
      ],
      "execution_count": 10,
      "outputs": []
    },
    {
      "cell_type": "code",
      "metadata": {
        "colab": {
          "base_uri": "https://localhost:8080/"
        },
        "id": "3iHLN7rXWtzs",
        "outputId": "5e38cb26-e3de-437a-cd35-df49ff1961c9"
      },
      "source": [
        "# to check if all missing values have been dropped\n",
        "fin.isna().sum()"
      ],
      "execution_count": 11,
      "outputs": [
        {
          "output_type": "execute_result",
          "data": {
            "text/plain": [
              "country                   0\n",
              "year                      0\n",
              "uniqueid                  0\n",
              "Has a Bank account        0\n",
              "Type of Location          0\n",
              "Cell Phone Access         0\n",
              "household_size            0\n",
              "Respondent Age            0\n",
              "gender_of_respondent      0\n",
              "The relathip with head    0\n",
              "marital_status            0\n",
              "Level of Educuation       0\n",
              "Type of Job               0\n",
              "dtype: int64"
            ]
          },
          "metadata": {
            "tags": []
          },
          "execution_count": 11
        }
      ]
    },
    {
      "cell_type": "code",
      "metadata": {
        "colab": {
          "base_uri": "https://localhost:8080/",
          "height": 277
        },
        "id": "nvkW-4LeXBio",
        "outputId": "65d8060d-404b-4713-b932-32953a3c5ed9"
      },
      "source": [
        "#checking at this anomalies in years\n",
        "fin[fin['year'].isin([2029,2056,2039])]"
      ],
      "execution_count": 12,
      "outputs": [
        {
          "output_type": "execute_result",
          "data": {
            "text/html": [
              "<div>\n",
              "<style scoped>\n",
              "    .dataframe tbody tr th:only-of-type {\n",
              "        vertical-align: middle;\n",
              "    }\n",
              "\n",
              "    .dataframe tbody tr th {\n",
              "        vertical-align: top;\n",
              "    }\n",
              "\n",
              "    .dataframe thead th {\n",
              "        text-align: right;\n",
              "    }\n",
              "</style>\n",
              "<table border=\"1\" class=\"dataframe\">\n",
              "  <thead>\n",
              "    <tr style=\"text-align: right;\">\n",
              "      <th></th>\n",
              "      <th>country</th>\n",
              "      <th>year</th>\n",
              "      <th>uniqueid</th>\n",
              "      <th>Has a Bank account</th>\n",
              "      <th>Type of Location</th>\n",
              "      <th>Cell Phone Access</th>\n",
              "      <th>household_size</th>\n",
              "      <th>Respondent Age</th>\n",
              "      <th>gender_of_respondent</th>\n",
              "      <th>The relathip with head</th>\n",
              "      <th>marital_status</th>\n",
              "      <th>Level of Educuation</th>\n",
              "      <th>Type of Job</th>\n",
              "    </tr>\n",
              "  </thead>\n",
              "  <tbody>\n",
              "    <tr>\n",
              "      <th>213</th>\n",
              "      <td>Kenya</td>\n",
              "      <td>2029</td>\n",
              "      <td>uniqueid_214</td>\n",
              "      <td>No</td>\n",
              "      <td>Urban</td>\n",
              "      <td>Yes</td>\n",
              "      <td>6.0</td>\n",
              "      <td>16.0</td>\n",
              "      <td>Male</td>\n",
              "      <td>Other relative</td>\n",
              "      <td>Single/Never Married</td>\n",
              "      <td>Secondary education</td>\n",
              "      <td>Remittance Dependent</td>\n",
              "    </tr>\n",
              "    <tr>\n",
              "      <th>308</th>\n",
              "      <td>Kenya</td>\n",
              "      <td>2056</td>\n",
              "      <td>uniqueid_309</td>\n",
              "      <td>Yes</td>\n",
              "      <td>Urban</td>\n",
              "      <td>Yes</td>\n",
              "      <td>4.0</td>\n",
              "      <td>40.0</td>\n",
              "      <td>Male</td>\n",
              "      <td>Head of Household</td>\n",
              "      <td>Married/Living together</td>\n",
              "      <td>Tertiary education</td>\n",
              "      <td>Formally employed Private</td>\n",
              "    </tr>\n",
              "    <tr>\n",
              "      <th>7014</th>\n",
              "      <td>Rwanda</td>\n",
              "      <td>2039</td>\n",
              "      <td>uniqueid_947</td>\n",
              "      <td>No</td>\n",
              "      <td>Rural</td>\n",
              "      <td>Yes</td>\n",
              "      <td>3.0</td>\n",
              "      <td>24.0</td>\n",
              "      <td>Female</td>\n",
              "      <td>Spouse</td>\n",
              "      <td>Married/Living together</td>\n",
              "      <td>Primary education</td>\n",
              "      <td>Informally employed</td>\n",
              "    </tr>\n",
              "  </tbody>\n",
              "</table>\n",
              "</div>"
            ],
            "text/plain": [
              "     country  year  ...  Level of Educuation                Type of Job\n",
              "213    Kenya  2029  ...  Secondary education       Remittance Dependent\n",
              "308    Kenya  2056  ...   Tertiary education  Formally employed Private\n",
              "7014  Rwanda  2039  ...    Primary education        Informally employed\n",
              "\n",
              "[3 rows x 13 columns]"
            ]
          },
          "metadata": {
            "tags": []
          },
          "execution_count": 12
        }
      ]
    },
    {
      "cell_type": "code",
      "metadata": {
        "colab": {
          "base_uri": "https://localhost:8080/"
        },
        "id": "KtJN2bdlXS3g",
        "outputId": "12c1c3d9-5e1b-4944-8b24-5a90637e8a0d"
      },
      "source": [
        "# we will drop this observations\n",
        "#this are anomalies in the dataset\n",
        "# there are only 3 rows that will be dropped\n",
        "fin.drop(fin[fin['year']>2019].index,inplace=True)\n",
        "\n",
        "#to confirm if the have beem dropped\n",
        "fin.year.value_counts()"
      ],
      "execution_count": 13,
      "outputs": [
        {
          "output_type": "execute_result",
          "data": {
            "text/plain": [
              "2016    8683\n",
              "2018    8157\n",
              "2017    6500\n",
              "Name: year, dtype: int64"
            ]
          },
          "metadata": {
            "tags": []
          },
          "execution_count": 13
        }
      ]
    },
    {
      "cell_type": "code",
      "metadata": {
        "colab": {
          "base_uri": "https://localhost:8080/",
          "height": 110
        },
        "id": "ryo7mXT9Zqsf",
        "outputId": "8fc9f9ec-334f-4e02-dbe6-6fd4a2069a5e"
      },
      "source": [
        "# we will look for outliers\n",
        "# we only have 2 numerical columns\n",
        "\n",
        "numerical=fin[['Respondent Age','household_size']]\n",
        "numerical.describe().T\n",
        "\n",
        "\n",
        "#the household size can not have 0 people\n",
        "#the respondent age is not logical\n",
        "#th avrage life expectancy of an individual in east africa is 68\n",
        "#any age above this we will treated it as an outlier"
      ],
      "execution_count": 14,
      "outputs": [
        {
          "output_type": "execute_result",
          "data": {
            "text/html": [
              "<div>\n",
              "<style scoped>\n",
              "    .dataframe tbody tr th:only-of-type {\n",
              "        vertical-align: middle;\n",
              "    }\n",
              "\n",
              "    .dataframe tbody tr th {\n",
              "        vertical-align: top;\n",
              "    }\n",
              "\n",
              "    .dataframe thead th {\n",
              "        text-align: right;\n",
              "    }\n",
              "</style>\n",
              "<table border=\"1\" class=\"dataframe\">\n",
              "  <thead>\n",
              "    <tr style=\"text-align: right;\">\n",
              "      <th></th>\n",
              "      <th>count</th>\n",
              "      <th>mean</th>\n",
              "      <th>std</th>\n",
              "      <th>min</th>\n",
              "      <th>25%</th>\n",
              "      <th>50%</th>\n",
              "      <th>75%</th>\n",
              "      <th>max</th>\n",
              "    </tr>\n",
              "  </thead>\n",
              "  <tbody>\n",
              "    <tr>\n",
              "      <th>Respondent Age</th>\n",
              "      <td>23340.0</td>\n",
              "      <td>38.807069</td>\n",
              "      <td>16.519905</td>\n",
              "      <td>16.0</td>\n",
              "      <td>26.0</td>\n",
              "      <td>35.0</td>\n",
              "      <td>49.0</td>\n",
              "      <td>100.0</td>\n",
              "    </tr>\n",
              "    <tr>\n",
              "      <th>household_size</th>\n",
              "      <td>23340.0</td>\n",
              "      <td>3.688560</td>\n",
              "      <td>2.281275</td>\n",
              "      <td>0.0</td>\n",
              "      <td>2.0</td>\n",
              "      <td>3.0</td>\n",
              "      <td>5.0</td>\n",
              "      <td>21.0</td>\n",
              "    </tr>\n",
              "  </tbody>\n",
              "</table>\n",
              "</div>"
            ],
            "text/plain": [
              "                  count       mean        std   min   25%   50%   75%    max\n",
              "Respondent Age  23340.0  38.807069  16.519905  16.0  26.0  35.0  49.0  100.0\n",
              "household_size  23340.0   3.688560   2.281275   0.0   2.0   3.0   5.0   21.0"
            ]
          },
          "metadata": {
            "tags": []
          },
          "execution_count": 14
        }
      ]
    },
    {
      "cell_type": "code",
      "metadata": {
        "colab": {
          "base_uri": "https://localhost:8080/",
          "height": 484
        },
        "id": "VNMMZxRAb0cu",
        "outputId": "d3e0809d-9c22-453d-8afa-2c2911ba5ee9"
      },
      "source": [
        "plt.figure(figsize=(8,8))\n",
        "numerical.boxplot()\n",
        "plt.show()"
      ],
      "execution_count": 15,
      "outputs": [
        {
          "output_type": "display_data",
          "data": {
            "image/png": "[encoded data removed]",
            "text/plain": [
              "<Figure size 576x576 with 1 Axes>"
            ]
          },
          "metadata": {
            "tags": [],
            "needs_background": "light"
          }
        }
      ]
    },
    {
      "cell_type": "code",
      "metadata": {
        "colab": {
          "base_uri": "https://localhost:8080/",
          "height": 1000
        },
        "id": "8YE-9W_9C1eq",
        "outputId": "98e13f12-351a-4955-9345-d12b0df58a76"
      },
      "source": [
        "#we will get all records of where the household size is less than 1\n",
        "#we will drop this observations from our dataset\n",
        "fin[fin['household_size']<1]\n"
      ],
      "execution_count": 16,
      "outputs": [
        {
          "output_type": "execute_result",
          "data": {
            "text/html": [
              "<div>\n",
              "<style scoped>\n",
              "    .dataframe tbody tr th:only-of-type {\n",
              "        vertical-align: middle;\n",
              "    }\n",
              "\n",
              "    .dataframe tbody tr th {\n",
              "        vertical-align: top;\n",
              "    }\n",
              "\n",
              "    .dataframe thead th {\n",
              "        text-align: right;\n",
              "    }\n",
              "</style>\n",
              "<table border=\"1\" class=\"dataframe\">\n",
              "  <thead>\n",
              "    <tr style=\"text-align: right;\">\n",
              "      <th></th>\n",
              "      <th>country</th>\n",
              "      <th>year</th>\n",
              "      <th>uniqueid</th>\n",
              "      <th>Has a Bank account</th>\n",
              "      <th>Type of Location</th>\n",
              "      <th>Cell Phone Access</th>\n",
              "      <th>household_size</th>\n",
              "      <th>Respondent Age</th>\n",
              "      <th>gender_of_respondent</th>\n",
              "      <th>The relathip with head</th>\n",
              "      <th>marital_status</th>\n",
              "      <th>Level of Educuation</th>\n",
              "      <th>Type of Job</th>\n",
              "    </tr>\n",
              "  </thead>\n",
              "  <tbody>\n",
              "    <tr>\n",
              "      <th>15171</th>\n",
              "      <td>Tanzania</td>\n",
              "      <td>2017</td>\n",
              "      <td>uniqueid_369</td>\n",
              "      <td>No</td>\n",
              "      <td>Urban</td>\n",
              "      <td>Yes</td>\n",
              "      <td>0.0</td>\n",
              "      <td>30.0</td>\n",
              "      <td>Female</td>\n",
              "      <td>Head of Household</td>\n",
              "      <td>Married/Living together</td>\n",
              "      <td>Primary education</td>\n",
              "      <td>No Income</td>\n",
              "    </tr>\n",
              "    <tr>\n",
              "      <th>15897</th>\n",
              "      <td>Tanzania</td>\n",
              "      <td>2017</td>\n",
              "      <td>uniqueid_1095</td>\n",
              "      <td>No</td>\n",
              "      <td>Urban</td>\n",
              "      <td>Yes</td>\n",
              "      <td>0.0</td>\n",
              "      <td>24.0</td>\n",
              "      <td>Female</td>\n",
              "      <td>Head of Household</td>\n",
              "      <td>Single/Never Married</td>\n",
              "      <td>Primary education</td>\n",
              "      <td>Remittance Dependent</td>\n",
              "    </tr>\n",
              "    <tr>\n",
              "      <th>15918</th>\n",
              "      <td>Tanzania</td>\n",
              "      <td>2017</td>\n",
              "      <td>uniqueid_1116</td>\n",
              "      <td>No</td>\n",
              "      <td>Rural</td>\n",
              "      <td>No</td>\n",
              "      <td>0.0</td>\n",
              "      <td>27.0</td>\n",
              "      <td>Male</td>\n",
              "      <td>Parent</td>\n",
              "      <td>Divorced/Seperated</td>\n",
              "      <td>Secondary education</td>\n",
              "      <td>No Income</td>\n",
              "    </tr>\n",
              "    <tr>\n",
              "      <th>16006</th>\n",
              "      <td>Tanzania</td>\n",
              "      <td>2017</td>\n",
              "      <td>uniqueid_1204</td>\n",
              "      <td>No</td>\n",
              "      <td>Rural</td>\n",
              "      <td>Yes</td>\n",
              "      <td>0.0</td>\n",
              "      <td>22.0</td>\n",
              "      <td>Female</td>\n",
              "      <td>Head of Household</td>\n",
              "      <td>Divorced/Seperated</td>\n",
              "      <td>Tertiary education</td>\n",
              "      <td>Remittance Dependent</td>\n",
              "    </tr>\n",
              "    <tr>\n",
              "      <th>16132</th>\n",
              "      <td>Tanzania</td>\n",
              "      <td>2017</td>\n",
              "      <td>uniqueid_1330</td>\n",
              "      <td>No</td>\n",
              "      <td>Rural</td>\n",
              "      <td>No</td>\n",
              "      <td>0.0</td>\n",
              "      <td>18.0</td>\n",
              "      <td>Female</td>\n",
              "      <td>Other relative</td>\n",
              "      <td>Divorced/Seperated</td>\n",
              "      <td>Secondary education</td>\n",
              "      <td>Remittance Dependent</td>\n",
              "    </tr>\n",
              "    <tr>\n",
              "      <th>16137</th>\n",
              "      <td>Tanzania</td>\n",
              "      <td>2017</td>\n",
              "      <td>uniqueid_1335</td>\n",
              "      <td>No</td>\n",
              "      <td>Urban</td>\n",
              "      <td>Yes</td>\n",
              "      <td>0.0</td>\n",
              "      <td>23.0</td>\n",
              "      <td>Female</td>\n",
              "      <td>Head of Household</td>\n",
              "      <td>Divorced/Seperated</td>\n",
              "      <td>Primary education</td>\n",
              "      <td>No Income</td>\n",
              "    </tr>\n",
              "    <tr>\n",
              "      <th>16509</th>\n",
              "      <td>Tanzania</td>\n",
              "      <td>2017</td>\n",
              "      <td>uniqueid_1707</td>\n",
              "      <td>No</td>\n",
              "      <td>Urban</td>\n",
              "      <td>Yes</td>\n",
              "      <td>0.0</td>\n",
              "      <td>23.0</td>\n",
              "      <td>Female</td>\n",
              "      <td>Parent</td>\n",
              "      <td>Divorced/Seperated</td>\n",
              "      <td>Tertiary education</td>\n",
              "      <td>No Income</td>\n",
              "    </tr>\n",
              "    <tr>\n",
              "      <th>16561</th>\n",
              "      <td>Tanzania</td>\n",
              "      <td>2017</td>\n",
              "      <td>uniqueid_1759</td>\n",
              "      <td>No</td>\n",
              "      <td>Urban</td>\n",
              "      <td>No</td>\n",
              "      <td>0.0</td>\n",
              "      <td>87.0</td>\n",
              "      <td>Female</td>\n",
              "      <td>Head of Household</td>\n",
              "      <td>Widowed</td>\n",
              "      <td>No formal education</td>\n",
              "      <td>No Income</td>\n",
              "    </tr>\n",
              "    <tr>\n",
              "      <th>16702</th>\n",
              "      <td>Tanzania</td>\n",
              "      <td>2017</td>\n",
              "      <td>uniqueid_1900</td>\n",
              "      <td>No</td>\n",
              "      <td>Urban</td>\n",
              "      <td>Yes</td>\n",
              "      <td>0.0</td>\n",
              "      <td>32.0</td>\n",
              "      <td>Female</td>\n",
              "      <td>Head of Household</td>\n",
              "      <td>Single/Never Married</td>\n",
              "      <td>Primary education</td>\n",
              "      <td>Remittance Dependent</td>\n",
              "    </tr>\n",
              "    <tr>\n",
              "      <th>16987</th>\n",
              "      <td>Tanzania</td>\n",
              "      <td>2017</td>\n",
              "      <td>uniqueid_2185</td>\n",
              "      <td>No</td>\n",
              "      <td>Urban</td>\n",
              "      <td>No</td>\n",
              "      <td>0.0</td>\n",
              "      <td>75.0</td>\n",
              "      <td>Female</td>\n",
              "      <td>Head of Household</td>\n",
              "      <td>Married/Living together</td>\n",
              "      <td>Primary education</td>\n",
              "      <td>No Income</td>\n",
              "    </tr>\n",
              "    <tr>\n",
              "      <th>17430</th>\n",
              "      <td>Tanzania</td>\n",
              "      <td>2017</td>\n",
              "      <td>uniqueid_2628</td>\n",
              "      <td>No</td>\n",
              "      <td>Urban</td>\n",
              "      <td>No</td>\n",
              "      <td>0.0</td>\n",
              "      <td>63.0</td>\n",
              "      <td>Female</td>\n",
              "      <td>Head of Household</td>\n",
              "      <td>Married/Living together</td>\n",
              "      <td>No formal education</td>\n",
              "      <td>Self employed</td>\n",
              "    </tr>\n",
              "    <tr>\n",
              "      <th>17759</th>\n",
              "      <td>Tanzania</td>\n",
              "      <td>2017</td>\n",
              "      <td>uniqueid_2957</td>\n",
              "      <td>No</td>\n",
              "      <td>Rural</td>\n",
              "      <td>Yes</td>\n",
              "      <td>0.0</td>\n",
              "      <td>75.0</td>\n",
              "      <td>Male</td>\n",
              "      <td>Head of Household</td>\n",
              "      <td>Single/Never Married</td>\n",
              "      <td>No formal education</td>\n",
              "      <td>Remittance Dependent</td>\n",
              "    </tr>\n",
              "    <tr>\n",
              "      <th>18104</th>\n",
              "      <td>Tanzania</td>\n",
              "      <td>2017</td>\n",
              "      <td>uniqueid_3302</td>\n",
              "      <td>No</td>\n",
              "      <td>Rural</td>\n",
              "      <td>Yes</td>\n",
              "      <td>0.0</td>\n",
              "      <td>42.0</td>\n",
              "      <td>Female</td>\n",
              "      <td>Head of Household</td>\n",
              "      <td>Single/Never Married</td>\n",
              "      <td>Primary education</td>\n",
              "      <td>No Income</td>\n",
              "    </tr>\n",
              "    <tr>\n",
              "      <th>18193</th>\n",
              "      <td>Tanzania</td>\n",
              "      <td>2017</td>\n",
              "      <td>uniqueid_3391</td>\n",
              "      <td>No</td>\n",
              "      <td>Urban</td>\n",
              "      <td>Yes</td>\n",
              "      <td>0.0</td>\n",
              "      <td>75.0</td>\n",
              "      <td>Male</td>\n",
              "      <td>Head of Household</td>\n",
              "      <td>Single/Never Married</td>\n",
              "      <td>Primary education</td>\n",
              "      <td>Remittance Dependent</td>\n",
              "    </tr>\n",
              "    <tr>\n",
              "      <th>18194</th>\n",
              "      <td>Tanzania</td>\n",
              "      <td>2017</td>\n",
              "      <td>uniqueid_3392</td>\n",
              "      <td>No</td>\n",
              "      <td>Urban</td>\n",
              "      <td>No</td>\n",
              "      <td>0.0</td>\n",
              "      <td>74.0</td>\n",
              "      <td>Female</td>\n",
              "      <td>Spouse</td>\n",
              "      <td>Single/Never Married</td>\n",
              "      <td>Primary education</td>\n",
              "      <td>No Income</td>\n",
              "    </tr>\n",
              "    <tr>\n",
              "      <th>18323</th>\n",
              "      <td>Tanzania</td>\n",
              "      <td>2017</td>\n",
              "      <td>uniqueid_3521</td>\n",
              "      <td>No</td>\n",
              "      <td>Urban</td>\n",
              "      <td>No</td>\n",
              "      <td>0.0</td>\n",
              "      <td>90.0</td>\n",
              "      <td>Female</td>\n",
              "      <td>Head of Household</td>\n",
              "      <td>Widowed</td>\n",
              "      <td>No formal education</td>\n",
              "      <td>No Income</td>\n",
              "    </tr>\n",
              "    <tr>\n",
              "      <th>18420</th>\n",
              "      <td>Tanzania</td>\n",
              "      <td>2017</td>\n",
              "      <td>uniqueid_3618</td>\n",
              "      <td>No</td>\n",
              "      <td>Rural</td>\n",
              "      <td>Yes</td>\n",
              "      <td>0.0</td>\n",
              "      <td>51.0</td>\n",
              "      <td>Female</td>\n",
              "      <td>Spouse</td>\n",
              "      <td>Single/Never Married</td>\n",
              "      <td>Primary education</td>\n",
              "      <td>Informally employed</td>\n",
              "    </tr>\n",
              "    <tr>\n",
              "      <th>18955</th>\n",
              "      <td>Tanzania</td>\n",
              "      <td>2017</td>\n",
              "      <td>uniqueid_4153</td>\n",
              "      <td>No</td>\n",
              "      <td>Urban</td>\n",
              "      <td>No</td>\n",
              "      <td>0.0</td>\n",
              "      <td>70.0</td>\n",
              "      <td>Female</td>\n",
              "      <td>Head of Household</td>\n",
              "      <td>Widowed</td>\n",
              "      <td>No formal education</td>\n",
              "      <td>Remittance Dependent</td>\n",
              "    </tr>\n",
              "    <tr>\n",
              "      <th>19227</th>\n",
              "      <td>Tanzania</td>\n",
              "      <td>2017</td>\n",
              "      <td>uniqueid_4425</td>\n",
              "      <td>No</td>\n",
              "      <td>Urban</td>\n",
              "      <td>No</td>\n",
              "      <td>0.0</td>\n",
              "      <td>81.0</td>\n",
              "      <td>Male</td>\n",
              "      <td>Head of Household</td>\n",
              "      <td>Single/Never Married</td>\n",
              "      <td>No formal education</td>\n",
              "      <td>No Income</td>\n",
              "    </tr>\n",
              "    <tr>\n",
              "      <th>19481</th>\n",
              "      <td>Tanzania</td>\n",
              "      <td>2017</td>\n",
              "      <td>uniqueid_4679</td>\n",
              "      <td>No</td>\n",
              "      <td>Rural</td>\n",
              "      <td>No</td>\n",
              "      <td>0.0</td>\n",
              "      <td>17.0</td>\n",
              "      <td>Female</td>\n",
              "      <td>Other relative</td>\n",
              "      <td>Divorced/Seperated</td>\n",
              "      <td>Primary education</td>\n",
              "      <td>Remittance Dependent</td>\n",
              "    </tr>\n",
              "    <tr>\n",
              "      <th>19710</th>\n",
              "      <td>Tanzania</td>\n",
              "      <td>2017</td>\n",
              "      <td>uniqueid_4908</td>\n",
              "      <td>No</td>\n",
              "      <td>Urban</td>\n",
              "      <td>No</td>\n",
              "      <td>0.0</td>\n",
              "      <td>58.0</td>\n",
              "      <td>Female</td>\n",
              "      <td>Head of Household</td>\n",
              "      <td>Divorced/Seperated</td>\n",
              "      <td>Primary education</td>\n",
              "      <td>No Income</td>\n",
              "    </tr>\n",
              "    <tr>\n",
              "      <th>19780</th>\n",
              "      <td>Tanzania</td>\n",
              "      <td>2017</td>\n",
              "      <td>uniqueid_4978</td>\n",
              "      <td>No</td>\n",
              "      <td>Urban</td>\n",
              "      <td>No</td>\n",
              "      <td>0.0</td>\n",
              "      <td>70.0</td>\n",
              "      <td>Female</td>\n",
              "      <td>Head of Household</td>\n",
              "      <td>Widowed</td>\n",
              "      <td>No formal education</td>\n",
              "      <td>Remittance Dependent</td>\n",
              "    </tr>\n",
              "    <tr>\n",
              "      <th>19947</th>\n",
              "      <td>Tanzania</td>\n",
              "      <td>2017</td>\n",
              "      <td>uniqueid_5145</td>\n",
              "      <td>No</td>\n",
              "      <td>Urban</td>\n",
              "      <td>No</td>\n",
              "      <td>0.0</td>\n",
              "      <td>86.0</td>\n",
              "      <td>Female</td>\n",
              "      <td>Head of Household</td>\n",
              "      <td>Widowed</td>\n",
              "      <td>No formal education</td>\n",
              "      <td>No Income</td>\n",
              "    </tr>\n",
              "    <tr>\n",
              "      <th>19977</th>\n",
              "      <td>Tanzania</td>\n",
              "      <td>2017</td>\n",
              "      <td>uniqueid_5175</td>\n",
              "      <td>No</td>\n",
              "      <td>Rural</td>\n",
              "      <td>Yes</td>\n",
              "      <td>0.0</td>\n",
              "      <td>61.0</td>\n",
              "      <td>Female</td>\n",
              "      <td>Head of Household</td>\n",
              "      <td>Widowed</td>\n",
              "      <td>Primary education</td>\n",
              "      <td>Remittance Dependent</td>\n",
              "    </tr>\n",
              "    <tr>\n",
              "      <th>20058</th>\n",
              "      <td>Tanzania</td>\n",
              "      <td>2017</td>\n",
              "      <td>uniqueid_5256</td>\n",
              "      <td>No</td>\n",
              "      <td>Urban</td>\n",
              "      <td>No</td>\n",
              "      <td>0.0</td>\n",
              "      <td>84.0</td>\n",
              "      <td>Male</td>\n",
              "      <td>Head of Household</td>\n",
              "      <td>Married/Living together</td>\n",
              "      <td>Secondary education</td>\n",
              "      <td>Remittance Dependent</td>\n",
              "    </tr>\n",
              "    <tr>\n",
              "      <th>20079</th>\n",
              "      <td>Tanzania</td>\n",
              "      <td>2017</td>\n",
              "      <td>uniqueid_5277</td>\n",
              "      <td>No</td>\n",
              "      <td>Urban</td>\n",
              "      <td>No</td>\n",
              "      <td>0.0</td>\n",
              "      <td>58.0</td>\n",
              "      <td>Female</td>\n",
              "      <td>Head of Household</td>\n",
              "      <td>Widowed</td>\n",
              "      <td>No formal education</td>\n",
              "      <td>Remittance Dependent</td>\n",
              "    </tr>\n",
              "    <tr>\n",
              "      <th>20132</th>\n",
              "      <td>Tanzania</td>\n",
              "      <td>2017</td>\n",
              "      <td>uniqueid_5330</td>\n",
              "      <td>No</td>\n",
              "      <td>Urban</td>\n",
              "      <td>No</td>\n",
              "      <td>0.0</td>\n",
              "      <td>38.0</td>\n",
              "      <td>Female</td>\n",
              "      <td>Head of Household</td>\n",
              "      <td>Married/Living together</td>\n",
              "      <td>No formal education</td>\n",
              "      <td>Informally employed</td>\n",
              "    </tr>\n",
              "    <tr>\n",
              "      <th>20513</th>\n",
              "      <td>Tanzania</td>\n",
              "      <td>2017</td>\n",
              "      <td>uniqueid_5711</td>\n",
              "      <td>No</td>\n",
              "      <td>Urban</td>\n",
              "      <td>No</td>\n",
              "      <td>0.0</td>\n",
              "      <td>86.0</td>\n",
              "      <td>Female</td>\n",
              "      <td>Head of Household</td>\n",
              "      <td>Widowed</td>\n",
              "      <td>No formal education</td>\n",
              "      <td>No Income</td>\n",
              "    </tr>\n",
              "    <tr>\n",
              "      <th>20525</th>\n",
              "      <td>Tanzania</td>\n",
              "      <td>2017</td>\n",
              "      <td>uniqueid_5723</td>\n",
              "      <td>No</td>\n",
              "      <td>Urban</td>\n",
              "      <td>No</td>\n",
              "      <td>0.0</td>\n",
              "      <td>85.0</td>\n",
              "      <td>Male</td>\n",
              "      <td>Head of Household</td>\n",
              "      <td>Widowed</td>\n",
              "      <td>No formal education</td>\n",
              "      <td>Remittance Dependent</td>\n",
              "    </tr>\n",
              "    <tr>\n",
              "      <th>20747</th>\n",
              "      <td>Tanzania</td>\n",
              "      <td>2017</td>\n",
              "      <td>uniqueid_5945</td>\n",
              "      <td>No</td>\n",
              "      <td>Urban</td>\n",
              "      <td>No</td>\n",
              "      <td>0.0</td>\n",
              "      <td>85.0</td>\n",
              "      <td>Male</td>\n",
              "      <td>Head of Household</td>\n",
              "      <td>Widowed</td>\n",
              "      <td>Primary education</td>\n",
              "      <td>Remittance Dependent</td>\n",
              "    </tr>\n",
              "    <tr>\n",
              "      <th>20836</th>\n",
              "      <td>Tanzania</td>\n",
              "      <td>2017</td>\n",
              "      <td>uniqueid_6034</td>\n",
              "      <td>No</td>\n",
              "      <td>Rural</td>\n",
              "      <td>No</td>\n",
              "      <td>0.0</td>\n",
              "      <td>16.0</td>\n",
              "      <td>Male</td>\n",
              "      <td>Other relative</td>\n",
              "      <td>Divorced/Seperated</td>\n",
              "      <td>Secondary education</td>\n",
              "      <td>No Income</td>\n",
              "    </tr>\n",
              "    <tr>\n",
              "      <th>20927</th>\n",
              "      <td>Tanzania</td>\n",
              "      <td>2017</td>\n",
              "      <td>uniqueid_6125</td>\n",
              "      <td>No</td>\n",
              "      <td>Rural</td>\n",
              "      <td>No</td>\n",
              "      <td>0.0</td>\n",
              "      <td>52.0</td>\n",
              "      <td>Female</td>\n",
              "      <td>Spouse</td>\n",
              "      <td>Single/Never Married</td>\n",
              "      <td>Primary education</td>\n",
              "      <td>Remittance Dependent</td>\n",
              "    </tr>\n",
              "    <tr>\n",
              "      <th>20945</th>\n",
              "      <td>Tanzania</td>\n",
              "      <td>2017</td>\n",
              "      <td>uniqueid_6143</td>\n",
              "      <td>No</td>\n",
              "      <td>Urban</td>\n",
              "      <td>No</td>\n",
              "      <td>0.0</td>\n",
              "      <td>100.0</td>\n",
              "      <td>Female</td>\n",
              "      <td>Head of Household</td>\n",
              "      <td>Widowed</td>\n",
              "      <td>No formal education</td>\n",
              "      <td>No Income</td>\n",
              "    </tr>\n",
              "    <tr>\n",
              "      <th>21168</th>\n",
              "      <td>Tanzania</td>\n",
              "      <td>2017</td>\n",
              "      <td>uniqueid_6366</td>\n",
              "      <td>No</td>\n",
              "      <td>Rural</td>\n",
              "      <td>No</td>\n",
              "      <td>0.0</td>\n",
              "      <td>18.0</td>\n",
              "      <td>Male</td>\n",
              "      <td>Head of Household</td>\n",
              "      <td>Divorced/Seperated</td>\n",
              "      <td>Secondary education</td>\n",
              "      <td>No Income</td>\n",
              "    </tr>\n",
              "    <tr>\n",
              "      <th>21239</th>\n",
              "      <td>Tanzania</td>\n",
              "      <td>2017</td>\n",
              "      <td>uniqueid_6437</td>\n",
              "      <td>Yes</td>\n",
              "      <td>Rural</td>\n",
              "      <td>Yes</td>\n",
              "      <td>0.0</td>\n",
              "      <td>22.0</td>\n",
              "      <td>Male</td>\n",
              "      <td>Head of Household</td>\n",
              "      <td>Divorced/Seperated</td>\n",
              "      <td>Vocational/Specialised training</td>\n",
              "      <td>No Income</td>\n",
              "    </tr>\n",
              "    <tr>\n",
              "      <th>21401</th>\n",
              "      <td>Tanzania</td>\n",
              "      <td>2017</td>\n",
              "      <td>uniqueid_6615</td>\n",
              "      <td>No</td>\n",
              "      <td>Rural</td>\n",
              "      <td>No</td>\n",
              "      <td>0.0</td>\n",
              "      <td>96.0</td>\n",
              "      <td>Female</td>\n",
              "      <td>Head of Household</td>\n",
              "      <td>Widowed</td>\n",
              "      <td>No formal education</td>\n",
              "      <td>No Income</td>\n",
              "    </tr>\n",
              "  </tbody>\n",
              "</table>\n",
              "</div>"
            ],
            "text/plain": [
              "        country  year  ...              Level of Educuation           Type of Job\n",
              "15171  Tanzania  2017  ...                Primary education             No Income\n",
              "15897  Tanzania  2017  ...                Primary education  Remittance Dependent\n",
              "15918  Tanzania  2017  ...              Secondary education             No Income\n",
              "16006  Tanzania  2017  ...               Tertiary education  Remittance Dependent\n",
              "16132  Tanzania  2017  ...              Secondary education  Remittance Dependent\n",
              "16137  Tanzania  2017  ...                Primary education             No Income\n",
              "16509  Tanzania  2017  ...               Tertiary education             No Income\n",
              "16561  Tanzania  2017  ...              No formal education             No Income\n",
              "16702  Tanzania  2017  ...                Primary education  Remittance Dependent\n",
              "16987  Tanzania  2017  ...                Primary education             No Income\n",
              "17430  Tanzania  2017  ...              No formal education         Self employed\n",
              "17759  Tanzania  2017  ...              No formal education  Remittance Dependent\n",
              "18104  Tanzania  2017  ...                Primary education             No Income\n",
              "18193  Tanzania  2017  ...                Primary education  Remittance Dependent\n",
              "18194  Tanzania  2017  ...                Primary education             No Income\n",
              "18323  Tanzania  2017  ...              No formal education             No Income\n",
              "18420  Tanzania  2017  ...                Primary education   Informally employed\n",
              "18955  Tanzania  2017  ...              No formal education  Remittance Dependent\n",
              "19227  Tanzania  2017  ...              No formal education             No Income\n",
              "19481  Tanzania  2017  ...                Primary education  Remittance Dependent\n",
              "19710  Tanzania  2017  ...                Primary education             No Income\n",
              "19780  Tanzania  2017  ...              No formal education  Remittance Dependent\n",
              "19947  Tanzania  2017  ...              No formal education             No Income\n",
              "19977  Tanzania  2017  ...                Primary education  Remittance Dependent\n",
              "20058  Tanzania  2017  ...              Secondary education  Remittance Dependent\n",
              "20079  Tanzania  2017  ...              No formal education  Remittance Dependent\n",
              "20132  Tanzania  2017  ...              No formal education   Informally employed\n",
              "20513  Tanzania  2017  ...              No formal education             No Income\n",
              "20525  Tanzania  2017  ...              No formal education  Remittance Dependent\n",
              "20747  Tanzania  2017  ...                Primary education  Remittance Dependent\n",
              "20836  Tanzania  2017  ...              Secondary education             No Income\n",
              "20927  Tanzania  2017  ...                Primary education  Remittance Dependent\n",
              "20945  Tanzania  2017  ...              No formal education             No Income\n",
              "21168  Tanzania  2017  ...              Secondary education             No Income\n",
              "21239  Tanzania  2017  ...  Vocational/Specialised training             No Income\n",
              "21401  Tanzania  2017  ...              No formal education             No Income\n",
              "\n",
              "[36 rows x 13 columns]"
            ]
          },
          "metadata": {
            "tags": []
          },
          "execution_count": 16
        }
      ]
    },
    {
      "cell_type": "code",
      "metadata": {
        "id": "1FoeZJwwDzaJ"
      },
      "source": [
        "fin.drop(fin[fin['household_size']<1].index,inplace=True)"
      ],
      "execution_count": 17,
      "outputs": []
    },
    {
      "cell_type": "code",
      "metadata": {
        "colab": {
          "base_uri": "https://localhost:8080/",
          "height": 667
        },
        "id": "XndVzeADGrYN",
        "outputId": "53fa1c27-9377-4d16-873b-acfbeb1369f1"
      },
      "source": [
        "#we will also look for recordes where the family size is more than 10\n",
        "fin[fin['household_size']>10]"
      ],
      "execution_count": 18,
      "outputs": [
        {
          "output_type": "execute_result",
          "data": {
            "text/html": [
              "<div>\n",
              "<style scoped>\n",
              "    .dataframe tbody tr th:only-of-type {\n",
              "        vertical-align: middle;\n",
              "    }\n",
              "\n",
              "    .dataframe tbody tr th {\n",
              "        vertical-align: top;\n",
              "    }\n",
              "\n",
              "    .dataframe thead th {\n",
              "        text-align: right;\n",
              "    }\n",
              "</style>\n",
              "<table border=\"1\" class=\"dataframe\">\n",
              "  <thead>\n",
              "    <tr style=\"text-align: right;\">\n",
              "      <th></th>\n",
              "      <th>country</th>\n",
              "      <th>year</th>\n",
              "      <th>uniqueid</th>\n",
              "      <th>Has a Bank account</th>\n",
              "      <th>Type of Location</th>\n",
              "      <th>Cell Phone Access</th>\n",
              "      <th>household_size</th>\n",
              "      <th>Respondent Age</th>\n",
              "      <th>gender_of_respondent</th>\n",
              "      <th>The relathip with head</th>\n",
              "      <th>marital_status</th>\n",
              "      <th>Level of Educuation</th>\n",
              "      <th>Type of Job</th>\n",
              "    </tr>\n",
              "  </thead>\n",
              "  <tbody>\n",
              "    <tr>\n",
              "      <th>58</th>\n",
              "      <td>Kenya</td>\n",
              "      <td>2018</td>\n",
              "      <td>uniqueid_59</td>\n",
              "      <td>No</td>\n",
              "      <td>Rural</td>\n",
              "      <td>Yes</td>\n",
              "      <td>11.0</td>\n",
              "      <td>21.0</td>\n",
              "      <td>Male</td>\n",
              "      <td>Child</td>\n",
              "      <td>Single/Never Married</td>\n",
              "      <td>Other/Dont know/RTA</td>\n",
              "      <td>Informally employed</td>\n",
              "    </tr>\n",
              "    <tr>\n",
              "      <th>348</th>\n",
              "      <td>Kenya</td>\n",
              "      <td>2018</td>\n",
              "      <td>uniqueid_349</td>\n",
              "      <td>No</td>\n",
              "      <td>Urban</td>\n",
              "      <td>Yes</td>\n",
              "      <td>12.0</td>\n",
              "      <td>23.0</td>\n",
              "      <td>Female</td>\n",
              "      <td>Child</td>\n",
              "      <td>Single/Never Married</td>\n",
              "      <td>Secondary education</td>\n",
              "      <td>Self employed</td>\n",
              "    </tr>\n",
              "    <tr>\n",
              "      <th>372</th>\n",
              "      <td>Kenya</td>\n",
              "      <td>2018</td>\n",
              "      <td>uniqueid_373</td>\n",
              "      <td>No</td>\n",
              "      <td>Urban</td>\n",
              "      <td>Yes</td>\n",
              "      <td>16.0</td>\n",
              "      <td>33.0</td>\n",
              "      <td>Female</td>\n",
              "      <td>Spouse</td>\n",
              "      <td>Married/Living together</td>\n",
              "      <td>No formal education</td>\n",
              "      <td>Remittance Dependent</td>\n",
              "    </tr>\n",
              "    <tr>\n",
              "      <th>507</th>\n",
              "      <td>Kenya</td>\n",
              "      <td>2018</td>\n",
              "      <td>uniqueid_508</td>\n",
              "      <td>Yes</td>\n",
              "      <td>Rural</td>\n",
              "      <td>Yes</td>\n",
              "      <td>11.0</td>\n",
              "      <td>41.0</td>\n",
              "      <td>Male</td>\n",
              "      <td>Head of Household</td>\n",
              "      <td>Married/Living together</td>\n",
              "      <td>Primary education</td>\n",
              "      <td>Self employed</td>\n",
              "    </tr>\n",
              "    <tr>\n",
              "      <th>674</th>\n",
              "      <td>Kenya</td>\n",
              "      <td>2018</td>\n",
              "      <td>uniqueid_675</td>\n",
              "      <td>No</td>\n",
              "      <td>Urban</td>\n",
              "      <td>Yes</td>\n",
              "      <td>12.0</td>\n",
              "      <td>34.0</td>\n",
              "      <td>Female</td>\n",
              "      <td>Spouse</td>\n",
              "      <td>Married/Living together</td>\n",
              "      <td>No formal education</td>\n",
              "      <td>Remittance Dependent</td>\n",
              "    </tr>\n",
              "    <tr>\n",
              "      <th>...</th>\n",
              "      <td>...</td>\n",
              "      <td>...</td>\n",
              "      <td>...</td>\n",
              "      <td>...</td>\n",
              "      <td>...</td>\n",
              "      <td>...</td>\n",
              "      <td>...</td>\n",
              "      <td>...</td>\n",
              "      <td>...</td>\n",
              "      <td>...</td>\n",
              "      <td>...</td>\n",
              "      <td>...</td>\n",
              "      <td>...</td>\n",
              "    </tr>\n",
              "    <tr>\n",
              "      <th>23426</th>\n",
              "      <td>Uganda</td>\n",
              "      <td>2018</td>\n",
              "      <td>uniqueid_2007</td>\n",
              "      <td>No</td>\n",
              "      <td>Urban</td>\n",
              "      <td>Yes</td>\n",
              "      <td>13.0</td>\n",
              "      <td>19.0</td>\n",
              "      <td>Male</td>\n",
              "      <td>Parent</td>\n",
              "      <td>Single/Never Married</td>\n",
              "      <td>Secondary education</td>\n",
              "      <td>Self employed</td>\n",
              "    </tr>\n",
              "    <tr>\n",
              "      <th>23452</th>\n",
              "      <td>Uganda</td>\n",
              "      <td>2018</td>\n",
              "      <td>uniqueid_2036</td>\n",
              "      <td>No</td>\n",
              "      <td>Rural</td>\n",
              "      <td>Yes</td>\n",
              "      <td>13.0</td>\n",
              "      <td>48.0</td>\n",
              "      <td>Female</td>\n",
              "      <td>Spouse</td>\n",
              "      <td>Married/Living together</td>\n",
              "      <td>Primary education</td>\n",
              "      <td>Self employed</td>\n",
              "    </tr>\n",
              "    <tr>\n",
              "      <th>23461</th>\n",
              "      <td>Uganda</td>\n",
              "      <td>2018</td>\n",
              "      <td>uniqueid_2046</td>\n",
              "      <td>No</td>\n",
              "      <td>Urban</td>\n",
              "      <td>Yes</td>\n",
              "      <td>13.0</td>\n",
              "      <td>25.0</td>\n",
              "      <td>Female</td>\n",
              "      <td>Spouse</td>\n",
              "      <td>Married/Living together</td>\n",
              "      <td>Primary education</td>\n",
              "      <td>Dont Know/Refuse to answer</td>\n",
              "    </tr>\n",
              "    <tr>\n",
              "      <th>23468</th>\n",
              "      <td>Uganda</td>\n",
              "      <td>2018</td>\n",
              "      <td>uniqueid_2053</td>\n",
              "      <td>No</td>\n",
              "      <td>Urban</td>\n",
              "      <td>Yes</td>\n",
              "      <td>12.0</td>\n",
              "      <td>42.0</td>\n",
              "      <td>Male</td>\n",
              "      <td>Head of Household</td>\n",
              "      <td>Married/Living together</td>\n",
              "      <td>Primary education</td>\n",
              "      <td>Self employed</td>\n",
              "    </tr>\n",
              "    <tr>\n",
              "      <th>23471</th>\n",
              "      <td>Uganda</td>\n",
              "      <td>2018</td>\n",
              "      <td>uniqueid_2056</td>\n",
              "      <td>No</td>\n",
              "      <td>Rural</td>\n",
              "      <td>Yes</td>\n",
              "      <td>15.0</td>\n",
              "      <td>17.0</td>\n",
              "      <td>Female</td>\n",
              "      <td>Other relative</td>\n",
              "      <td>Married/Living together</td>\n",
              "      <td>Secondary education</td>\n",
              "      <td>Self employed</td>\n",
              "    </tr>\n",
              "  </tbody>\n",
              "</table>\n",
              "<p>185 rows × 13 columns</p>\n",
              "</div>"
            ],
            "text/plain": [
              "      country  year  ...  Level of Educuation                 Type of Job\n",
              "58      Kenya  2018  ...  Other/Dont know/RTA         Informally employed\n",
              "348     Kenya  2018  ...  Secondary education               Self employed\n",
              "372     Kenya  2018  ...  No formal education        Remittance Dependent\n",
              "507     Kenya  2018  ...    Primary education               Self employed\n",
              "674     Kenya  2018  ...  No formal education        Remittance Dependent\n",
              "...       ...   ...  ...                  ...                         ...\n",
              "23426  Uganda  2018  ...  Secondary education               Self employed\n",
              "23452  Uganda  2018  ...    Primary education               Self employed\n",
              "23461  Uganda  2018  ...    Primary education  Dont Know/Refuse to answer\n",
              "23468  Uganda  2018  ...    Primary education               Self employed\n",
              "23471  Uganda  2018  ...  Secondary education               Self employed\n",
              "\n",
              "[185 rows x 13 columns]"
            ]
          },
          "metadata": {
            "tags": []
          },
          "execution_count": 18
        }
      ]
    },
    {
      "cell_type": "code",
      "metadata": {
        "id": "MPHKntDGG5RV"
      },
      "source": [
        "#we will drop this records\n",
        "fin.drop(fin[fin['household_size']>10].index,inplace=True)"
      ],
      "execution_count": 19,
      "outputs": []
    },
    {
      "cell_type": "code",
      "metadata": {
        "colab": {
          "base_uri": "https://localhost:8080/",
          "height": 651
        },
        "id": "fhfEdCt_EgpV",
        "outputId": "fbcb8222-f536-461a-e11b-eb17a742e01d"
      },
      "source": [
        "# we will get all the valus where the age is more than 68\n",
        "#this is the average life expectancy of the population in east africa\n",
        "fin[fin['Respondent Age']>68]"
      ],
      "execution_count": 20,
      "outputs": [
        {
          "output_type": "execute_result",
          "data": {
            "text/html": [
              "<div>\n",
              "<style scoped>\n",
              "    .dataframe tbody tr th:only-of-type {\n",
              "        vertical-align: middle;\n",
              "    }\n",
              "\n",
              "    .dataframe tbody tr th {\n",
              "        vertical-align: top;\n",
              "    }\n",
              "\n",
              "    .dataframe thead th {\n",
              "        text-align: right;\n",
              "    }\n",
              "</style>\n",
              "<table border=\"1\" class=\"dataframe\">\n",
              "  <thead>\n",
              "    <tr style=\"text-align: right;\">\n",
              "      <th></th>\n",
              "      <th>country</th>\n",
              "      <th>year</th>\n",
              "      <th>uniqueid</th>\n",
              "      <th>Has a Bank account</th>\n",
              "      <th>Type of Location</th>\n",
              "      <th>Cell Phone Access</th>\n",
              "      <th>household_size</th>\n",
              "      <th>Respondent Age</th>\n",
              "      <th>gender_of_respondent</th>\n",
              "      <th>The relathip with head</th>\n",
              "      <th>marital_status</th>\n",
              "      <th>Level of Educuation</th>\n",
              "      <th>Type of Job</th>\n",
              "    </tr>\n",
              "  </thead>\n",
              "  <tbody>\n",
              "    <tr>\n",
              "      <th>1</th>\n",
              "      <td>Kenya</td>\n",
              "      <td>2018</td>\n",
              "      <td>uniqueid_2</td>\n",
              "      <td>No</td>\n",
              "      <td>Rural</td>\n",
              "      <td>No</td>\n",
              "      <td>5.0</td>\n",
              "      <td>70.0</td>\n",
              "      <td>Female</td>\n",
              "      <td>Head of Household</td>\n",
              "      <td>Widowed</td>\n",
              "      <td>No formal education</td>\n",
              "      <td>Government Dependent</td>\n",
              "    </tr>\n",
              "    <tr>\n",
              "      <th>9</th>\n",
              "      <td>Kenya</td>\n",
              "      <td>2018</td>\n",
              "      <td>uniqueid_10</td>\n",
              "      <td>No</td>\n",
              "      <td>Urban</td>\n",
              "      <td>Yes</td>\n",
              "      <td>3.0</td>\n",
              "      <td>76.0</td>\n",
              "      <td>Female</td>\n",
              "      <td>Head of Household</td>\n",
              "      <td>Divorced/Seperated</td>\n",
              "      <td>No formal education</td>\n",
              "      <td>Remittance Dependent</td>\n",
              "    </tr>\n",
              "    <tr>\n",
              "      <th>11</th>\n",
              "      <td>Kenya</td>\n",
              "      <td>2018</td>\n",
              "      <td>uniqueid_12</td>\n",
              "      <td>Yes</td>\n",
              "      <td>Rural</td>\n",
              "      <td>Yes</td>\n",
              "      <td>3.0</td>\n",
              "      <td>69.0</td>\n",
              "      <td>Male</td>\n",
              "      <td>Head of Household</td>\n",
              "      <td>Married/Living together</td>\n",
              "      <td>Secondary education</td>\n",
              "      <td>Other Income</td>\n",
              "    </tr>\n",
              "    <tr>\n",
              "      <th>39</th>\n",
              "      <td>Kenya</td>\n",
              "      <td>2018</td>\n",
              "      <td>uniqueid_40</td>\n",
              "      <td>No</td>\n",
              "      <td>Rural</td>\n",
              "      <td>No</td>\n",
              "      <td>3.0</td>\n",
              "      <td>70.0</td>\n",
              "      <td>Male</td>\n",
              "      <td>Head of Household</td>\n",
              "      <td>Married/Living together</td>\n",
              "      <td>No formal education</td>\n",
              "      <td>Farming and Fishing</td>\n",
              "    </tr>\n",
              "    <tr>\n",
              "      <th>42</th>\n",
              "      <td>Kenya</td>\n",
              "      <td>2018</td>\n",
              "      <td>uniqueid_43</td>\n",
              "      <td>Yes</td>\n",
              "      <td>Rural</td>\n",
              "      <td>Yes</td>\n",
              "      <td>3.0</td>\n",
              "      <td>80.0</td>\n",
              "      <td>Male</td>\n",
              "      <td>Head of Household</td>\n",
              "      <td>Widowed</td>\n",
              "      <td>Primary education</td>\n",
              "      <td>Remittance Dependent</td>\n",
              "    </tr>\n",
              "    <tr>\n",
              "      <th>...</th>\n",
              "      <td>...</td>\n",
              "      <td>...</td>\n",
              "      <td>...</td>\n",
              "      <td>...</td>\n",
              "      <td>...</td>\n",
              "      <td>...</td>\n",
              "      <td>...</td>\n",
              "      <td>...</td>\n",
              "      <td>...</td>\n",
              "      <td>...</td>\n",
              "      <td>...</td>\n",
              "      <td>...</td>\n",
              "      <td>...</td>\n",
              "    </tr>\n",
              "    <tr>\n",
              "      <th>23395</th>\n",
              "      <td>Uganda</td>\n",
              "      <td>2018</td>\n",
              "      <td>uniqueid_1976</td>\n",
              "      <td>No</td>\n",
              "      <td>Rural</td>\n",
              "      <td>No</td>\n",
              "      <td>2.0</td>\n",
              "      <td>85.0</td>\n",
              "      <td>Female</td>\n",
              "      <td>Head of Household</td>\n",
              "      <td>Divorced/Seperated</td>\n",
              "      <td>No formal education</td>\n",
              "      <td>Other Income</td>\n",
              "    </tr>\n",
              "    <tr>\n",
              "      <th>23398</th>\n",
              "      <td>Uganda</td>\n",
              "      <td>2018</td>\n",
              "      <td>uniqueid_1979</td>\n",
              "      <td>No</td>\n",
              "      <td>Rural</td>\n",
              "      <td>Yes</td>\n",
              "      <td>5.0</td>\n",
              "      <td>79.0</td>\n",
              "      <td>Male</td>\n",
              "      <td>Head of Household</td>\n",
              "      <td>Married/Living together</td>\n",
              "      <td>Primary education</td>\n",
              "      <td>Self employed</td>\n",
              "    </tr>\n",
              "    <tr>\n",
              "      <th>23413</th>\n",
              "      <td>Uganda</td>\n",
              "      <td>2018</td>\n",
              "      <td>uniqueid_1994</td>\n",
              "      <td>No</td>\n",
              "      <td>Rural</td>\n",
              "      <td>No</td>\n",
              "      <td>5.0</td>\n",
              "      <td>90.0</td>\n",
              "      <td>Male</td>\n",
              "      <td>Head of Household</td>\n",
              "      <td>Married/Living together</td>\n",
              "      <td>No formal education</td>\n",
              "      <td>Self employed</td>\n",
              "    </tr>\n",
              "    <tr>\n",
              "      <th>23425</th>\n",
              "      <td>Uganda</td>\n",
              "      <td>2018</td>\n",
              "      <td>uniqueid_2006</td>\n",
              "      <td>No</td>\n",
              "      <td>Rural</td>\n",
              "      <td>No</td>\n",
              "      <td>4.0</td>\n",
              "      <td>80.0</td>\n",
              "      <td>Female</td>\n",
              "      <td>Head of Household</td>\n",
              "      <td>Widowed</td>\n",
              "      <td>Primary education</td>\n",
              "      <td>Self employed</td>\n",
              "    </tr>\n",
              "    <tr>\n",
              "      <th>23497</th>\n",
              "      <td>Uganda</td>\n",
              "      <td>2018</td>\n",
              "      <td>uniqueid_2085</td>\n",
              "      <td>No</td>\n",
              "      <td>Urban</td>\n",
              "      <td>No</td>\n",
              "      <td>1.0</td>\n",
              "      <td>74.0</td>\n",
              "      <td>Female</td>\n",
              "      <td>Head of Household</td>\n",
              "      <td>Widowed</td>\n",
              "      <td>Secondary education</td>\n",
              "      <td>Other Income</td>\n",
              "    </tr>\n",
              "  </tbody>\n",
              "</table>\n",
              "<p>1558 rows × 13 columns</p>\n",
              "</div>"
            ],
            "text/plain": [
              "      country  year  ...  Level of Educuation           Type of Job\n",
              "1       Kenya  2018  ...  No formal education  Government Dependent\n",
              "9       Kenya  2018  ...  No formal education  Remittance Dependent\n",
              "11      Kenya  2018  ...  Secondary education          Other Income\n",
              "39      Kenya  2018  ...  No formal education   Farming and Fishing\n",
              "42      Kenya  2018  ...    Primary education  Remittance Dependent\n",
              "...       ...   ...  ...                  ...                   ...\n",
              "23395  Uganda  2018  ...  No formal education          Other Income\n",
              "23398  Uganda  2018  ...    Primary education         Self employed\n",
              "23413  Uganda  2018  ...  No formal education         Self employed\n",
              "23425  Uganda  2018  ...    Primary education         Self employed\n",
              "23497  Uganda  2018  ...  Secondary education          Other Income\n",
              "\n",
              "[1558 rows x 13 columns]"
            ]
          },
          "metadata": {
            "tags": []
          },
          "execution_count": 20
        }
      ]
    },
    {
      "cell_type": "code",
      "metadata": {
        "id": "KegybAj6FA1n"
      },
      "source": [
        "#we will drop this values\n",
        "fin.drop(fin[fin['Respondent Age']>68].index,inplace=True)"
      ],
      "execution_count": 21,
      "outputs": []
    },
    {
      "cell_type": "code",
      "metadata": {
        "colab": {
          "base_uri": "https://localhost:8080/",
          "height": 500
        },
        "id": "9d_d8y5IFVRQ",
        "outputId": "e46e009a-3960-4239-d3d4-acb7b56c0bc0"
      },
      "source": [
        "#looking at the subplots again\n",
        "plt.figure(figsize=(8,8))\n",
        "plt.title('boxplot')\n",
        "plt.ylabel('scale')\n",
        "fin[['Respondent Age','household_size']].boxplot()\n",
        "plt.show()"
      ],
      "execution_count": 22,
      "outputs": [
        {
          "output_type": "display_data",
          "data": {
            "image/png": "[encoded data removed]",
            "text/plain": [
              "<Figure size 576x576 with 1 Axes>"
            ]
          },
          "metadata": {
            "tags": [],
            "needs_background": "light"
          }
        }
      ]
    },
    {
      "cell_type": "code",
      "metadata": {
        "colab": {
          "base_uri": "https://localhost:8080/",
          "height": 294
        },
        "id": "YaHeKVDhGOnB",
        "outputId": "c5bbb378-9339-4261-d267-54cb5b9467e6"
      },
      "source": [
        "fin[['Respondent Age','household_size']].describe()"
      ],
      "execution_count": 23,
      "outputs": [
        {
          "output_type": "execute_result",
          "data": {
            "text/html": [
              "<div>\n",
              "<style scoped>\n",
              "    .dataframe tbody tr th:only-of-type {\n",
              "        vertical-align: middle;\n",
              "    }\n",
              "\n",
              "    .dataframe tbody tr th {\n",
              "        vertical-align: top;\n",
              "    }\n",
              "\n",
              "    .dataframe thead th {\n",
              "        text-align: right;\n",
              "    }\n",
              "</style>\n",
              "<table border=\"1\" class=\"dataframe\">\n",
              "  <thead>\n",
              "    <tr style=\"text-align: right;\">\n",
              "      <th></th>\n",
              "      <th>Respondent Age</th>\n",
              "      <th>household_size</th>\n",
              "    </tr>\n",
              "  </thead>\n",
              "  <tbody>\n",
              "    <tr>\n",
              "      <th>count</th>\n",
              "      <td>21561.000000</td>\n",
              "      <td>21561.000000</td>\n",
              "    </tr>\n",
              "    <tr>\n",
              "      <th>mean</th>\n",
              "      <td>36.090766</td>\n",
              "      <td>3.699365</td>\n",
              "    </tr>\n",
              "    <tr>\n",
              "      <th>std</th>\n",
              "      <td>13.361916</td>\n",
              "      <td>2.156873</td>\n",
              "    </tr>\n",
              "    <tr>\n",
              "      <th>min</th>\n",
              "      <td>16.000000</td>\n",
              "      <td>1.000000</td>\n",
              "    </tr>\n",
              "    <tr>\n",
              "      <th>25%</th>\n",
              "      <td>25.000000</td>\n",
              "      <td>2.000000</td>\n",
              "    </tr>\n",
              "    <tr>\n",
              "      <th>50%</th>\n",
              "      <td>34.000000</td>\n",
              "      <td>3.000000</td>\n",
              "    </tr>\n",
              "    <tr>\n",
              "      <th>75%</th>\n",
              "      <td>45.000000</td>\n",
              "      <td>5.000000</td>\n",
              "    </tr>\n",
              "    <tr>\n",
              "      <th>max</th>\n",
              "      <td>68.000000</td>\n",
              "      <td>10.000000</td>\n",
              "    </tr>\n",
              "  </tbody>\n",
              "</table>\n",
              "</div>"
            ],
            "text/plain": [
              "       Respondent Age  household_size\n",
              "count    21561.000000    21561.000000\n",
              "mean        36.090766        3.699365\n",
              "std         13.361916        2.156873\n",
              "min         16.000000        1.000000\n",
              "25%         25.000000        2.000000\n",
              "50%         34.000000        3.000000\n",
              "75%         45.000000        5.000000\n",
              "max         68.000000       10.000000"
            ]
          },
          "metadata": {
            "tags": []
          },
          "execution_count": 23
        }
      ]
    },
    {
      "cell_type": "code",
      "metadata": {
        "colab": {
          "base_uri": "https://localhost:8080/"
        },
        "id": "oKHCNhvIXb1K",
        "outputId": "944fe2cc-5700-4c90-8836-48b4b66e190a"
      },
      "source": [
        "fin.columns"
      ],
      "execution_count": 24,
      "outputs": [
        {
          "output_type": "execute_result",
          "data": {
            "text/plain": [
              "Index(['country', 'year', 'uniqueid', 'Has a Bank account', 'Type of Location',\n",
              "       'Cell Phone Access', 'household_size', 'Respondent Age',\n",
              "       'gender_of_respondent', 'The relathip with head', 'marital_status',\n",
              "       'Level of Educuation', 'Type of Job'],\n",
              "      dtype='object')"
            ]
          },
          "metadata": {
            "tags": []
          },
          "execution_count": 24
        }
      ]
    },
    {
      "cell_type": "code",
      "metadata": {
        "id": "xsat74eYXPaN"
      },
      "source": [
        "#checking for anormalies\n",
        "#we will first start with renaming some of the columns that were not gramatically correct\n",
        "fin.rename(columns={'The relathip with head':'The relationship with household head','Level of Educuation':'Level of education'},inplace=True)"
      ],
      "execution_count": 25,
      "outputs": []
    },
    {
      "cell_type": "code",
      "metadata": {
        "colab": {
          "base_uri": "https://localhost:8080/"
        },
        "id": "XkdLJ12DtDQL",
        "outputId": "6ef4d508-a703-4933-83ac-fd0e24005ed9"
      },
      "source": [
        "fin['Level of education'].value_counts()"
      ],
      "execution_count": 26,
      "outputs": [
        {
          "output_type": "execute_result",
          "data": {
            "text/plain": [
              "Primary education                  12016\n",
              "Secondary education                 4092\n",
              "No formal education                 3530\n",
              "Tertiary education                  1126\n",
              "Vocational/Specialised training      773\n",
              "6                                     19\n",
              "Other/Dont know/RTA                    5\n",
              "Name: Level of education, dtype: int64"
            ]
          },
          "metadata": {
            "tags": []
          },
          "execution_count": 26
        }
      ]
    },
    {
      "cell_type": "code",
      "metadata": {
        "colab": {
          "base_uri": "https://localhost:8080/",
          "height": 1000
        },
        "id": "yPgPQn0otMYr",
        "outputId": "e0d85d35-1359-4bac-ded3-e51376a41cbf"
      },
      "source": [
        "# to have a loook at the rows where the level of education is 6 and 'Other/Dont know/RTA'\n",
        "fin[fin['Level of education'].isin(['6','Other/Dont know/RTA'])]"
      ],
      "execution_count": 27,
      "outputs": [
        {
          "output_type": "execute_result",
          "data": {
            "text/html": [
              "<div>\n",
              "<style scoped>\n",
              "    .dataframe tbody tr th:only-of-type {\n",
              "        vertical-align: middle;\n",
              "    }\n",
              "\n",
              "    .dataframe tbody tr th {\n",
              "        vertical-align: top;\n",
              "    }\n",
              "\n",
              "    .dataframe thead th {\n",
              "        text-align: right;\n",
              "    }\n",
              "</style>\n",
              "<table border=\"1\" class=\"dataframe\">\n",
              "  <thead>\n",
              "    <tr style=\"text-align: right;\">\n",
              "      <th></th>\n",
              "      <th>country</th>\n",
              "      <th>year</th>\n",
              "      <th>uniqueid</th>\n",
              "      <th>Has a Bank account</th>\n",
              "      <th>Type of Location</th>\n",
              "      <th>Cell Phone Access</th>\n",
              "      <th>household_size</th>\n",
              "      <th>Respondent Age</th>\n",
              "      <th>gender_of_respondent</th>\n",
              "      <th>The relationship with household head</th>\n",
              "      <th>marital_status</th>\n",
              "      <th>Level of education</th>\n",
              "      <th>Type of Job</th>\n",
              "    </tr>\n",
              "  </thead>\n",
              "  <tbody>\n",
              "    <tr>\n",
              "      <th>1186</th>\n",
              "      <td>Kenya</td>\n",
              "      <td>2018</td>\n",
              "      <td>uniqueid_1187</td>\n",
              "      <td>Yes</td>\n",
              "      <td>Urban</td>\n",
              "      <td>Yes</td>\n",
              "      <td>1.0</td>\n",
              "      <td>48.0</td>\n",
              "      <td>Female</td>\n",
              "      <td>Head of Household</td>\n",
              "      <td>Married/Living together</td>\n",
              "      <td>Other/Dont know/RTA</td>\n",
              "      <td>Formally employed Government</td>\n",
              "    </tr>\n",
              "    <tr>\n",
              "      <th>1924</th>\n",
              "      <td>Kenya</td>\n",
              "      <td>2018</td>\n",
              "      <td>uniqueid_1925</td>\n",
              "      <td>Yes</td>\n",
              "      <td>Urban</td>\n",
              "      <td>Yes</td>\n",
              "      <td>5.0</td>\n",
              "      <td>31.0</td>\n",
              "      <td>Female</td>\n",
              "      <td>Child</td>\n",
              "      <td>Single/Never Married</td>\n",
              "      <td>Other/Dont know/RTA</td>\n",
              "      <td>Formally employed Government</td>\n",
              "    </tr>\n",
              "    <tr>\n",
              "      <th>3402</th>\n",
              "      <td>Kenya</td>\n",
              "      <td>2018</td>\n",
              "      <td>uniqueid_3403</td>\n",
              "      <td>Yes</td>\n",
              "      <td>Urban</td>\n",
              "      <td>Yes</td>\n",
              "      <td>3.0</td>\n",
              "      <td>46.0</td>\n",
              "      <td>Female</td>\n",
              "      <td>Spouse</td>\n",
              "      <td>Married/Living together</td>\n",
              "      <td>Other/Dont know/RTA</td>\n",
              "      <td>Formally employed Private</td>\n",
              "    </tr>\n",
              "    <tr>\n",
              "      <th>4204</th>\n",
              "      <td>Kenya</td>\n",
              "      <td>2018</td>\n",
              "      <td>uniqueid_4205</td>\n",
              "      <td>Yes</td>\n",
              "      <td>Rural</td>\n",
              "      <td>Yes</td>\n",
              "      <td>4.0</td>\n",
              "      <td>47.0</td>\n",
              "      <td>Male</td>\n",
              "      <td>Head of Household</td>\n",
              "      <td>Married/Living together</td>\n",
              "      <td>Other/Dont know/RTA</td>\n",
              "      <td>Self employed</td>\n",
              "    </tr>\n",
              "    <tr>\n",
              "      <th>5030</th>\n",
              "      <td>Kenya</td>\n",
              "      <td>2018</td>\n",
              "      <td>uniqueid_5031</td>\n",
              "      <td>Yes</td>\n",
              "      <td>Urban</td>\n",
              "      <td>Yes</td>\n",
              "      <td>1.0</td>\n",
              "      <td>26.0</td>\n",
              "      <td>Female</td>\n",
              "      <td>Head of Household</td>\n",
              "      <td>Single/Never Married</td>\n",
              "      <td>Other/Dont know/RTA</td>\n",
              "      <td>Self employed</td>\n",
              "    </tr>\n",
              "    <tr>\n",
              "      <th>6867</th>\n",
              "      <td>Rwanda</td>\n",
              "      <td>2016</td>\n",
              "      <td>uniqueid_800</td>\n",
              "      <td>No</td>\n",
              "      <td>Rural</td>\n",
              "      <td>No</td>\n",
              "      <td>5.0</td>\n",
              "      <td>34.0</td>\n",
              "      <td>Female</td>\n",
              "      <td>Spouse</td>\n",
              "      <td>Married/Living together</td>\n",
              "      <td>6</td>\n",
              "      <td>Informally employed</td>\n",
              "    </tr>\n",
              "    <tr>\n",
              "      <th>7937</th>\n",
              "      <td>Rwanda</td>\n",
              "      <td>2016</td>\n",
              "      <td>uniqueid_1870</td>\n",
              "      <td>No</td>\n",
              "      <td>Rural</td>\n",
              "      <td>No</td>\n",
              "      <td>8.0</td>\n",
              "      <td>31.0</td>\n",
              "      <td>Female</td>\n",
              "      <td>Spouse</td>\n",
              "      <td>Married/Living together</td>\n",
              "      <td>6</td>\n",
              "      <td>Informally employed</td>\n",
              "    </tr>\n",
              "    <tr>\n",
              "      <th>8453</th>\n",
              "      <td>Rwanda</td>\n",
              "      <td>2016</td>\n",
              "      <td>uniqueid_2386</td>\n",
              "      <td>No</td>\n",
              "      <td>Urban</td>\n",
              "      <td>Yes</td>\n",
              "      <td>3.0</td>\n",
              "      <td>36.0</td>\n",
              "      <td>Female</td>\n",
              "      <td>Head of Household</td>\n",
              "      <td>Divorced/Seperated</td>\n",
              "      <td>6</td>\n",
              "      <td>Informally employed</td>\n",
              "    </tr>\n",
              "    <tr>\n",
              "      <th>8778</th>\n",
              "      <td>Rwanda</td>\n",
              "      <td>2016</td>\n",
              "      <td>uniqueid_2711</td>\n",
              "      <td>No</td>\n",
              "      <td>Rural</td>\n",
              "      <td>Yes</td>\n",
              "      <td>4.0</td>\n",
              "      <td>44.0</td>\n",
              "      <td>Male</td>\n",
              "      <td>Head of Household</td>\n",
              "      <td>Married/Living together</td>\n",
              "      <td>6</td>\n",
              "      <td>Informally employed</td>\n",
              "    </tr>\n",
              "    <tr>\n",
              "      <th>9878</th>\n",
              "      <td>Rwanda</td>\n",
              "      <td>2016</td>\n",
              "      <td>uniqueid_3811</td>\n",
              "      <td>No</td>\n",
              "      <td>Rural</td>\n",
              "      <td>No</td>\n",
              "      <td>2.0</td>\n",
              "      <td>48.0</td>\n",
              "      <td>Female</td>\n",
              "      <td>Spouse</td>\n",
              "      <td>Married/Living together</td>\n",
              "      <td>6</td>\n",
              "      <td>Formally employed Private</td>\n",
              "    </tr>\n",
              "    <tr>\n",
              "      <th>9944</th>\n",
              "      <td>Rwanda</td>\n",
              "      <td>2016</td>\n",
              "      <td>uniqueid_3877</td>\n",
              "      <td>Yes</td>\n",
              "      <td>Urban</td>\n",
              "      <td>Yes</td>\n",
              "      <td>3.0</td>\n",
              "      <td>38.0</td>\n",
              "      <td>Male</td>\n",
              "      <td>Head of Household</td>\n",
              "      <td>Married/Living together</td>\n",
              "      <td>6</td>\n",
              "      <td>Informally employed</td>\n",
              "    </tr>\n",
              "    <tr>\n",
              "      <th>10560</th>\n",
              "      <td>Rwanda</td>\n",
              "      <td>2016</td>\n",
              "      <td>uniqueid_4493</td>\n",
              "      <td>No</td>\n",
              "      <td>Rural</td>\n",
              "      <td>Yes</td>\n",
              "      <td>6.0</td>\n",
              "      <td>48.0</td>\n",
              "      <td>Female</td>\n",
              "      <td>Spouse</td>\n",
              "      <td>Married/Living together</td>\n",
              "      <td>6</td>\n",
              "      <td>Informally employed</td>\n",
              "    </tr>\n",
              "    <tr>\n",
              "      <th>10767</th>\n",
              "      <td>Rwanda</td>\n",
              "      <td>2016</td>\n",
              "      <td>uniqueid_4700</td>\n",
              "      <td>No</td>\n",
              "      <td>Rural</td>\n",
              "      <td>No</td>\n",
              "      <td>2.0</td>\n",
              "      <td>63.0</td>\n",
              "      <td>Female</td>\n",
              "      <td>Head of Household</td>\n",
              "      <td>Divorced/Seperated</td>\n",
              "      <td>6</td>\n",
              "      <td>Informally employed</td>\n",
              "    </tr>\n",
              "    <tr>\n",
              "      <th>12358</th>\n",
              "      <td>Rwanda</td>\n",
              "      <td>2016</td>\n",
              "      <td>uniqueid_6291</td>\n",
              "      <td>No</td>\n",
              "      <td>Rural</td>\n",
              "      <td>No</td>\n",
              "      <td>5.0</td>\n",
              "      <td>57.0</td>\n",
              "      <td>Female</td>\n",
              "      <td>Spouse</td>\n",
              "      <td>Married/Living together</td>\n",
              "      <td>6</td>\n",
              "      <td>Informally employed</td>\n",
              "    </tr>\n",
              "    <tr>\n",
              "      <th>13404</th>\n",
              "      <td>Rwanda</td>\n",
              "      <td>2016</td>\n",
              "      <td>uniqueid_7337</td>\n",
              "      <td>Yes</td>\n",
              "      <td>Urban</td>\n",
              "      <td>Yes</td>\n",
              "      <td>1.0</td>\n",
              "      <td>63.0</td>\n",
              "      <td>Female</td>\n",
              "      <td>Head of Household</td>\n",
              "      <td>Widowed</td>\n",
              "      <td>6</td>\n",
              "      <td>Informally employed</td>\n",
              "    </tr>\n",
              "    <tr>\n",
              "      <th>13727</th>\n",
              "      <td>Rwanda</td>\n",
              "      <td>2016</td>\n",
              "      <td>uniqueid_7660</td>\n",
              "      <td>No</td>\n",
              "      <td>Rural</td>\n",
              "      <td>No</td>\n",
              "      <td>7.0</td>\n",
              "      <td>35.0</td>\n",
              "      <td>Female</td>\n",
              "      <td>Spouse</td>\n",
              "      <td>Married/Living together</td>\n",
              "      <td>6</td>\n",
              "      <td>Informally employed</td>\n",
              "    </tr>\n",
              "    <tr>\n",
              "      <th>14277</th>\n",
              "      <td>Rwanda</td>\n",
              "      <td>2016</td>\n",
              "      <td>uniqueid_8210</td>\n",
              "      <td>No</td>\n",
              "      <td>Urban</td>\n",
              "      <td>Yes</td>\n",
              "      <td>6.0</td>\n",
              "      <td>65.0</td>\n",
              "      <td>Male</td>\n",
              "      <td>Head of Household</td>\n",
              "      <td>Widowed</td>\n",
              "      <td>6</td>\n",
              "      <td>Informally employed</td>\n",
              "    </tr>\n",
              "    <tr>\n",
              "      <th>14513</th>\n",
              "      <td>Rwanda</td>\n",
              "      <td>2016</td>\n",
              "      <td>uniqueid_8446</td>\n",
              "      <td>Yes</td>\n",
              "      <td>Rural</td>\n",
              "      <td>Yes</td>\n",
              "      <td>6.0</td>\n",
              "      <td>43.0</td>\n",
              "      <td>Female</td>\n",
              "      <td>Spouse</td>\n",
              "      <td>Married/Living together</td>\n",
              "      <td>6</td>\n",
              "      <td>Other Income</td>\n",
              "    </tr>\n",
              "    <tr>\n",
              "      <th>14692</th>\n",
              "      <td>Rwanda</td>\n",
              "      <td>2016</td>\n",
              "      <td>uniqueid_8636</td>\n",
              "      <td>No</td>\n",
              "      <td>Rural</td>\n",
              "      <td>Yes</td>\n",
              "      <td>6.0</td>\n",
              "      <td>48.0</td>\n",
              "      <td>Female</td>\n",
              "      <td>Spouse</td>\n",
              "      <td>Married/Living together</td>\n",
              "      <td>6</td>\n",
              "      <td>Informally employed</td>\n",
              "    </tr>\n",
              "    <tr>\n",
              "      <th>21988</th>\n",
              "      <td>Uganda</td>\n",
              "      <td>2018</td>\n",
              "      <td>uniqueid_566</td>\n",
              "      <td>No</td>\n",
              "      <td>Rural</td>\n",
              "      <td>Yes</td>\n",
              "      <td>1.0</td>\n",
              "      <td>23.0</td>\n",
              "      <td>Female</td>\n",
              "      <td>Head of Household</td>\n",
              "      <td>Single/Never Married</td>\n",
              "      <td>6</td>\n",
              "      <td>Self employed</td>\n",
              "    </tr>\n",
              "    <tr>\n",
              "      <th>22046</th>\n",
              "      <td>Uganda</td>\n",
              "      <td>2018</td>\n",
              "      <td>uniqueid_624</td>\n",
              "      <td>No</td>\n",
              "      <td>Urban</td>\n",
              "      <td>Yes</td>\n",
              "      <td>2.0</td>\n",
              "      <td>24.0</td>\n",
              "      <td>Female</td>\n",
              "      <td>Spouse</td>\n",
              "      <td>Married/Living together</td>\n",
              "      <td>6</td>\n",
              "      <td>No Income</td>\n",
              "    </tr>\n",
              "    <tr>\n",
              "      <th>22101</th>\n",
              "      <td>Uganda</td>\n",
              "      <td>2018</td>\n",
              "      <td>uniqueid_679</td>\n",
              "      <td>No</td>\n",
              "      <td>Rural</td>\n",
              "      <td>Yes</td>\n",
              "      <td>6.0</td>\n",
              "      <td>30.0</td>\n",
              "      <td>Female</td>\n",
              "      <td>Spouse</td>\n",
              "      <td>Married/Living together</td>\n",
              "      <td>6</td>\n",
              "      <td>No Income</td>\n",
              "    </tr>\n",
              "    <tr>\n",
              "      <th>22224</th>\n",
              "      <td>Uganda</td>\n",
              "      <td>2018</td>\n",
              "      <td>uniqueid_802</td>\n",
              "      <td>No</td>\n",
              "      <td>Urban</td>\n",
              "      <td>Yes</td>\n",
              "      <td>2.0</td>\n",
              "      <td>20.0</td>\n",
              "      <td>Female</td>\n",
              "      <td>Spouse</td>\n",
              "      <td>Married/Living together</td>\n",
              "      <td>6</td>\n",
              "      <td>No Income</td>\n",
              "    </tr>\n",
              "    <tr>\n",
              "      <th>22760</th>\n",
              "      <td>Uganda</td>\n",
              "      <td>2018</td>\n",
              "      <td>uniqueid_1338</td>\n",
              "      <td>No</td>\n",
              "      <td>Urban</td>\n",
              "      <td>Yes</td>\n",
              "      <td>4.0</td>\n",
              "      <td>60.0</td>\n",
              "      <td>Male</td>\n",
              "      <td>Head of Household</td>\n",
              "      <td>Married/Living together</td>\n",
              "      <td>6</td>\n",
              "      <td>Self employed</td>\n",
              "    </tr>\n",
              "  </tbody>\n",
              "</table>\n",
              "</div>"
            ],
            "text/plain": [
              "      country  year  ...   Level of education                   Type of Job\n",
              "1186    Kenya  2018  ...  Other/Dont know/RTA  Formally employed Government\n",
              "1924    Kenya  2018  ...  Other/Dont know/RTA  Formally employed Government\n",
              "3402    Kenya  2018  ...  Other/Dont know/RTA     Formally employed Private\n",
              "4204    Kenya  2018  ...  Other/Dont know/RTA                 Self employed\n",
              "5030    Kenya  2018  ...  Other/Dont know/RTA                 Self employed\n",
              "6867   Rwanda  2016  ...                    6           Informally employed\n",
              "7937   Rwanda  2016  ...                    6           Informally employed\n",
              "8453   Rwanda  2016  ...                    6           Informally employed\n",
              "8778   Rwanda  2016  ...                    6           Informally employed\n",
              "9878   Rwanda  2016  ...                    6     Formally employed Private\n",
              "9944   Rwanda  2016  ...                    6           Informally employed\n",
              "10560  Rwanda  2016  ...                    6           Informally employed\n",
              "10767  Rwanda  2016  ...                    6           Informally employed\n",
              "12358  Rwanda  2016  ...                    6           Informally employed\n",
              "13404  Rwanda  2016  ...                    6           Informally employed\n",
              "13727  Rwanda  2016  ...                    6           Informally employed\n",
              "14277  Rwanda  2016  ...                    6           Informally employed\n",
              "14513  Rwanda  2016  ...                    6                  Other Income\n",
              "14692  Rwanda  2016  ...                    6           Informally employed\n",
              "21988  Uganda  2018  ...                    6                 Self employed\n",
              "22046  Uganda  2018  ...                    6                     No Income\n",
              "22101  Uganda  2018  ...                    6                     No Income\n",
              "22224  Uganda  2018  ...                    6                     No Income\n",
              "22760  Uganda  2018  ...                    6                 Self employed\n",
              "\n",
              "[24 rows x 13 columns]"
            ]
          },
          "metadata": {
            "tags": []
          },
          "execution_count": 27
        }
      ]
    },
    {
      "cell_type": "code",
      "metadata": {
        "id": "XPJ6NqqWuIG4"
      },
      "source": [
        "fin.drop(fin[fin['Level of education'].isin(['6','Other/Dont know/RTA'])].index,inplace=True)"
      ],
      "execution_count": 28,
      "outputs": []
    },
    {
      "cell_type": "markdown",
      "metadata": {
        "id": "pso3FZzKHfB7"
      },
      "source": [
        "##univariate analysis"
      ]
    },
    {
      "cell_type": "markdown",
      "metadata": {
        "id": "Pt04jR6vHo0j"
      },
      "source": [
        "##### Has a Bank account"
      ]
    },
    {
      "cell_type": "code",
      "metadata": {
        "colab": {
          "base_uri": "https://localhost:8080/",
          "height": 504
        },
        "id": "np6JQAxiH1Gb",
        "outputId": "01fc0aca-fb48-4582-8cff-7066ee36e486"
      },
      "source": [
        "# this is our column of interest\n",
        "plt.figure(figsize=(8,8))\n",
        "plt.title('bar chart')\n",
        "plt.ylabel('number of people')\n",
        "color=['red','green']\n",
        "fin['Has a Bank account'].value_counts().plot(kind='bar',color=color)\n",
        "plt.show()\n",
        "\n",
        "# we can see that most respondents did not have a bank account"
      ],
      "execution_count": 29,
      "outputs": [
        {
          "output_type": "display_data",
          "data": {
            "image/png": "[encoded data removed]",
            "text/plain": [
              "<Figure size 576x576 with 1 Axes>"
            ]
          },
          "metadata": {
            "tags": [],
            "needs_background": "light"
          }
        }
      ]
    },
    {
      "cell_type": "markdown",
      "metadata": {
        "id": "gSeW_8giIuQS"
      },
      "source": [
        "##### Type of Location"
      ]
    },
    {
      "cell_type": "code",
      "metadata": {
        "colab": {
          "base_uri": "https://localhost:8080/",
          "height": 373
        },
        "id": "6HBeQ8xRIpxh",
        "outputId": "0016a274-f17d-41ba-f0f1-432c90e30422"
      },
      "source": [
        "plt.figure(figsize=(6,6))\n",
        "plt.title('location of respondent residence')\n",
        "explode=0.1,0\n",
        "fin['Type of Location'].value_counts().plot(kind='pie',explode=explode, autopct='%1.3f%%')\n",
        "plt.show()\n",
        "\n",
        "#we can see most responddnents were in te rural areas"
      ],
      "execution_count": 30,
      "outputs": [
        {
          "output_type": "display_data",
          "data": {
            "image/png": "[encoded data removed]",
            "text/plain": [
              "<Figure size 432x432 with 1 Axes>"
            ]
          },
          "metadata": {
            "tags": []
          }
        }
      ]
    },
    {
      "cell_type": "markdown",
      "metadata": {
        "id": "VEd6k8i6KVhl"
      },
      "source": [
        "##### Cell Phone Acess"
      ]
    },
    {
      "cell_type": "code",
      "metadata": {
        "colab": {
          "base_uri": "https://localhost:8080/",
          "height": 373
        },
        "id": "ZrhxIIr9KbS8",
        "outputId": "bfffbb01-433b-4d1c-d3f7-98777b26fa0b"
      },
      "source": [
        "plt.figure(figsize=(6,6))\n",
        "plt.title('whether respondent has a cell phone')\n",
        "explode=0.1,0\n",
        "color=['green','red']\n",
        "fin['Cell Phone Access'].value_counts().plot(kind='pie',explode=explode, autopct='%1.3f%%',colors=color)\n",
        "plt.show()\n",
        "\n",
        "# most respondndetns have access to mobile phones"
      ],
      "execution_count": 31,
      "outputs": [
        {
          "output_type": "display_data",
          "data": {
            "image/png": "[encoded data removed]",
            "text/plain": [
              "<Figure size 432x432 with 1 Axes>"
            ]
          },
          "metadata": {
            "tags": []
          }
        }
      ]
    },
    {
      "cell_type": "markdown",
      "metadata": {
        "id": "2NGqwEHZK7p7"
      },
      "source": [
        "##### gender_of_respondent"
      ]
    },
    {
      "cell_type": "code",
      "metadata": {
        "colab": {
          "base_uri": "https://localhost:8080/",
          "height": 373
        },
        "id": "fvbSosXIK1Rb",
        "outputId": "f466c19f-8e72-4ee2-fdc1-abfb8a698228"
      },
      "source": [
        "plt.figure(figsize=(6,6))\n",
        "plt.title('gender of the respondent')\n",
        "explode=0.1,0\n",
        "fin['gender_of_respondent'].value_counts().plot(kind='pie',explode=explode, autopct='%1.3f%%')\n",
        "plt.show()\n",
        "\n",
        "#most respondnents were female"
      ],
      "execution_count": 32,
      "outputs": [
        {
          "output_type": "display_data",
          "data": {
            "image/png": "[encoded data removed]",
            "text/plain": [
              "<Figure size 432x432 with 1 Axes>"
            ]
          },
          "metadata": {
            "tags": []
          }
        }
      ]
    },
    {
      "cell_type": "markdown",
      "metadata": {
        "id": "DZ_tW-_lMYnV"
      },
      "source": [
        "##### The relationship with head"
      ]
    },
    {
      "cell_type": "code",
      "metadata": {
        "colab": {
          "base_uri": "https://localhost:8080/",
          "height": 585
        },
        "id": "gyGHRcfrLqJQ",
        "outputId": "15a6cc4d-828c-464b-9811-4b9605c85d8f"
      },
      "source": [
        "plt.figure(figsize=(8,8))\n",
        "plt.title('The relationship with head')\n",
        "plt.ylabel('count')\n",
        "fin['The relationship with household head'].value_counts().plot(kind='bar')\n",
        "plt.show()"
      ],
      "execution_count": 33,
      "outputs": [
        {
          "output_type": "display_data",
          "data": {
            "image/png": "[encoded data removed]",
            "text/plain": [
              "<Figure size 576x576 with 1 Axes>"
            ]
          },
          "metadata": {
            "tags": [],
            "needs_background": "light"
          }
        }
      ]
    },
    {
      "cell_type": "markdown",
      "metadata": {
        "id": "kXIhrAi7MUwu"
      },
      "source": [
        "##### marital_status"
      ]
    },
    {
      "cell_type": "code",
      "metadata": {
        "colab": {
          "base_uri": "https://localhost:8080/"
        },
        "id": "PH8yRDuHbEQn",
        "outputId": "b9a76de7-ea4d-40c7-9bd9-ec80fc1cfb69"
      },
      "source": [
        "fin['marital_status'].value_counts()"
      ],
      "execution_count": 34,
      "outputs": [
        {
          "output_type": "execute_result",
          "data": {
            "text/plain": [
              "Married/Living together    10110\n",
              "Single/Never Married        7633\n",
              "Divorced/Seperated          1969\n",
              "Widowed                     1818\n",
              "Dont know                      7\n",
              "Name: marital_status, dtype: int64"
            ]
          },
          "metadata": {
            "tags": []
          },
          "execution_count": 34
        }
      ]
    },
    {
      "cell_type": "code",
      "metadata": {
        "colab": {
          "base_uri": "https://localhost:8080/",
          "height": 482
        },
        "id": "kBGkXPsnMOM1",
        "outputId": "455eab98-39a6-4755-fb6b-52603adf3da0"
      },
      "source": [
        "#we will relabel the status 'Dont Know' into divorced or separated\n",
        "fin['marital_status']=fin['marital_status'].replace('Dont know','Divorced/Seperated')\n",
        "\n",
        "# we will make a plot to show the martial status\n",
        "plt.figure(figsize=(8,8))\n",
        "plt.title('marital status of respondent')\n",
        "explode=0,0,0,0.1\n",
        "fin['marital_status'].value_counts().plot(kind='pie',explode=explode,autopct='%1.3f%%')\n",
        "plt.show()\n",
        "\n",
        "#most respondnets were married/ living together"
      ],
      "execution_count": 35,
      "outputs": [
        {
          "output_type": "display_data",
          "data": {
            "image/png": "[encoded data removed]",
            "text/plain": [
              "<Figure size 576x576 with 1 Axes>"
            ]
          },
          "metadata": {
            "tags": []
          }
        }
      ]
    },
    {
      "cell_type": "markdown",
      "metadata": {
        "id": "S0ZIDJUEQd4x"
      },
      "source": [
        "##### Type of Job"
      ]
    },
    {
      "cell_type": "code",
      "metadata": {
        "colab": {
          "base_uri": "https://localhost:8080/"
        },
        "id": "XSU7Axs0Nlm5",
        "outputId": "cd56d938-24c2-4fb9-8805-e80b17d91c90"
      },
      "source": [
        "fin['Type of Job'].value_counts()"
      ],
      "execution_count": 36,
      "outputs": [
        {
          "output_type": "execute_result",
          "data": {
            "text/plain": [
              "Self employed                   6014\n",
              "Informally employed             5391\n",
              "Farming and Fishing             4879\n",
              "Remittance Dependent            2110\n",
              "Formally employed Private       1029\n",
              "Other Income                     974\n",
              "No Income                        541\n",
              "Formally employed Government     382\n",
              "Dont Know/Refuse to answer       117\n",
              "Government Dependent             100\n",
              "Name: Type of Job, dtype: int64"
            ]
          },
          "metadata": {
            "tags": []
          },
          "execution_count": 36
        }
      ]
    },
    {
      "cell_type": "code",
      "metadata": {
        "id": "5ZT7TjtfO563"
      },
      "source": [
        "#we will combine the remintance dependnent and government dependent into one label known as dependnent \n",
        "#those who refused to answer can be labelled into other income\n",
        "fin[\"Type of Job\"]= fin[\"Type of Job\"].replace('Government Dependent', \"dependent\")\n",
        "fin[\"Type of Job\"]= fin[\"Type of Job\"].replace('Remittance Dependent', \"dependent\")\n",
        "fin[\"Type of Job\"]= fin[\"Type of Job\"].replace('Dont Know/Refuse to answer', \"Other Income\")"
      ],
      "execution_count": 37,
      "outputs": []
    },
    {
      "cell_type": "code",
      "metadata": {
        "colab": {
          "base_uri": "https://localhost:8080/",
          "height": 513
        },
        "id": "PSxFWLcZQBNM",
        "outputId": "f14e7a00-9069-44dc-837a-fda1561094a4"
      },
      "source": [
        "plt.figure(figsize=(8,8))\n",
        "plt.title(' respondent job type')\n",
        "plt.xlabel('count')\n",
        "fin['Type of Job'].value_counts().plot(kind='barh')\n",
        "plt.show()"
      ],
      "execution_count": 38,
      "outputs": [
        {
          "output_type": "display_data",
          "data": {
            "image/png": "[encoded data removed]",
            "text/plain": [
              "<Figure size 576x576 with 1 Axes>"
            ]
          },
          "metadata": {
            "tags": [],
            "needs_background": "light"
          }
        }
      ]
    },
    {
      "cell_type": "markdown",
      "metadata": {
        "id": "q1iAWXCHQkLh"
      },
      "source": [
        "## Bivariate Analysis"
      ]
    },
    {
      "cell_type": "markdown",
      "metadata": {
        "id": "kyNCkNGFQpjk"
      },
      "source": [
        "###### we will look at the relationship between 'Has a Bank account' and the other features"
      ]
    },
    {
      "cell_type": "markdown",
      "metadata": {
        "id": "TYmlbDmHQ5zK"
      },
      "source": [
        "##### Has a Bank account and country"
      ]
    },
    {
      "cell_type": "code",
      "metadata": {
        "colab": {
          "base_uri": "https://localhost:8080/",
          "height": 232
        },
        "id": "RcCnU2SRRjQy",
        "outputId": "08ce44eb-ca3e-4533-90b4-48964a700652"
      },
      "source": [
        "pd.crosstab(fin.country,fin['Has a Bank account'],margins=True,margins_name='Total')\n",
        "\n",
        "# In Rwanda, most of the respondnents had bank accounts\n",
        "#Uganda had the least"
      ],
      "execution_count": 39,
      "outputs": [
        {
          "output_type": "execute_result",
          "data": {
            "text/html": [
              "<div>\n",
              "<style scoped>\n",
              "    .dataframe tbody tr th:only-of-type {\n",
              "        vertical-align: middle;\n",
              "    }\n",
              "\n",
              "    .dataframe tbody tr th {\n",
              "        vertical-align: top;\n",
              "    }\n",
              "\n",
              "    .dataframe thead th {\n",
              "        text-align: right;\n",
              "    }\n",
              "</style>\n",
              "<table border=\"1\" class=\"dataframe\">\n",
              "  <thead>\n",
              "    <tr style=\"text-align: right;\">\n",
              "      <th>Has a Bank account</th>\n",
              "      <th>No</th>\n",
              "      <th>Yes</th>\n",
              "      <th>Total</th>\n",
              "    </tr>\n",
              "    <tr>\n",
              "      <th>country</th>\n",
              "      <th></th>\n",
              "      <th></th>\n",
              "      <th></th>\n",
              "    </tr>\n",
              "  </thead>\n",
              "  <tbody>\n",
              "    <tr>\n",
              "      <th>Kenya</th>\n",
              "      <td>4098</td>\n",
              "      <td>1393</td>\n",
              "      <td>5491</td>\n",
              "    </tr>\n",
              "    <tr>\n",
              "      <th>Rwanda</th>\n",
              "      <td>7116</td>\n",
              "      <td>958</td>\n",
              "      <td>8074</td>\n",
              "    </tr>\n",
              "    <tr>\n",
              "      <th>Tanzania</th>\n",
              "      <td>5475</td>\n",
              "      <td>578</td>\n",
              "      <td>6053</td>\n",
              "    </tr>\n",
              "    <tr>\n",
              "      <th>Uganda</th>\n",
              "      <td>1750</td>\n",
              "      <td>169</td>\n",
              "      <td>1919</td>\n",
              "    </tr>\n",
              "    <tr>\n",
              "      <th>Total</th>\n",
              "      <td>18439</td>\n",
              "      <td>3098</td>\n",
              "      <td>21537</td>\n",
              "    </tr>\n",
              "  </tbody>\n",
              "</table>\n",
              "</div>"
            ],
            "text/plain": [
              "Has a Bank account     No   Yes  Total\n",
              "country                               \n",
              "Kenya                4098  1393   5491\n",
              "Rwanda               7116   958   8074\n",
              "Tanzania             5475   578   6053\n",
              "Uganda               1750   169   1919\n",
              "Total               18439  3098  21537"
            ]
          },
          "metadata": {
            "tags": []
          },
          "execution_count": 39
        }
      ]
    },
    {
      "cell_type": "code",
      "metadata": {
        "colab": {
          "base_uri": "https://localhost:8080/",
          "height": 328
        },
        "id": "oy0iL2zbHpmX",
        "outputId": "e610548d-90a0-4957-9793-a131df85e9c3"
      },
      "source": [
        "a=pd.crosstab(fin.country,fin['Has a Bank account'])\n",
        "color=['red','green']\n",
        "a.plot.bar(color=color)\n",
        "plt.ylabel('count')\n",
        "plt.title('bar chart of those with and without bank accounts')\n",
        "plt.show()"
      ],
      "execution_count": 40,
      "outputs": [
        {
          "output_type": "display_data",
          "data": {
            "image/png": "[encoded data removed]",
            "text/plain": [
              "<Figure size 432x288 with 1 Axes>"
            ]
          },
          "metadata": {
            "tags": [],
            "needs_background": "light"
          }
        }
      ]
    },
    {
      "cell_type": "markdown",
      "metadata": {
        "id": "tUBck34UJwAm"
      },
      "source": [
        "- most people had no bank accounts in all the countries compared to those that had"
      ]
    },
    {
      "cell_type": "code",
      "metadata": {
        "colab": {
          "base_uri": "https://localhost:8080/"
        },
        "id": "TA6XgbklID-z",
        "outputId": "0df5269f-9727-4f0e-cb08-5352240132a2"
      },
      "source": [
        "stats.chi2_contingency(a)\n",
        "#the chi2 statistic is 749, the degrees of freedom are 3 and the p-values is 4.3557\n",
        "#the p-value is greater than the threshold of 0.05\n",
        "#because of this we fail to reject the null hypothesis that the country and acess to bank services are independent"
      ],
      "execution_count": 41,
      "outputs": [
        {
          "output_type": "execute_result",
          "data": {
            "text/plain": [
              "(742.967274101365,\n",
              " 1.0109148593485178e-160,\n",
              " 3,\n",
              " array([[4701.14449552,  789.85550448],\n",
              "        [6912.591633  , 1161.408367  ],\n",
              "        [5182.30333844,  870.69666156],\n",
              "        [1642.96053304,  276.03946696]]))"
            ]
          },
          "metadata": {
            "tags": []
          },
          "execution_count": 41
        }
      ]
    },
    {
      "cell_type": "markdown",
      "metadata": {
        "id": "h_bF-hmmSiIJ"
      },
      "source": [
        "##### has bank account and location"
      ]
    },
    {
      "cell_type": "code",
      "metadata": {
        "colab": {
          "base_uri": "https://localhost:8080/",
          "height": 171
        },
        "id": "NvNTI3L7Ssez",
        "outputId": "1f1ca632-0169-497b-bd1a-7a1e29737475"
      },
      "source": [
        "pd.crosstab(fin['Type of Location'],fin['Has a Bank account'],margins=True,margins_name='Total')\n",
        "\n",
        "#most respondnents in rural areas did not have bank accounts\n",
        "# the proportion of those who had bank accounts in the urban and rural areas was not that different.\n",
        "# this can imply if there were more respondnents from the urban areas aswell, then the number of those with accounts would be higher "
      ],
      "execution_count": 42,
      "outputs": [
        {
          "output_type": "execute_result",
          "data": {
            "text/html": [
              "<div>\n",
              "<style scoped>\n",
              "    .dataframe tbody tr th:only-of-type {\n",
              "        vertical-align: middle;\n",
              "    }\n",
              "\n",
              "    .dataframe tbody tr th {\n",
              "        vertical-align: top;\n",
              "    }\n",
              "\n",
              "    .dataframe thead th {\n",
              "        text-align: right;\n",
              "    }\n",
              "</style>\n",
              "<table border=\"1\" class=\"dataframe\">\n",
              "  <thead>\n",
              "    <tr style=\"text-align: right;\">\n",
              "      <th>Has a Bank account</th>\n",
              "      <th>No</th>\n",
              "      <th>Yes</th>\n",
              "      <th>Total</th>\n",
              "    </tr>\n",
              "    <tr>\n",
              "      <th>Type of Location</th>\n",
              "      <th></th>\n",
              "      <th></th>\n",
              "      <th></th>\n",
              "    </tr>\n",
              "  </thead>\n",
              "  <tbody>\n",
              "    <tr>\n",
              "      <th>Rural</th>\n",
              "      <td>11552</td>\n",
              "      <td>1527</td>\n",
              "      <td>13079</td>\n",
              "    </tr>\n",
              "    <tr>\n",
              "      <th>Urban</th>\n",
              "      <td>6887</td>\n",
              "      <td>1571</td>\n",
              "      <td>8458</td>\n",
              "    </tr>\n",
              "    <tr>\n",
              "      <th>Total</th>\n",
              "      <td>18439</td>\n",
              "      <td>3098</td>\n",
              "      <td>21537</td>\n",
              "    </tr>\n",
              "  </tbody>\n",
              "</table>\n",
              "</div>"
            ],
            "text/plain": [
              "Has a Bank account     No   Yes  Total\n",
              "Type of Location                      \n",
              "Rural               11552  1527  13079\n",
              "Urban                6887  1571   8458\n",
              "Total               18439  3098  21537"
            ]
          },
          "metadata": {
            "tags": []
          },
          "execution_count": 42
        }
      ]
    },
    {
      "cell_type": "code",
      "metadata": {
        "colab": {
          "base_uri": "https://localhost:8080/",
          "height": 301
        },
        "id": "7wuIdZXXJjcd",
        "outputId": "dfc0ac44-1734-4ea2-f5d1-ceffac390db5"
      },
      "source": [
        "loc_acc=pd.crosstab(fin['Type of Location'],fin['Has a Bank account'])\n",
        "color=['red','green']\n",
        "loc_acc.plot.bar(color=color)\n",
        "\n",
        "plt.ylabel('count')\n",
        "plt.show()"
      ],
      "execution_count": 43,
      "outputs": [
        {
          "output_type": "display_data",
          "data": {
            "image/png": "[encoded data removed]",
            "text/plain": [
              "<Figure size 432x288 with 1 Axes>"
            ]
          },
          "metadata": {
            "tags": [],
            "needs_background": "light"
          }
        }
      ]
    },
    {
      "cell_type": "markdown",
      "metadata": {
        "id": "G4aHaN3LKD6N"
      },
      "source": [
        "- Across all locations, the number of people without bank accounts is more than those with bank accounts\n",
        "- The number of people with acess to bank services is slightly higher in urban areas than in rural areas"
      ]
    },
    {
      "cell_type": "code",
      "metadata": {
        "colab": {
          "base_uri": "https://localhost:8080/"
        },
        "id": "AWLPIhq7KlmT",
        "outputId": "501b61c6-dd5a-4356-f538-d7b79ed605c2"
      },
      "source": [
        "stats.chi2_contingency(loc_acc)\n",
        "\n",
        "# we have a chi2 statistic of 200 and a pvalue that is less than the 0.05 threshold\n",
        "#because of this we reject the null hypothesis that says there is no dependence between the location and accesibily of bank services\n",
        "# this result implies that there is a relationship between the location of the respondent and the the accesibility of bank services"
      ],
      "execution_count": 44,
      "outputs": [
        {
          "output_type": "execute_result",
          "data": {
            "text/plain": [
              "(197.94531472524076,\n",
              " 5.86437220821097e-45,\n",
              " 1,\n",
              " array([[11197.64502948,  1881.35497052],\n",
              "        [ 7241.35497052,  1216.64502948]]))"
            ]
          },
          "metadata": {
            "tags": []
          },
          "execution_count": 44
        }
      ]
    },
    {
      "cell_type": "markdown",
      "metadata": {
        "id": "R8IXOhBVVEQa"
      },
      "source": [
        "##### has bank account and has accesss to mobile phones"
      ]
    },
    {
      "cell_type": "code",
      "metadata": {
        "colab": {
          "base_uri": "https://localhost:8080/",
          "height": 171
        },
        "id": "ay8lSY6LVNmn",
        "outputId": "40d0311e-cbd8-4531-a899-49a0cc0b1b89"
      },
      "source": [
        "pd.crosstab(fin['Cell Phone Access'],fin['Has a Bank account'],margins=True,margins_name='Total')\n",
        "\n",
        "#Most people who had acess to cell phones did not have bank accounts\n",
        "#thos who had bank accounts and had cell phones were more than those who had bank accounts did not have cell phonescell"
      ],
      "execution_count": 45,
      "outputs": [
        {
          "output_type": "execute_result",
          "data": {
            "text/html": [
              "<div>\n",
              "<style scoped>\n",
              "    .dataframe tbody tr th:only-of-type {\n",
              "        vertical-align: middle;\n",
              "    }\n",
              "\n",
              "    .dataframe tbody tr th {\n",
              "        vertical-align: top;\n",
              "    }\n",
              "\n",
              "    .dataframe thead th {\n",
              "        text-align: right;\n",
              "    }\n",
              "</style>\n",
              "<table border=\"1\" class=\"dataframe\">\n",
              "  <thead>\n",
              "    <tr style=\"text-align: right;\">\n",
              "      <th>Has a Bank account</th>\n",
              "      <th>No</th>\n",
              "      <th>Yes</th>\n",
              "      <th>Total</th>\n",
              "    </tr>\n",
              "    <tr>\n",
              "      <th>Cell Phone Access</th>\n",
              "      <th></th>\n",
              "      <th></th>\n",
              "      <th></th>\n",
              "    </tr>\n",
              "  </thead>\n",
              "  <tbody>\n",
              "    <tr>\n",
              "      <th>No</th>\n",
              "      <td>5055</td>\n",
              "      <td>64</td>\n",
              "      <td>5119</td>\n",
              "    </tr>\n",
              "    <tr>\n",
              "      <th>Yes</th>\n",
              "      <td>13384</td>\n",
              "      <td>3034</td>\n",
              "      <td>16418</td>\n",
              "    </tr>\n",
              "    <tr>\n",
              "      <th>Total</th>\n",
              "      <td>18439</td>\n",
              "      <td>3098</td>\n",
              "      <td>21537</td>\n",
              "    </tr>\n",
              "  </tbody>\n",
              "</table>\n",
              "</div>"
            ],
            "text/plain": [
              "Has a Bank account     No   Yes  Total\n",
              "Cell Phone Access                     \n",
              "No                   5055    64   5119\n",
              "Yes                 13384  3034  16418\n",
              "Total               18439  3098  21537"
            ]
          },
          "metadata": {
            "tags": []
          },
          "execution_count": 45
        }
      ]
    },
    {
      "cell_type": "code",
      "metadata": {
        "colab": {
          "base_uri": "https://localhost:8080/",
          "height": 301
        },
        "id": "IVN_4KG_MZJJ",
        "outputId": "6d527785-d3fb-4221-b21c-fbb5498c5b86"
      },
      "source": [
        "cell_acc=pd.crosstab(fin['Cell Phone Access'],fin['Has a Bank account'])\n",
        "color=['red','green']\n",
        "cell_acc.plot.bar(color=color)\n",
        "plt.title('access to bank account and cell phone')\n",
        "plt.ylabel('count')\n",
        "plt.show()"
      ],
      "execution_count": 46,
      "outputs": [
        {
          "output_type": "display_data",
          "data": {
            "image/png": "[encoded data removed]",
            "text/plain": [
              "<Figure size 432x288 with 1 Axes>"
            ]
          },
          "metadata": {
            "tags": [],
            "needs_background": "light"
          }
        }
      ]
    },
    {
      "cell_type": "markdown",
      "metadata": {
        "id": "DFhfFaeOOtSX"
      },
      "source": [
        "- we can see that most people who had phone cell devices didn't have bank accounts\n",
        "- We can se that most people who had bank accounts had phone cells services"
      ]
    },
    {
      "cell_type": "code",
      "metadata": {
        "colab": {
          "base_uri": "https://localhost:8080/"
        },
        "id": "pXfpvQVvPI0r",
        "outputId": "53853a8b-04d0-4a0f-faee-c23ca64a848c"
      },
      "source": [
        "#we will run a chi2 contignecy test to test for independnecy of the tow columns\n",
        "stats.chi2_contingency(cell_acc)\n"
      ],
      "execution_count": 47,
      "outputs": [
        {
          "output_type": "execute_result",
          "data": {
            "text/plain": [
              "(939.2249664243798,\n",
              " 2.9173194201137017e-206,\n",
              " 1,\n",
              " array([[ 4382.6550123,   736.3449877],\n",
              "        [14056.3449877,  2361.6550123]]))"
            ]
          },
          "metadata": {
            "tags": []
          },
          "execution_count": 47
        }
      ]
    },
    {
      "cell_type": "markdown",
      "metadata": {
        "id": "LeZOXgs6Pe9h"
      },
      "source": [
        "- From the chi2_contingency() test, we had a chi2 statistic of 942 and a p-value that was less than the 0.05 thresshold\n",
        "- because of this, we reject the null hypothesis which states that the two columns are independent\n",
        "- By rejecting the null, we imply that there is an influence by phone cell acess to bank access."
      ]
    },
    {
      "cell_type": "markdown",
      "metadata": {
        "id": "XfXFYCp7WAnu"
      },
      "source": [
        "#### has bank account and gender"
      ]
    },
    {
      "cell_type": "code",
      "metadata": {
        "colab": {
          "base_uri": "https://localhost:8080/",
          "height": 171
        },
        "id": "p-p4gjAwWFNc",
        "outputId": "2c21c5a3-a5ef-400c-bcfc-14e3f24e73ba"
      },
      "source": [
        "pd.crosstab(fin['gender_of_respondent'],fin['Has a Bank account'],margins=True,margins_name='Total')\n",
        "\n",
        "#most males had bank accounts than the females respondnents\n",
        "#the number of females who did not have bank accounts were more than the male respondnets"
      ],
      "execution_count": 48,
      "outputs": [
        {
          "output_type": "execute_result",
          "data": {
            "text/html": [
              "<div>\n",
              "<style scoped>\n",
              "    .dataframe tbody tr th:only-of-type {\n",
              "        vertical-align: middle;\n",
              "    }\n",
              "\n",
              "    .dataframe tbody tr th {\n",
              "        vertical-align: top;\n",
              "    }\n",
              "\n",
              "    .dataframe thead th {\n",
              "        text-align: right;\n",
              "    }\n",
              "</style>\n",
              "<table border=\"1\" class=\"dataframe\">\n",
              "  <thead>\n",
              "    <tr style=\"text-align: right;\">\n",
              "      <th>Has a Bank account</th>\n",
              "      <th>No</th>\n",
              "      <th>Yes</th>\n",
              "      <th>Total</th>\n",
              "    </tr>\n",
              "    <tr>\n",
              "      <th>gender_of_respondent</th>\n",
              "      <th></th>\n",
              "      <th></th>\n",
              "      <th></th>\n",
              "    </tr>\n",
              "  </thead>\n",
              "  <tbody>\n",
              "    <tr>\n",
              "      <th>Female</th>\n",
              "      <td>11266</td>\n",
              "      <td>1396</td>\n",
              "      <td>12662</td>\n",
              "    </tr>\n",
              "    <tr>\n",
              "      <th>Male</th>\n",
              "      <td>7173</td>\n",
              "      <td>1702</td>\n",
              "      <td>8875</td>\n",
              "    </tr>\n",
              "    <tr>\n",
              "      <th>Total</th>\n",
              "      <td>18439</td>\n",
              "      <td>3098</td>\n",
              "      <td>21537</td>\n",
              "    </tr>\n",
              "  </tbody>\n",
              "</table>\n",
              "</div>"
            ],
            "text/plain": [
              "Has a Bank account       No   Yes  Total\n",
              "gender_of_respondent                    \n",
              "Female                11266  1396  12662\n",
              "Male                   7173  1702   8875\n",
              "Total                 18439  3098  21537"
            ]
          },
          "metadata": {
            "tags": []
          },
          "execution_count": 48
        }
      ]
    },
    {
      "cell_type": "code",
      "metadata": {
        "colab": {
          "base_uri": "https://localhost:8080/",
          "height": 322
        },
        "id": "TwGaUeCoW_NK",
        "outputId": "c039b504-28b9-494d-b401-e65d9ffeaae0"
      },
      "source": [
        "gend_acc=pd.crosstab(fin['gender_of_respondent'],fin['Has a Bank account'])\n",
        "color=['red','green']\n",
        "gend_acc.plot.bar(stacked=True,color=color)\n",
        "plt.title('bar chart')\n",
        "plt.ylabel('count')\n",
        "plt.show()"
      ],
      "execution_count": 49,
      "outputs": [
        {
          "output_type": "display_data",
          "data": {
            "image/png": "[encoded data removed]",
            "text/plain": [
              "<Figure size 432x288 with 1 Axes>"
            ]
          },
          "metadata": {
            "tags": [],
            "needs_background": "light"
          }
        }
      ]
    },
    {
      "cell_type": "markdown",
      "metadata": {
        "id": "pkt_xGHuQPlG"
      },
      "source": [
        "- we can see that most females did not have bank accounts\n",
        "- we can also see that most males had bank accounts than their female counterparts"
      ]
    },
    {
      "cell_type": "code",
      "metadata": {
        "colab": {
          "base_uri": "https://localhost:8080/"
        },
        "id": "GulWvONyQQDu",
        "outputId": "5e2a7d7d-5ea0-41c5-d251-cc29782ef330"
      },
      "source": [
        "#we will run a chi squared test for independnence\n",
        "stats.chi2_contingency(gend_acc)"
      ],
      "execution_count": 50,
      "outputs": [
        {
          "output_type": "execute_result",
          "data": {
            "text/plain": [
              "(280.9190467532352,\n",
              " 4.735011961490657e-63,\n",
              " 1,\n",
              " array([[10840.62859265,  1821.37140735],\n",
              "        [ 7598.37140735,  1276.62859265]]))"
            ]
          },
          "metadata": {
            "tags": []
          },
          "execution_count": 50
        }
      ]
    },
    {
      "cell_type": "markdown",
      "metadata": {
        "id": "r4wXuNrdRUzJ"
      },
      "source": [
        "- from the test above, we can see that the chi2 statistic is 279 while the p-value is less than the threshold of 0.05\n",
        "- since the p-value is less than the 0.05 threshold, we fail to reject the null\n",
        "- This implies that there is a relationship betwee the gender of the respondnent and them having a bank account"
      ]
    },
    {
      "cell_type": "markdown",
      "metadata": {
        "id": "RvhEQb_vYK6K"
      },
      "source": [
        "has bank account and household size"
      ]
    },
    {
      "cell_type": "code",
      "metadata": {
        "colab": {
          "base_uri": "https://localhost:8080/",
          "height": 416
        },
        "id": "MgGe6qzdYP45",
        "outputId": "d0947509-6fb9-49cd-9bd9-30c0bf1fd4d2"
      },
      "source": [
        "pd.crosstab(fin['household_size'],fin['Has a Bank account'],margins=True,margins_name='Total')"
      ],
      "execution_count": 51,
      "outputs": [
        {
          "output_type": "execute_result",
          "data": {
            "text/html": [
              "<div>\n",
              "<style scoped>\n",
              "    .dataframe tbody tr th:only-of-type {\n",
              "        vertical-align: middle;\n",
              "    }\n",
              "\n",
              "    .dataframe tbody tr th {\n",
              "        vertical-align: top;\n",
              "    }\n",
              "\n",
              "    .dataframe thead th {\n",
              "        text-align: right;\n",
              "    }\n",
              "</style>\n",
              "<table border=\"1\" class=\"dataframe\">\n",
              "  <thead>\n",
              "    <tr style=\"text-align: right;\">\n",
              "      <th>Has a Bank account</th>\n",
              "      <th>No</th>\n",
              "      <th>Yes</th>\n",
              "      <th>Total</th>\n",
              "    </tr>\n",
              "    <tr>\n",
              "      <th>household_size</th>\n",
              "      <th></th>\n",
              "      <th></th>\n",
              "      <th></th>\n",
              "    </tr>\n",
              "  </thead>\n",
              "  <tbody>\n",
              "    <tr>\n",
              "      <th>1.0</th>\n",
              "      <td>2812</td>\n",
              "      <td>630</td>\n",
              "      <td>3442</td>\n",
              "    </tr>\n",
              "    <tr>\n",
              "      <th>2.0</th>\n",
              "      <td>4045</td>\n",
              "      <td>573</td>\n",
              "      <td>4618</td>\n",
              "    </tr>\n",
              "    <tr>\n",
              "      <th>3.0</th>\n",
              "      <td>2768</td>\n",
              "      <td>467</td>\n",
              "      <td>3235</td>\n",
              "    </tr>\n",
              "    <tr>\n",
              "      <th>4.0</th>\n",
              "      <td>2603</td>\n",
              "      <td>452</td>\n",
              "      <td>3055</td>\n",
              "    </tr>\n",
              "    <tr>\n",
              "      <th>5.0</th>\n",
              "      <td>2225</td>\n",
              "      <td>400</td>\n",
              "      <td>2625</td>\n",
              "    </tr>\n",
              "    <tr>\n",
              "      <th>6.0</th>\n",
              "      <td>1700</td>\n",
              "      <td>263</td>\n",
              "      <td>1963</td>\n",
              "    </tr>\n",
              "    <tr>\n",
              "      <th>7.0</th>\n",
              "      <td>1171</td>\n",
              "      <td>173</td>\n",
              "      <td>1344</td>\n",
              "    </tr>\n",
              "    <tr>\n",
              "      <th>8.0</th>\n",
              "      <td>644</td>\n",
              "      <td>82</td>\n",
              "      <td>726</td>\n",
              "    </tr>\n",
              "    <tr>\n",
              "      <th>9.0</th>\n",
              "      <td>309</td>\n",
              "      <td>34</td>\n",
              "      <td>343</td>\n",
              "    </tr>\n",
              "    <tr>\n",
              "      <th>10.0</th>\n",
              "      <td>162</td>\n",
              "      <td>24</td>\n",
              "      <td>186</td>\n",
              "    </tr>\n",
              "    <tr>\n",
              "      <th>Total</th>\n",
              "      <td>18439</td>\n",
              "      <td>3098</td>\n",
              "      <td>21537</td>\n",
              "    </tr>\n",
              "  </tbody>\n",
              "</table>\n",
              "</div>"
            ],
            "text/plain": [
              "Has a Bank account     No   Yes  Total\n",
              "household_size                        \n",
              "1.0                  2812   630   3442\n",
              "2.0                  4045   573   4618\n",
              "3.0                  2768   467   3235\n",
              "4.0                  2603   452   3055\n",
              "5.0                  2225   400   2625\n",
              "6.0                  1700   263   1963\n",
              "7.0                  1171   173   1344\n",
              "8.0                   644    82    726\n",
              "9.0                   309    34    343\n",
              "10.0                  162    24    186\n",
              "Total               18439  3098  21537"
            ]
          },
          "metadata": {
            "tags": []
          },
          "execution_count": 51
        }
      ]
    },
    {
      "cell_type": "code",
      "metadata": {
        "colab": {
          "base_uri": "https://localhost:8080/",
          "height": 307
        },
        "id": "hyWx-Z-TYmcP",
        "outputId": "47427f82-e717-4ff7-e5b5-33e206f82405"
      },
      "source": [
        "siz_acc=pd.crosstab(fin['household_size'],fin['Has a Bank account'])\n",
        "color=['red','green']\n",
        "siz_acc.plot.bar(color=color)\n",
        "plt.ylabel('count')\n",
        "plt.title('household size vs bank account status')\n",
        "plt.show()"
      ],
      "execution_count": 52,
      "outputs": [
        {
          "output_type": "display_data",
          "data": {
            "image/png": "[encoded data removed]",
            "text/plain": [
              "<Figure size 432x288 with 1 Axes>"
            ]
          },
          "metadata": {
            "tags": [],
            "needs_background": "light"
          }
        }
      ]
    },
    {
      "cell_type": "markdown",
      "metadata": {
        "id": "uBDUj1ULSvS8"
      },
      "source": [
        "- at all household sizes, the number of those with no bank account is more than those with bank accounts\n",
        "- Small sized families have  more bank accounts than large families\n",
        "- as the family size increase, the number of bank account decreases"
      ]
    },
    {
      "cell_type": "code",
      "metadata": {
        "colab": {
          "base_uri": "https://localhost:8080/"
        },
        "id": "RyyFOOTXS8V9",
        "outputId": "c5a1470b-0ea1-4966-a40d-4a132fcf5c43"
      },
      "source": [
        "#we will do a chi2 contigency test\n",
        "stats.chi2_contingency(siz_acc)"
      ],
      "execution_count": 53,
      "outputs": [
        {
          "output_type": "execute_result",
          "data": {
            "text/plain": [
              "(75.12618544936437,\n",
              " 1.4921849503074218e-12,\n",
              " 9,\n",
              " array([[2946.88387426,  495.11612574],\n",
              "        [3953.72159539,  664.27840461],\n",
              "        [2769.65988764,  465.34011236],\n",
              "        [2615.55207318,  439.44792682],\n",
              "        [2247.40562752,  377.59437248],\n",
              "        [1680.63133213,  282.36866787],\n",
              "        [1150.67168129,  193.32831871],\n",
              "        [ 621.56818498,  104.43181502],\n",
              "        [ 293.661002  ,   49.338998  ],\n",
              "        [ 159.24474161,   26.75525839]]))"
            ]
          },
          "metadata": {
            "tags": []
          },
          "execution_count": 53
        }
      ]
    },
    {
      "cell_type": "markdown",
      "metadata": {
        "id": "hUvlqdzsTNKA"
      },
      "source": [
        "- we have a chi2 test statistic of 76.88 and a p-value that is less than 0.05 threshold\n",
        "- because of this we reject the null hypothesis that there is independnece between the two columns\n",
        "- this implies that there is some level of influence that the family size has on access to bank services\n"
      ]
    },
    {
      "cell_type": "markdown",
      "metadata": {
        "id": "ZCT3JwKjanIv"
      },
      "source": [
        "#### has bank account and marital status "
      ]
    },
    {
      "cell_type": "code",
      "metadata": {
        "colab": {
          "base_uri": "https://localhost:8080/",
          "height": 232
        },
        "id": "6ZXQuJwbasUv",
        "outputId": "35b8cce6-f440-4ac4-ef63-1109b552add7"
      },
      "source": [
        "pd.crosstab(fin['marital_status'],fin['Has a Bank account'],margins=True,margins_name='Total')"
      ],
      "execution_count": 54,
      "outputs": [
        {
          "output_type": "execute_result",
          "data": {
            "text/html": [
              "<div>\n",
              "<style scoped>\n",
              "    .dataframe tbody tr th:only-of-type {\n",
              "        vertical-align: middle;\n",
              "    }\n",
              "\n",
              "    .dataframe tbody tr th {\n",
              "        vertical-align: top;\n",
              "    }\n",
              "\n",
              "    .dataframe thead th {\n",
              "        text-align: right;\n",
              "    }\n",
              "</style>\n",
              "<table border=\"1\" class=\"dataframe\">\n",
              "  <thead>\n",
              "    <tr style=\"text-align: right;\">\n",
              "      <th>Has a Bank account</th>\n",
              "      <th>No</th>\n",
              "      <th>Yes</th>\n",
              "      <th>Total</th>\n",
              "    </tr>\n",
              "    <tr>\n",
              "      <th>marital_status</th>\n",
              "      <th></th>\n",
              "      <th></th>\n",
              "      <th></th>\n",
              "    </tr>\n",
              "  </thead>\n",
              "  <tbody>\n",
              "    <tr>\n",
              "      <th>Divorced/Seperated</th>\n",
              "      <td>1753</td>\n",
              "      <td>223</td>\n",
              "      <td>1976</td>\n",
              "    </tr>\n",
              "    <tr>\n",
              "      <th>Married/Living together</th>\n",
              "      <td>8338</td>\n",
              "      <td>1772</td>\n",
              "      <td>10110</td>\n",
              "    </tr>\n",
              "    <tr>\n",
              "      <th>Single/Never Married</th>\n",
              "      <td>6702</td>\n",
              "      <td>931</td>\n",
              "      <td>7633</td>\n",
              "    </tr>\n",
              "    <tr>\n",
              "      <th>Widowed</th>\n",
              "      <td>1646</td>\n",
              "      <td>172</td>\n",
              "      <td>1818</td>\n",
              "    </tr>\n",
              "    <tr>\n",
              "      <th>Total</th>\n",
              "      <td>18439</td>\n",
              "      <td>3098</td>\n",
              "      <td>21537</td>\n",
              "    </tr>\n",
              "  </tbody>\n",
              "</table>\n",
              "</div>"
            ],
            "text/plain": [
              "Has a Bank account          No   Yes  Total\n",
              "marital_status                             \n",
              "Divorced/Seperated        1753   223   1976\n",
              "Married/Living together   8338  1772  10110\n",
              "Single/Never Married      6702   931   7633\n",
              "Widowed                   1646   172   1818\n",
              "Total                    18439  3098  21537"
            ]
          },
          "metadata": {
            "tags": []
          },
          "execution_count": 54
        }
      ]
    },
    {
      "cell_type": "code",
      "metadata": {
        "colab": {
          "base_uri": "https://localhost:8080/",
          "height": 404
        },
        "id": "tUE3eFumcjBU",
        "outputId": "474de54d-4e01-488e-d90b-ffa334c60fb2"
      },
      "source": [
        "marital_acc=pd.crosstab(fin['marital_status'],fin['Has a Bank account'])\n",
        "color=['red','green']\n",
        "marital_acc.plot.bar(color=color)\n",
        "plt.title('marital status and bank account status')\n",
        "plt.ylabel('count')\n",
        "plt.show()"
      ],
      "execution_count": 55,
      "outputs": [
        {
          "output_type": "display_data",
          "data": {
            "image/png": "[encoded data removed]",
            "text/plain": [
              "<Figure size 432x288 with 1 Axes>"
            ]
          },
          "metadata": {
            "tags": [],
            "needs_background": "light"
          }
        }
      ]
    },
    {
      "cell_type": "markdown",
      "metadata": {
        "id": "hUUV-JHGUIdj"
      },
      "source": [
        "\n",
        "- we can see that in all the marital status groups, the number of people without bank accounts was more than those with bank accounts\n",
        "- married/people living together had bank accounts"
      ]
    },
    {
      "cell_type": "markdown",
      "metadata": {
        "id": "-MZNrPGpdMAc"
      },
      "source": [
        "#### type respondnent job and bank account status "
      ]
    },
    {
      "cell_type": "code",
      "metadata": {
        "colab": {
          "base_uri": "https://localhost:8080/",
          "height": 355
        },
        "id": "M0Z_0H7ZdfhS",
        "outputId": "fb2a07d0-f3fc-40a5-bcb6-5eb57dc4df78"
      },
      "source": [
        "pd.crosstab(fin['Type of Job'],fin['Has a Bank account'],margins=True,margins_name='Total')"
      ],
      "execution_count": 56,
      "outputs": [
        {
          "output_type": "execute_result",
          "data": {
            "text/html": [
              "<div>\n",
              "<style scoped>\n",
              "    .dataframe tbody tr th:only-of-type {\n",
              "        vertical-align: middle;\n",
              "    }\n",
              "\n",
              "    .dataframe tbody tr th {\n",
              "        vertical-align: top;\n",
              "    }\n",
              "\n",
              "    .dataframe thead th {\n",
              "        text-align: right;\n",
              "    }\n",
              "</style>\n",
              "<table border=\"1\" class=\"dataframe\">\n",
              "  <thead>\n",
              "    <tr style=\"text-align: right;\">\n",
              "      <th>Has a Bank account</th>\n",
              "      <th>No</th>\n",
              "      <th>Yes</th>\n",
              "      <th>Total</th>\n",
              "    </tr>\n",
              "    <tr>\n",
              "      <th>Type of Job</th>\n",
              "      <th></th>\n",
              "      <th></th>\n",
              "      <th></th>\n",
              "    </tr>\n",
              "  </thead>\n",
              "  <tbody>\n",
              "    <tr>\n",
              "      <th>Farming and Fishing</th>\n",
              "      <td>4314</td>\n",
              "      <td>565</td>\n",
              "      <td>4879</td>\n",
              "    </tr>\n",
              "    <tr>\n",
              "      <th>Formally employed Government</th>\n",
              "      <td>87</td>\n",
              "      <td>295</td>\n",
              "      <td>382</td>\n",
              "    </tr>\n",
              "    <tr>\n",
              "      <th>Formally employed Private</th>\n",
              "      <td>467</td>\n",
              "      <td>562</td>\n",
              "      <td>1029</td>\n",
              "    </tr>\n",
              "    <tr>\n",
              "      <th>Informally employed</th>\n",
              "      <td>4962</td>\n",
              "      <td>429</td>\n",
              "      <td>5391</td>\n",
              "    </tr>\n",
              "    <tr>\n",
              "      <th>No Income</th>\n",
              "      <td>529</td>\n",
              "      <td>12</td>\n",
              "      <td>541</td>\n",
              "    </tr>\n",
              "    <tr>\n",
              "      <th>Other Income</th>\n",
              "      <td>909</td>\n",
              "      <td>182</td>\n",
              "      <td>1091</td>\n",
              "    </tr>\n",
              "    <tr>\n",
              "      <th>Self employed</th>\n",
              "      <td>5193</td>\n",
              "      <td>821</td>\n",
              "      <td>6014</td>\n",
              "    </tr>\n",
              "    <tr>\n",
              "      <th>dependent</th>\n",
              "      <td>1978</td>\n",
              "      <td>232</td>\n",
              "      <td>2210</td>\n",
              "    </tr>\n",
              "    <tr>\n",
              "      <th>Total</th>\n",
              "      <td>18439</td>\n",
              "      <td>3098</td>\n",
              "      <td>21537</td>\n",
              "    </tr>\n",
              "  </tbody>\n",
              "</table>\n",
              "</div>"
            ],
            "text/plain": [
              "Has a Bank account               No   Yes  Total\n",
              "Type of Job                                     \n",
              "Farming and Fishing            4314   565   4879\n",
              "Formally employed Government     87   295    382\n",
              "Formally employed Private       467   562   1029\n",
              "Informally employed            4962   429   5391\n",
              "No Income                       529    12    541\n",
              "Other Income                    909   182   1091\n",
              "Self employed                  5193   821   6014\n",
              "dependent                      1978   232   2210\n",
              "Total                         18439  3098  21537"
            ]
          },
          "metadata": {
            "tags": []
          },
          "execution_count": 56
        }
      ]
    },
    {
      "cell_type": "code",
      "metadata": {
        "colab": {
          "base_uri": "https://localhost:8080/",
          "height": 445
        },
        "id": "-W1-ssxQd_kq",
        "outputId": "f0a6838b-470c-435f-f8b7-6f69465282e3"
      },
      "source": [
        "job_acc=pd.crosstab(fin['Type of Job'],fin['Has a Bank account'])\n",
        "color=['red','green']\n",
        "job_acc.plot.bar(color=color)\n",
        "plt.title('job of respondnent vs bank account status')\n",
        "plt.ylabel('count')\n",
        "plt.show()"
      ],
      "execution_count": 57,
      "outputs": [
        {
          "output_type": "display_data",
          "data": {
            "image/png": "[encoded data removed]",
            "text/plain": [
              "<Figure size 432x288 with 1 Axes>"
            ]
          },
          "metadata": {
            "tags": [],
            "needs_background": "light"
          }
        }
      ]
    },
    {
      "cell_type": "markdown",
      "metadata": {
        "id": "Edzz_pcwUXnb"
      },
      "source": [
        "- we can see that individuals who are self employed have more bank accounts folowed by those that are formally employed in the private sector then farming and fishing follows\n",
        "- those employed by government have more bank accounts"
      ]
    },
    {
      "cell_type": "code",
      "metadata": {
        "colab": {
          "base_uri": "https://localhost:8080/"
        },
        "id": "psnxOWnKVFGp",
        "outputId": "5e9fd2aa-369a-4a9b-8f7a-7d09d021316d"
      },
      "source": [
        "stats.chi2_contingency(job_acc)"
      ],
      "execution_count": 58,
      "outputs": [
        {
          "output_type": "execute_result",
          "data": {
            "text/plain": [
              "(2888.6702026697976, 0.0, 7, array([[4177.17792636,  701.82207364],\n",
              "        [ 327.05102846,   54.94897154],\n",
              "        [ 880.98300599,  148.01699401],\n",
              "        [4615.52904304,  775.47095696],\n",
              "        [ 463.1795979 ,   77.8204021 ],\n",
              "        [ 934.06458653,  156.93541347],\n",
              "        [5148.91331197,  865.08668803],\n",
              "        [1892.10149974,  317.89850026]]))"
            ]
          },
          "metadata": {
            "tags": []
          },
          "execution_count": 58
        }
      ]
    },
    {
      "cell_type": "markdown",
      "metadata": {
        "id": "2dfKHyRFVLqh"
      },
      "source": [
        "- we have a chi squared statistic of 2898.176 and a p-value of 0.0\n",
        "- the p-value is less than the p-value thresshold\n",
        "- because of this we reject the null hypothesis\n",
        "- this implies that there is no independence between the two columns\n",
        "- therefore they do influence each other"
      ]
    },
    {
      "cell_type": "markdown",
      "metadata": {
        "id": "4Yv1jiTSudVu"
      },
      "source": [
        "#### bank account access and level of education of the respondent"
      ]
    },
    {
      "cell_type": "code",
      "metadata": {
        "colab": {
          "base_uri": "https://localhost:8080/",
          "height": 263
        },
        "id": "BDb9bZ8QunVu",
        "outputId": "8770da4f-a27e-473b-c439-13f8df872a26"
      },
      "source": [
        "pd.crosstab(fin['Level of education'],fin['Has a Bank account'],margins=True,margins_name='Total')"
      ],
      "execution_count": 59,
      "outputs": [
        {
          "output_type": "execute_result",
          "data": {
            "text/html": [
              "<div>\n",
              "<style scoped>\n",
              "    .dataframe tbody tr th:only-of-type {\n",
              "        vertical-align: middle;\n",
              "    }\n",
              "\n",
              "    .dataframe tbody tr th {\n",
              "        vertical-align: top;\n",
              "    }\n",
              "\n",
              "    .dataframe thead th {\n",
              "        text-align: right;\n",
              "    }\n",
              "</style>\n",
              "<table border=\"1\" class=\"dataframe\">\n",
              "  <thead>\n",
              "    <tr style=\"text-align: right;\">\n",
              "      <th>Has a Bank account</th>\n",
              "      <th>No</th>\n",
              "      <th>Yes</th>\n",
              "      <th>Total</th>\n",
              "    </tr>\n",
              "    <tr>\n",
              "      <th>Level of education</th>\n",
              "      <th></th>\n",
              "      <th></th>\n",
              "      <th></th>\n",
              "    </tr>\n",
              "  </thead>\n",
              "  <tbody>\n",
              "    <tr>\n",
              "      <th>No formal education</th>\n",
              "      <td>3415</td>\n",
              "      <td>115</td>\n",
              "      <td>3530</td>\n",
              "    </tr>\n",
              "    <tr>\n",
              "      <th>Primary education</th>\n",
              "      <td>11010</td>\n",
              "      <td>1006</td>\n",
              "      <td>12016</td>\n",
              "    </tr>\n",
              "    <tr>\n",
              "      <th>Secondary education</th>\n",
              "      <td>3138</td>\n",
              "      <td>954</td>\n",
              "      <td>4092</td>\n",
              "    </tr>\n",
              "    <tr>\n",
              "      <th>Tertiary education</th>\n",
              "      <td>545</td>\n",
              "      <td>581</td>\n",
              "      <td>1126</td>\n",
              "    </tr>\n",
              "    <tr>\n",
              "      <th>Vocational/Specialised training</th>\n",
              "      <td>331</td>\n",
              "      <td>442</td>\n",
              "      <td>773</td>\n",
              "    </tr>\n",
              "    <tr>\n",
              "      <th>Total</th>\n",
              "      <td>18439</td>\n",
              "      <td>3098</td>\n",
              "      <td>21537</td>\n",
              "    </tr>\n",
              "  </tbody>\n",
              "</table>\n",
              "</div>"
            ],
            "text/plain": [
              "Has a Bank account                  No   Yes  Total\n",
              "Level of education                                 \n",
              "No formal education               3415   115   3530\n",
              "Primary education                11010  1006  12016\n",
              "Secondary education               3138   954   4092\n",
              "Tertiary education                 545   581   1126\n",
              "Vocational/Specialised training    331   442    773\n",
              "Total                            18439  3098  21537"
            ]
          },
          "metadata": {
            "tags": []
          },
          "execution_count": 59
        }
      ]
    },
    {
      "cell_type": "code",
      "metadata": {
        "colab": {
          "base_uri": "https://localhost:8080/",
          "height": 438
        },
        "id": "IwLJtgrDu76D",
        "outputId": "934902ff-f9ac-40aa-c9e0-81778aa3290d"
      },
      "source": [
        "edu_acc=pd.crosstab(fin['Level of education'],fin['Has a Bank account'])\n",
        "color=['red','green']\n",
        "edu_acc.plot.bar()\n",
        "plt.ylabel('count')\n",
        "plt.title('level of education and bank account access')\n",
        "plt.show()"
      ],
      "execution_count": 60,
      "outputs": [
        {
          "output_type": "display_data",
          "data": {
            "image/png": "[encoded data removed]",
            "text/plain": [
              "<Figure size 432x288 with 1 Axes>"
            ]
          },
          "metadata": {
            "tags": [],
            "needs_background": "light"
          }
        }
      ]
    },
    {
      "cell_type": "markdown",
      "metadata": {
        "id": "NtlI_fPsvbMm"
      },
      "source": [
        "- we can see that most people who attained the primary level of education do not have bank accounts\n",
        "- Those with secondary education have the most acess to the banking services"
      ]
    },
    {
      "cell_type": "code",
      "metadata": {
        "colab": {
          "base_uri": "https://localhost:8080/"
        },
        "id": "Olt9TPHHv83Z",
        "outputId": "5d0ccea2-7c5c-4a5a-e8f7-9c47275b38d4"
      },
      "source": [
        "# to look if the columns are independnet\n",
        "#we will use the the chi square statistic\n",
        "stats.chi2_contingency(edu_acc)"
      ],
      "execution_count": 61,
      "outputs": [
        {
          "output_type": "execute_result",
          "data": {
            "text/plain": [
              "(3388.2244908559474, 0.0, 4, array([[ 3022.22547244,   507.77452756],\n",
              "        [10287.55276965,  1728.44723035],\n",
              "        [ 3503.38431536,   588.61568464],\n",
              "        [  964.02999489,   161.97000511],\n",
              "        [  661.80744765,   111.19255235]]))"
            ]
          },
          "metadata": {
            "tags": []
          },
          "execution_count": 61
        }
      ]
    },
    {
      "cell_type": "markdown",
      "metadata": {
        "id": "OShUKL_0wQcW"
      },
      "source": [
        "- the chi squared stat is 3388.22 while the pvalue is 0.0\n",
        "- the pvalue is less than the threshold of 0.05\n",
        "- this is to imply that the two column features are not independnent of each other\n",
        "- in some way, the level of education influences whether an indiividual has a bank account or not"
      ]
    },
    {
      "cell_type": "markdown",
      "metadata": {
        "id": "21UaqxzEe2Z-"
      },
      "source": [
        "#### bank account acess with years"
      ]
    },
    {
      "cell_type": "code",
      "metadata": {
        "colab": {
          "base_uri": "https://localhost:8080/",
          "height": 202
        },
        "id": "55AFhZzVe8Hq",
        "outputId": "d04559d7-18aa-4da6-a7b5-d135dbfce458"
      },
      "source": [
        "pd.crosstab(fin['year'],fin['Has a Bank account'],margins=True,margins_name='Total')\n",
        "\n",
        "#the number of people with bank accounts dropped from the year 2016 to 2017 \n",
        "#the number of people with bank accounts was highest in 2018"
      ],
      "execution_count": 62,
      "outputs": [
        {
          "output_type": "execute_result",
          "data": {
            "text/html": [
              "<div>\n",
              "<style scoped>\n",
              "    .dataframe tbody tr th:only-of-type {\n",
              "        vertical-align: middle;\n",
              "    }\n",
              "\n",
              "    .dataframe tbody tr th {\n",
              "        vertical-align: top;\n",
              "    }\n",
              "\n",
              "    .dataframe thead th {\n",
              "        text-align: right;\n",
              "    }\n",
              "</style>\n",
              "<table border=\"1\" class=\"dataframe\">\n",
              "  <thead>\n",
              "    <tr style=\"text-align: right;\">\n",
              "      <th>Has a Bank account</th>\n",
              "      <th>No</th>\n",
              "      <th>Yes</th>\n",
              "      <th>Total</th>\n",
              "    </tr>\n",
              "    <tr>\n",
              "      <th>year</th>\n",
              "      <th></th>\n",
              "      <th></th>\n",
              "      <th></th>\n",
              "    </tr>\n",
              "  </thead>\n",
              "  <tbody>\n",
              "    <tr>\n",
              "      <th>2016</th>\n",
              "      <td>7116</td>\n",
              "      <td>958</td>\n",
              "      <td>8074</td>\n",
              "    </tr>\n",
              "    <tr>\n",
              "      <th>2017</th>\n",
              "      <td>5475</td>\n",
              "      <td>578</td>\n",
              "      <td>6053</td>\n",
              "    </tr>\n",
              "    <tr>\n",
              "      <th>2018</th>\n",
              "      <td>5848</td>\n",
              "      <td>1562</td>\n",
              "      <td>7410</td>\n",
              "    </tr>\n",
              "    <tr>\n",
              "      <th>Total</th>\n",
              "      <td>18439</td>\n",
              "      <td>3098</td>\n",
              "      <td>21537</td>\n",
              "    </tr>\n",
              "  </tbody>\n",
              "</table>\n",
              "</div>"
            ],
            "text/plain": [
              "Has a Bank account     No   Yes  Total\n",
              "year                                  \n",
              "2016                 7116   958   8074\n",
              "2017                 5475   578   6053\n",
              "2018                 5848  1562   7410\n",
              "Total               18439  3098  21537"
            ]
          },
          "metadata": {
            "tags": []
          },
          "execution_count": 62
        }
      ]
    },
    {
      "cell_type": "code",
      "metadata": {
        "colab": {
          "base_uri": "https://localhost:8080/",
          "height": 311
        },
        "id": "PegLNMj6fqrd",
        "outputId": "8a96f6b9-d41d-4d51-9b2c-e90c71298077"
      },
      "source": [
        "year_acc=pd.crosstab(fin['year'],fin['Has a Bank account'])\n",
        "color=['red','green']\n",
        "year_acc.plot.bar(stacked=True,color=color)\n",
        "plt.title('bank account status over the years')\n",
        "plt.ylabel('count')\n",
        "plt.show()"
      ],
      "execution_count": 63,
      "outputs": [
        {
          "output_type": "display_data",
          "data": {
            "image/png": "[encoded data removed]",
            "text/plain": [
              "<Figure size 432x288 with 1 Axes>"
            ]
          },
          "metadata": {
            "tags": [],
            "needs_background": "light"
          }
        }
      ]
    },
    {
      "cell_type": "markdown",
      "metadata": {
        "id": "WmGnoI4CgUzT"
      },
      "source": [
        "### bank account status with family head"
      ]
    },
    {
      "cell_type": "code",
      "metadata": {
        "colab": {
          "base_uri": "https://localhost:8080/",
          "height": 294
        },
        "id": "V1yLthQRgdDp",
        "outputId": "baf1ec54-9c85-4e1e-a130-cec05f6b3c43"
      },
      "source": [
        "pd.crosstab(fin['The relationship with household head'],fin['Has a Bank account'],margins=True,margins_name='Total')"
      ],
      "execution_count": 64,
      "outputs": [
        {
          "output_type": "execute_result",
          "data": {
            "text/html": [
              "<div>\n",
              "<style scoped>\n",
              "    .dataframe tbody tr th:only-of-type {\n",
              "        vertical-align: middle;\n",
              "    }\n",
              "\n",
              "    .dataframe tbody tr th {\n",
              "        vertical-align: top;\n",
              "    }\n",
              "\n",
              "    .dataframe thead th {\n",
              "        text-align: right;\n",
              "    }\n",
              "</style>\n",
              "<table border=\"1\" class=\"dataframe\">\n",
              "  <thead>\n",
              "    <tr style=\"text-align: right;\">\n",
              "      <th>Has a Bank account</th>\n",
              "      <th>No</th>\n",
              "      <th>Yes</th>\n",
              "      <th>Total</th>\n",
              "    </tr>\n",
              "    <tr>\n",
              "      <th>The relationship with household head</th>\n",
              "      <th></th>\n",
              "      <th></th>\n",
              "      <th></th>\n",
              "    </tr>\n",
              "  </thead>\n",
              "  <tbody>\n",
              "    <tr>\n",
              "      <th>Child</th>\n",
              "      <td>1960</td>\n",
              "      <td>186</td>\n",
              "      <td>2146</td>\n",
              "    </tr>\n",
              "    <tr>\n",
              "      <th>Head of Household</th>\n",
              "      <td>9189</td>\n",
              "      <td>2084</td>\n",
              "      <td>11273</td>\n",
              "    </tr>\n",
              "    <tr>\n",
              "      <th>Other non-relatives</th>\n",
              "      <td>165</td>\n",
              "      <td>20</td>\n",
              "      <td>185</td>\n",
              "    </tr>\n",
              "    <tr>\n",
              "      <th>Other relative</th>\n",
              "      <td>566</td>\n",
              "      <td>64</td>\n",
              "      <td>630</td>\n",
              "    </tr>\n",
              "    <tr>\n",
              "      <th>Parent</th>\n",
              "      <td>957</td>\n",
              "      <td>60</td>\n",
              "      <td>1017</td>\n",
              "    </tr>\n",
              "    <tr>\n",
              "      <th>Spouse</th>\n",
              "      <td>5602</td>\n",
              "      <td>684</td>\n",
              "      <td>6286</td>\n",
              "    </tr>\n",
              "    <tr>\n",
              "      <th>Total</th>\n",
              "      <td>18439</td>\n",
              "      <td>3098</td>\n",
              "      <td>21537</td>\n",
              "    </tr>\n",
              "  </tbody>\n",
              "</table>\n",
              "</div>"
            ],
            "text/plain": [
              "Has a Bank account                       No   Yes  Total\n",
              "The relationship with household head                    \n",
              "Child                                  1960   186   2146\n",
              "Head of Household                      9189  2084  11273\n",
              "Other non-relatives                     165    20    185\n",
              "Other relative                          566    64    630\n",
              "Parent                                  957    60   1017\n",
              "Spouse                                 5602   684   6286\n",
              "Total                                 18439  3098  21537"
            ]
          },
          "metadata": {
            "tags": []
          },
          "execution_count": 64
        }
      ]
    },
    {
      "cell_type": "code",
      "metadata": {
        "colab": {
          "base_uri": "https://localhost:8080/",
          "height": 382
        },
        "id": "TR290IVIg5DW",
        "outputId": "c6214eea-4e43-404f-dec5-fa80b74ef7ef"
      },
      "source": [
        "head_acc=pd.crosstab(fin['The relationship with household head'],fin['Has a Bank account'])\n",
        "color=['red','green']\n",
        "head_acc.plot.bar(color=color)\n",
        "plt.title('relationship with household head and bank account status')\n",
        "plt.ylabel('count')\n",
        "plt.show()"
      ],
      "execution_count": 65,
      "outputs": [
        {
          "output_type": "display_data",
          "data": {
            "image/png": "[encoded data removed]",
            "text/plain": [
              "<Figure size 432x288 with 1 Axes>"
            ]
          },
          "metadata": {
            "tags": [],
            "needs_background": "light"
          }
        }
      ]
    },
    {
      "cell_type": "markdown",
      "metadata": {
        "id": "f36Pil-uV34Y"
      },
      "source": [
        "- we can see that most household head do not have access to bank accounts\n",
        "- this is a worrying observation\n",
        "- most parents did not have bank accounts"
      ]
    },
    {
      "cell_type": "code",
      "metadata": {
        "colab": {
          "base_uri": "https://localhost:8080/"
        },
        "id": "am1SpApyWBrQ",
        "outputId": "55985b04-ad12-4412-da6f-5703fd088297"
      },
      "source": [
        "# we will calculate a chi square\n",
        "stats.chi2_contingency(head_acc)"
      ],
      "execution_count": 66,
      "outputs": [
        {
          "output_type": "execute_result",
          "data": {
            "text/plain": [
              "(344.13409797361066,\n",
              " 3.2056855350655547e-72,\n",
              " 5,\n",
              " array([[1837.30761016,  308.69238984],\n",
              "        [9651.42995775, 1621.57004225],\n",
              "        [ 158.38858708,   26.61141292],\n",
              "        [ 539.37735061,   90.62264939],\n",
              "        [ 870.70915169,  146.29084831],\n",
              "        [5381.78734271,  904.21265729]]))"
            ]
          },
          "metadata": {
            "tags": []
          },
          "execution_count": 66
        }
      ]
    },
    {
      "cell_type": "markdown",
      "metadata": {
        "id": "Dvb28PxdWN56"
      },
      "source": [
        "- the chi2 statistic is 344.75 while the p-value is less than 0.05 threshold\n",
        "- we fail to reject the null hypothesis that states that there is independnece between the two features\n",
        "- this implies that the feature relationship with head has an influence on whether there the respondent has a bank account or not"
      ]
    },
    {
      "cell_type": "markdown",
      "metadata": {
        "id": "CBmuZP6ViDKL"
      },
      "source": [
        "## Multivariate Analysis"
      ]
    },
    {
      "cell_type": "markdown",
      "metadata": {
        "id": "HvYBXLH-iJtj"
      },
      "source": [
        "We will look at the relationships between different features with 'has bank account' column"
      ]
    },
    {
      "cell_type": "markdown",
      "metadata": {
        "id": "F9haIJIXE7ea"
      },
      "source": [
        "##### country, has bank account, location of respondent"
      ]
    },
    {
      "cell_type": "code",
      "metadata": {
        "colab": {
          "base_uri": "https://localhost:8080/",
          "height": 263
        },
        "id": "eNoJGyAFtbZb",
        "outputId": "989f933c-ce8f-4ef7-ab4d-c2c44a4b2cef"
      },
      "source": [
        "pd.crosstab(index=[fin['country']],columns=[fin['Has a Bank account'],fin['Type of Location']],margins=True,margins_name='Total')"
      ],
      "execution_count": 67,
      "outputs": [
        {
          "output_type": "execute_result",
          "data": {
            "text/html": [
              "<div>\n",
              "<style scoped>\n",
              "    .dataframe tbody tr th:only-of-type {\n",
              "        vertical-align: middle;\n",
              "    }\n",
              "\n",
              "    .dataframe tbody tr th {\n",
              "        vertical-align: top;\n",
              "    }\n",
              "\n",
              "    .dataframe thead tr th {\n",
              "        text-align: left;\n",
              "    }\n",
              "\n",
              "    .dataframe thead tr:last-of-type th {\n",
              "        text-align: right;\n",
              "    }\n",
              "</style>\n",
              "<table border=\"1\" class=\"dataframe\">\n",
              "  <thead>\n",
              "    <tr>\n",
              "      <th>Has a Bank account</th>\n",
              "      <th colspan=\"2\" halign=\"left\">No</th>\n",
              "      <th colspan=\"2\" halign=\"left\">Yes</th>\n",
              "      <th>Total</th>\n",
              "    </tr>\n",
              "    <tr>\n",
              "      <th>Type of Location</th>\n",
              "      <th>Rural</th>\n",
              "      <th>Urban</th>\n",
              "      <th>Rural</th>\n",
              "      <th>Urban</th>\n",
              "      <th></th>\n",
              "    </tr>\n",
              "    <tr>\n",
              "      <th>country</th>\n",
              "      <th></th>\n",
              "      <th></th>\n",
              "      <th></th>\n",
              "      <th></th>\n",
              "      <th></th>\n",
              "    </tr>\n",
              "  </thead>\n",
              "  <tbody>\n",
              "    <tr>\n",
              "      <th>Kenya</th>\n",
              "      <td>2585</td>\n",
              "      <td>1513</td>\n",
              "      <td>516</td>\n",
              "      <td>877</td>\n",
              "      <td>5491</td>\n",
              "    </tr>\n",
              "    <tr>\n",
              "      <th>Rwanda</th>\n",
              "      <td>6312</td>\n",
              "      <td>804</td>\n",
              "      <td>593</td>\n",
              "      <td>365</td>\n",
              "      <td>8074</td>\n",
              "    </tr>\n",
              "    <tr>\n",
              "      <th>Tanzania</th>\n",
              "      <td>1347</td>\n",
              "      <td>4128</td>\n",
              "      <td>360</td>\n",
              "      <td>218</td>\n",
              "      <td>6053</td>\n",
              "    </tr>\n",
              "    <tr>\n",
              "      <th>Uganda</th>\n",
              "      <td>1308</td>\n",
              "      <td>442</td>\n",
              "      <td>58</td>\n",
              "      <td>111</td>\n",
              "      <td>1919</td>\n",
              "    </tr>\n",
              "    <tr>\n",
              "      <th>Total</th>\n",
              "      <td>11552</td>\n",
              "      <td>6887</td>\n",
              "      <td>1527</td>\n",
              "      <td>1571</td>\n",
              "      <td>21537</td>\n",
              "    </tr>\n",
              "  </tbody>\n",
              "</table>\n",
              "</div>"
            ],
            "text/plain": [
              "Has a Bank account     No         Yes        Total\n",
              "Type of Location    Rural Urban Rural Urban       \n",
              "country                                           \n",
              "Kenya                2585  1513   516   877   5491\n",
              "Rwanda               6312   804   593   365   8074\n",
              "Tanzania             1347  4128   360   218   6053\n",
              "Uganda               1308   442    58   111   1919\n",
              "Total               11552  6887  1527  1571  21537"
            ]
          },
          "metadata": {
            "tags": []
          },
          "execution_count": 67
        }
      ]
    },
    {
      "cell_type": "code",
      "metadata": {
        "colab": {
          "base_uri": "https://localhost:8080/",
          "height": 328
        },
        "id": "OqBDL00L9SyP",
        "outputId": "a497ddec-4f1a-404d-9acf-a67a03d9a399"
      },
      "source": [
        "a=pd.crosstab(index=[fin['country']],columns=[fin['Has a Bank account'],fin['Type of Location']])\n",
        "a.plot.bar()\n",
        "plt.title('acsess to bank account vs location')\n",
        "plt.ylabel('count')\n",
        "plt.show()"
      ],
      "execution_count": 68,
      "outputs": [
        {
          "output_type": "display_data",
          "data": {
            "image/png": "[encoded data removed]",
            "text/plain": [
              "<Figure size 432x288 with 1 Axes>"
            ]
          },
          "metadata": {
            "tags": [],
            "needs_background": "light"
          }
        }
      ]
    },
    {
      "cell_type": "markdown",
      "metadata": {
        "id": "JRHxuNso6kIt"
      },
      "source": [
        "- We can see that apart from Tanzania, most people in the rural areas had no bank accounts. In Tanzania we observe that most people in urban areas had no acess to bank services\n",
        "- we can see that the number of people without bank accounts in the urban areas is more than those with bank account. this observation cuts across all the countries\n",
        "- We can also see that the number of people without access to bank accounts are more in rural areas than in urban areas. This observation cuts across all the countries\n",
        "- most people in rural areas have no bank accounts compared to those who have bank accounts in rural areas "
      ]
    },
    {
      "cell_type": "markdown",
      "metadata": {
        "id": "9QiWhSUSFDgq"
      },
      "source": [
        "##### country, type of job, has bank account, cell phone acesss and gender of respondnent"
      ]
    },
    {
      "cell_type": "code",
      "metadata": {
        "colab": {
          "base_uri": "https://localhost:8080/",
          "height": 937
        },
        "id": "fjczStUo0Hu2",
        "outputId": "6cd5ef78-6030-48b2-e70a-9379ebcbd4c8"
      },
      "source": [
        "pd.crosstab(index=[fin['country'],fin['Type of Job']],columns=[fin['Has a Bank account'],fin['Cell Phone Access'],fin['gender_of_respondent']],margins=True,margins_name='Total')"
      ],
      "execution_count": 69,
      "outputs": [
        {
          "output_type": "execute_result",
          "data": {
            "text/html": [
              "<div>\n",
              "<style scoped>\n",
              "    .dataframe tbody tr th:only-of-type {\n",
              "        vertical-align: middle;\n",
              "    }\n",
              "\n",
              "    .dataframe tbody tr th {\n",
              "        vertical-align: top;\n",
              "    }\n",
              "\n",
              "    .dataframe thead tr th {\n",
              "        text-align: left;\n",
              "    }\n",
              "\n",
              "    .dataframe thead tr:last-of-type th {\n",
              "        text-align: right;\n",
              "    }\n",
              "</style>\n",
              "<table border=\"1\" class=\"dataframe\">\n",
              "  <thead>\n",
              "    <tr>\n",
              "      <th></th>\n",
              "      <th>Has a Bank account</th>\n",
              "      <th colspan=\"4\" halign=\"left\">No</th>\n",
              "      <th colspan=\"4\" halign=\"left\">Yes</th>\n",
              "      <th>Total</th>\n",
              "    </tr>\n",
              "    <tr>\n",
              "      <th></th>\n",
              "      <th>Cell Phone Access</th>\n",
              "      <th colspan=\"2\" halign=\"left\">No</th>\n",
              "      <th colspan=\"2\" halign=\"left\">Yes</th>\n",
              "      <th colspan=\"2\" halign=\"left\">No</th>\n",
              "      <th colspan=\"2\" halign=\"left\">Yes</th>\n",
              "      <th></th>\n",
              "    </tr>\n",
              "    <tr>\n",
              "      <th></th>\n",
              "      <th>gender_of_respondent</th>\n",
              "      <th>Female</th>\n",
              "      <th>Male</th>\n",
              "      <th>Female</th>\n",
              "      <th>Male</th>\n",
              "      <th>Female</th>\n",
              "      <th>Male</th>\n",
              "      <th>Female</th>\n",
              "      <th>Male</th>\n",
              "      <th></th>\n",
              "    </tr>\n",
              "    <tr>\n",
              "      <th>country</th>\n",
              "      <th>Type of Job</th>\n",
              "      <th></th>\n",
              "      <th></th>\n",
              "      <th></th>\n",
              "      <th></th>\n",
              "      <th></th>\n",
              "      <th></th>\n",
              "      <th></th>\n",
              "      <th></th>\n",
              "      <th></th>\n",
              "    </tr>\n",
              "  </thead>\n",
              "  <tbody>\n",
              "    <tr>\n",
              "      <th rowspan=\"7\" valign=\"top\">Kenya</th>\n",
              "      <th>Farming and Fishing</th>\n",
              "      <td>176</td>\n",
              "      <td>87</td>\n",
              "      <td>539</td>\n",
              "      <td>316</td>\n",
              "      <td>5</td>\n",
              "      <td>5</td>\n",
              "      <td>113</td>\n",
              "      <td>136</td>\n",
              "      <td>1377</td>\n",
              "    </tr>\n",
              "    <tr>\n",
              "      <th>Formally employed Government</th>\n",
              "      <td>1</td>\n",
              "      <td>0</td>\n",
              "      <td>25</td>\n",
              "      <td>18</td>\n",
              "      <td>2</td>\n",
              "      <td>1</td>\n",
              "      <td>94</td>\n",
              "      <td>115</td>\n",
              "      <td>256</td>\n",
              "    </tr>\n",
              "    <tr>\n",
              "      <th>Formally employed Private</th>\n",
              "      <td>5</td>\n",
              "      <td>5</td>\n",
              "      <td>79</td>\n",
              "      <td>96</td>\n",
              "      <td>1</td>\n",
              "      <td>1</td>\n",
              "      <td>86</td>\n",
              "      <td>134</td>\n",
              "      <td>407</td>\n",
              "    </tr>\n",
              "    <tr>\n",
              "      <th>Informally employed</th>\n",
              "      <td>144</td>\n",
              "      <td>107</td>\n",
              "      <td>470</td>\n",
              "      <td>480</td>\n",
              "      <td>3</td>\n",
              "      <td>2</td>\n",
              "      <td>65</td>\n",
              "      <td>111</td>\n",
              "      <td>1382</td>\n",
              "    </tr>\n",
              "    <tr>\n",
              "      <th>Other Income</th>\n",
              "      <td>17</td>\n",
              "      <td>16</td>\n",
              "      <td>17</td>\n",
              "      <td>31</td>\n",
              "      <td>0</td>\n",
              "      <td>0</td>\n",
              "      <td>20</td>\n",
              "      <td>27</td>\n",
              "      <td>128</td>\n",
              "    </tr>\n",
              "    <tr>\n",
              "      <th>Self employed</th>\n",
              "      <td>44</td>\n",
              "      <td>18</td>\n",
              "      <td>335</td>\n",
              "      <td>173</td>\n",
              "      <td>3</td>\n",
              "      <td>2</td>\n",
              "      <td>173</td>\n",
              "      <td>178</td>\n",
              "      <td>926</td>\n",
              "    </tr>\n",
              "    <tr>\n",
              "      <th>dependent</th>\n",
              "      <td>238</td>\n",
              "      <td>142</td>\n",
              "      <td>404</td>\n",
              "      <td>115</td>\n",
              "      <td>3</td>\n",
              "      <td>2</td>\n",
              "      <td>74</td>\n",
              "      <td>37</td>\n",
              "      <td>1015</td>\n",
              "    </tr>\n",
              "    <tr>\n",
              "      <th rowspan=\"7\" valign=\"top\">Rwanda</th>\n",
              "      <th>Farming and Fishing</th>\n",
              "      <td>305</td>\n",
              "      <td>144</td>\n",
              "      <td>1619</td>\n",
              "      <td>1128</td>\n",
              "      <td>1</td>\n",
              "      <td>7</td>\n",
              "      <td>122</td>\n",
              "      <td>176</td>\n",
              "      <td>3502</td>\n",
              "    </tr>\n",
              "    <tr>\n",
              "      <th>Formally employed Government</th>\n",
              "      <td>1</td>\n",
              "      <td>0</td>\n",
              "      <td>25</td>\n",
              "      <td>17</td>\n",
              "      <td>1</td>\n",
              "      <td>0</td>\n",
              "      <td>34</td>\n",
              "      <td>48</td>\n",
              "      <td>126</td>\n",
              "    </tr>\n",
              "    <tr>\n",
              "      <th>Formally employed Private</th>\n",
              "      <td>4</td>\n",
              "      <td>3</td>\n",
              "      <td>49</td>\n",
              "      <td>44</td>\n",
              "      <td>0</td>\n",
              "      <td>0</td>\n",
              "      <td>20</td>\n",
              "      <td>36</td>\n",
              "      <td>156</td>\n",
              "    </tr>\n",
              "    <tr>\n",
              "      <th>Informally employed</th>\n",
              "      <td>411</td>\n",
              "      <td>207</td>\n",
              "      <td>1135</td>\n",
              "      <td>831</td>\n",
              "      <td>1</td>\n",
              "      <td>1</td>\n",
              "      <td>72</td>\n",
              "      <td>109</td>\n",
              "      <td>2767</td>\n",
              "    </tr>\n",
              "    <tr>\n",
              "      <th>Other Income</th>\n",
              "      <td>36</td>\n",
              "      <td>14</td>\n",
              "      <td>127</td>\n",
              "      <td>81</td>\n",
              "      <td>0</td>\n",
              "      <td>1</td>\n",
              "      <td>39</td>\n",
              "      <td>46</td>\n",
              "      <td>344</td>\n",
              "    </tr>\n",
              "    <tr>\n",
              "      <th>Self employed</th>\n",
              "      <td>17</td>\n",
              "      <td>11</td>\n",
              "      <td>215</td>\n",
              "      <td>169</td>\n",
              "      <td>0</td>\n",
              "      <td>0</td>\n",
              "      <td>83</td>\n",
              "      <td>94</td>\n",
              "      <td>589</td>\n",
              "    </tr>\n",
              "    <tr>\n",
              "      <th>dependent</th>\n",
              "      <td>54</td>\n",
              "      <td>12</td>\n",
              "      <td>334</td>\n",
              "      <td>123</td>\n",
              "      <td>0</td>\n",
              "      <td>2</td>\n",
              "      <td>52</td>\n",
              "      <td>13</td>\n",
              "      <td>590</td>\n",
              "    </tr>\n",
              "    <tr>\n",
              "      <th rowspan=\"6\" valign=\"top\">Tanzania</th>\n",
              "      <th>Formally employed Private</th>\n",
              "      <td>8</td>\n",
              "      <td>7</td>\n",
              "      <td>48</td>\n",
              "      <td>67</td>\n",
              "      <td>0</td>\n",
              "      <td>0</td>\n",
              "      <td>100</td>\n",
              "      <td>131</td>\n",
              "      <td>361</td>\n",
              "    </tr>\n",
              "    <tr>\n",
              "      <th>Informally employed</th>\n",
              "      <td>314</td>\n",
              "      <td>188</td>\n",
              "      <td>296</td>\n",
              "      <td>379</td>\n",
              "      <td>0</td>\n",
              "      <td>0</td>\n",
              "      <td>27</td>\n",
              "      <td>38</td>\n",
              "      <td>1242</td>\n",
              "    </tr>\n",
              "    <tr>\n",
              "      <th>No Income</th>\n",
              "      <td>144</td>\n",
              "      <td>38</td>\n",
              "      <td>119</td>\n",
              "      <td>17</td>\n",
              "      <td>1</td>\n",
              "      <td>0</td>\n",
              "      <td>5</td>\n",
              "      <td>1</td>\n",
              "      <td>325</td>\n",
              "    </tr>\n",
              "    <tr>\n",
              "      <th>Other Income</th>\n",
              "      <td>4</td>\n",
              "      <td>2</td>\n",
              "      <td>9</td>\n",
              "      <td>9</td>\n",
              "      <td>0</td>\n",
              "      <td>0</td>\n",
              "      <td>1</td>\n",
              "      <td>3</td>\n",
              "      <td>28</td>\n",
              "    </tr>\n",
              "    <tr>\n",
              "      <th>Self employed</th>\n",
              "      <td>901</td>\n",
              "      <td>419</td>\n",
              "      <td>932</td>\n",
              "      <td>1020</td>\n",
              "      <td>4</td>\n",
              "      <td>4</td>\n",
              "      <td>69</td>\n",
              "      <td>147</td>\n",
              "      <td>3496</td>\n",
              "    </tr>\n",
              "    <tr>\n",
              "      <th>dependent</th>\n",
              "      <td>235</td>\n",
              "      <td>31</td>\n",
              "      <td>248</td>\n",
              "      <td>40</td>\n",
              "      <td>1</td>\n",
              "      <td>2</td>\n",
              "      <td>26</td>\n",
              "      <td>18</td>\n",
              "      <td>601</td>\n",
              "    </tr>\n",
              "    <tr>\n",
              "      <th rowspan=\"5\" valign=\"top\">Uganda</th>\n",
              "      <th>Formally employed Private</th>\n",
              "      <td>5</td>\n",
              "      <td>4</td>\n",
              "      <td>29</td>\n",
              "      <td>14</td>\n",
              "      <td>0</td>\n",
              "      <td>1</td>\n",
              "      <td>26</td>\n",
              "      <td>26</td>\n",
              "      <td>105</td>\n",
              "    </tr>\n",
              "    <tr>\n",
              "      <th>No Income</th>\n",
              "      <td>66</td>\n",
              "      <td>25</td>\n",
              "      <td>102</td>\n",
              "      <td>18</td>\n",
              "      <td>1</td>\n",
              "      <td>0</td>\n",
              "      <td>4</td>\n",
              "      <td>0</td>\n",
              "      <td>216</td>\n",
              "    </tr>\n",
              "    <tr>\n",
              "      <th>Other Income</th>\n",
              "      <td>124</td>\n",
              "      <td>56</td>\n",
              "      <td>256</td>\n",
              "      <td>110</td>\n",
              "      <td>3</td>\n",
              "      <td>0</td>\n",
              "      <td>29</td>\n",
              "      <td>13</td>\n",
              "      <td>591</td>\n",
              "    </tr>\n",
              "    <tr>\n",
              "      <th>Self employed</th>\n",
              "      <td>192</td>\n",
              "      <td>71</td>\n",
              "      <td>406</td>\n",
              "      <td>270</td>\n",
              "      <td>2</td>\n",
              "      <td>1</td>\n",
              "      <td>30</td>\n",
              "      <td>31</td>\n",
              "      <td>1003</td>\n",
              "    </tr>\n",
              "    <tr>\n",
              "      <th>dependent</th>\n",
              "      <td>2</td>\n",
              "      <td>0</td>\n",
              "      <td>0</td>\n",
              "      <td>0</td>\n",
              "      <td>0</td>\n",
              "      <td>0</td>\n",
              "      <td>0</td>\n",
              "      <td>2</td>\n",
              "      <td>4</td>\n",
              "    </tr>\n",
              "    <tr>\n",
              "      <th>Total</th>\n",
              "      <th></th>\n",
              "      <td>3448</td>\n",
              "      <td>1607</td>\n",
              "      <td>7818</td>\n",
              "      <td>5566</td>\n",
              "      <td>32</td>\n",
              "      <td>32</td>\n",
              "      <td>1364</td>\n",
              "      <td>1670</td>\n",
              "      <td>21537</td>\n",
              "    </tr>\n",
              "  </tbody>\n",
              "</table>\n",
              "</div>"
            ],
            "text/plain": [
              "Has a Bank account                        No               ...    Yes        Total\n",
              "Cell Phone Access                         No          Yes  ...    Yes             \n",
              "gender_of_respondent                  Female  Male Female  ... Female  Male       \n",
              "country  Type of Job                                       ...                    \n",
              "Kenya    Farming and Fishing             176    87    539  ...    113   136   1377\n",
              "         Formally employed Government      1     0     25  ...     94   115    256\n",
              "         Formally employed Private         5     5     79  ...     86   134    407\n",
              "         Informally employed             144   107    470  ...     65   111   1382\n",
              "         Other Income                     17    16     17  ...     20    27    128\n",
              "         Self employed                    44    18    335  ...    173   178    926\n",
              "         dependent                       238   142    404  ...     74    37   1015\n",
              "Rwanda   Farming and Fishing             305   144   1619  ...    122   176   3502\n",
              "         Formally employed Government      1     0     25  ...     34    48    126\n",
              "         Formally employed Private         4     3     49  ...     20    36    156\n",
              "         Informally employed             411   207   1135  ...     72   109   2767\n",
              "         Other Income                     36    14    127  ...     39    46    344\n",
              "         Self employed                    17    11    215  ...     83    94    589\n",
              "         dependent                        54    12    334  ...     52    13    590\n",
              "Tanzania Formally employed Private         8     7     48  ...    100   131    361\n",
              "         Informally employed             314   188    296  ...     27    38   1242\n",
              "         No Income                       144    38    119  ...      5     1    325\n",
              "         Other Income                      4     2      9  ...      1     3     28\n",
              "         Self employed                   901   419    932  ...     69   147   3496\n",
              "         dependent                       235    31    248  ...     26    18    601\n",
              "Uganda   Formally employed Private         5     4     29  ...     26    26    105\n",
              "         No Income                        66    25    102  ...      4     0    216\n",
              "         Other Income                    124    56    256  ...     29    13    591\n",
              "         Self employed                   192    71    406  ...     30    31   1003\n",
              "         dependent                         2     0      0  ...      0     2      4\n",
              "Total                                   3448  1607   7818  ...   1364  1670  21537\n",
              "\n",
              "[26 rows x 9 columns]"
            ]
          },
          "metadata": {
            "tags": []
          },
          "execution_count": 69
        }
      ]
    },
    {
      "cell_type": "markdown",
      "metadata": {
        "id": "p7DkNmil1eaw"
      },
      "source": [
        "- We can see that there are more males who have access to cell phones and bank accounts compared to their female counterparts\n",
        "- This observation was across all types of job or income streams apart from dependent where the female population had the most bank accounts\n",
        "- this can imply most females are dependnent on aid\n",
        "\n",
        "- We can also see that there more females who have access to bank accounts but they do not have acesst o mobile phones\n",
        "- this observation cuts across all countries and income streams\n",
        "\n",
        "-In overall most females who had acess to bank services and acess to mobile phones aswell were more compared to the females who had acess to banks services but with no acess to mobile phones\n",
        "- Also there were more males who had acess to bank accounts and acess to mobile phones than those who had acess to bank accounts but with no access to mobile phones"
      ]
    },
    {
      "cell_type": "markdown",
      "metadata": {
        "id": "_hc81jAFFONa"
      },
      "source": [
        "##### type of location, has a bank account, cell phone acesss"
      ]
    },
    {
      "cell_type": "code",
      "metadata": {
        "colab": {
          "base_uri": "https://localhost:8080/",
          "height": 202
        },
        "id": "-wXFsbpy8VP5",
        "outputId": "d884dfc8-8196-47e2-f7f4-b3a10242d125"
      },
      "source": [
        "pd.crosstab(index=[fin['Type of Location']], columns=[fin['Has a Bank account'],fin['Cell Phone Access']],margins=True,margins_name='Total')"
      ],
      "execution_count": 70,
      "outputs": [
        {
          "output_type": "execute_result",
          "data": {
            "text/html": [
              "<div>\n",
              "<style scoped>\n",
              "    .dataframe tbody tr th:only-of-type {\n",
              "        vertical-align: middle;\n",
              "    }\n",
              "\n",
              "    .dataframe tbody tr th {\n",
              "        vertical-align: top;\n",
              "    }\n",
              "\n",
              "    .dataframe thead tr th {\n",
              "        text-align: left;\n",
              "    }\n",
              "\n",
              "    .dataframe thead tr:last-of-type th {\n",
              "        text-align: right;\n",
              "    }\n",
              "</style>\n",
              "<table border=\"1\" class=\"dataframe\">\n",
              "  <thead>\n",
              "    <tr>\n",
              "      <th>Has a Bank account</th>\n",
              "      <th colspan=\"2\" halign=\"left\">No</th>\n",
              "      <th colspan=\"2\" halign=\"left\">Yes</th>\n",
              "      <th>Total</th>\n",
              "    </tr>\n",
              "    <tr>\n",
              "      <th>Cell Phone Access</th>\n",
              "      <th>No</th>\n",
              "      <th>Yes</th>\n",
              "      <th>No</th>\n",
              "      <th>Yes</th>\n",
              "      <th></th>\n",
              "    </tr>\n",
              "    <tr>\n",
              "      <th>Type of Location</th>\n",
              "      <th></th>\n",
              "      <th></th>\n",
              "      <th></th>\n",
              "      <th></th>\n",
              "      <th></th>\n",
              "    </tr>\n",
              "  </thead>\n",
              "  <tbody>\n",
              "    <tr>\n",
              "      <th>Rural</th>\n",
              "      <td>2674</td>\n",
              "      <td>8878</td>\n",
              "      <td>35</td>\n",
              "      <td>1492</td>\n",
              "      <td>13079</td>\n",
              "    </tr>\n",
              "    <tr>\n",
              "      <th>Urban</th>\n",
              "      <td>2381</td>\n",
              "      <td>4506</td>\n",
              "      <td>29</td>\n",
              "      <td>1542</td>\n",
              "      <td>8458</td>\n",
              "    </tr>\n",
              "    <tr>\n",
              "      <th>Total</th>\n",
              "      <td>5055</td>\n",
              "      <td>13384</td>\n",
              "      <td>64</td>\n",
              "      <td>3034</td>\n",
              "      <td>21537</td>\n",
              "    </tr>\n",
              "  </tbody>\n",
              "</table>\n",
              "</div>"
            ],
            "text/plain": [
              "Has a Bank account    No        Yes        Total\n",
              "Cell Phone Access     No    Yes  No   Yes       \n",
              "Type of Location                                \n",
              "Rural               2674   8878  35  1492  13079\n",
              "Urban               2381   4506  29  1542   8458\n",
              "Total               5055  13384  64  3034  21537"
            ]
          },
          "metadata": {
            "tags": []
          },
          "execution_count": 70
        }
      ]
    },
    {
      "cell_type": "code",
      "metadata": {
        "colab": {
          "base_uri": "https://localhost:8080/",
          "height": 333
        },
        "id": "v1A-H-Ke86zv",
        "outputId": "b7e1acaf-f270-4261-bce9-9664ebdf76b4"
      },
      "source": [
        "a=pd.crosstab(index=[fin['Type of Location']], columns=[fin['Has a Bank account'],fin['Cell Phone Access']])\n",
        "plt.figure(figsize=(8,8))\n",
        "a.plot.bar()\n",
        "plt.title('has bank account, cell phone access')\n",
        "plt.ylabel('count')\n",
        "plt.show()"
      ],
      "execution_count": 71,
      "outputs": [
        {
          "output_type": "display_data",
          "data": {
            "text/plain": [
              "<Figure size 576x576 with 0 Axes>"
            ]
          },
          "metadata": {
            "tags": []
          }
        },
        {
          "output_type": "display_data",
          "data": {
            "image/png": "[encoded data removed]",
            "text/plain": [
              "<Figure size 432x288 with 1 Axes>"
            ]
          },
          "metadata": {
            "tags": [],
            "needs_background": "light"
          }
        }
      ]
    },
    {
      "cell_type": "markdown",
      "metadata": {
        "id": "9buz0JyD_mAi"
      },
      "source": [
        "- We can see that most people in rural areas had acess to phone cells and  but lacked acess to bank accounts than those in urban areas\n",
        "- we can also see that the number of people who have neither bank accounts and phone cells are almost proportional in both urban and rural areas. Thos ein the rural areas are slightly more\n",
        "- We can also see that there proportion of people who had access to bank accounts but no acess to cell phones were more in the urban areas\n",
        "- We can also see that the number of people who had both acess to bank accounts and cell phones were more in urban areas. "
      ]
    },
    {
      "cell_type": "markdown",
      "metadata": {
        "id": "3bpr6AAKFW-0"
      },
      "source": [
        "##### level of education, has bank account and gender of respondent"
      ]
    },
    {
      "cell_type": "code",
      "metadata": {
        "colab": {
          "base_uri": "https://localhost:8080/",
          "height": 294
        },
        "id": "8YfpAbHNCrX5",
        "outputId": "a68b0828-e5db-45a2-9495-732c686aefef"
      },
      "source": [
        "pd.crosstab(index=[fin['Level of education']],columns=[fin['Has a Bank account'],fin['gender_of_respondent']],margins=True,margins_name='Total')"
      ],
      "execution_count": 72,
      "outputs": [
        {
          "output_type": "execute_result",
          "data": {
            "text/html": [
              "<div>\n",
              "<style scoped>\n",
              "    .dataframe tbody tr th:only-of-type {\n",
              "        vertical-align: middle;\n",
              "    }\n",
              "\n",
              "    .dataframe tbody tr th {\n",
              "        vertical-align: top;\n",
              "    }\n",
              "\n",
              "    .dataframe thead tr th {\n",
              "        text-align: left;\n",
              "    }\n",
              "\n",
              "    .dataframe thead tr:last-of-type th {\n",
              "        text-align: right;\n",
              "    }\n",
              "</style>\n",
              "<table border=\"1\" class=\"dataframe\">\n",
              "  <thead>\n",
              "    <tr>\n",
              "      <th>Has a Bank account</th>\n",
              "      <th colspan=\"2\" halign=\"left\">No</th>\n",
              "      <th colspan=\"2\" halign=\"left\">Yes</th>\n",
              "      <th>Total</th>\n",
              "    </tr>\n",
              "    <tr>\n",
              "      <th>gender_of_respondent</th>\n",
              "      <th>Female</th>\n",
              "      <th>Male</th>\n",
              "      <th>Female</th>\n",
              "      <th>Male</th>\n",
              "      <th></th>\n",
              "    </tr>\n",
              "    <tr>\n",
              "      <th>Level of education</th>\n",
              "      <th></th>\n",
              "      <th></th>\n",
              "      <th></th>\n",
              "      <th></th>\n",
              "      <th></th>\n",
              "    </tr>\n",
              "  </thead>\n",
              "  <tbody>\n",
              "    <tr>\n",
              "      <th>No formal education</th>\n",
              "      <td>2399</td>\n",
              "      <td>1016</td>\n",
              "      <td>59</td>\n",
              "      <td>56</td>\n",
              "      <td>3530</td>\n",
              "    </tr>\n",
              "    <tr>\n",
              "      <th>Primary education</th>\n",
              "      <td>6598</td>\n",
              "      <td>4412</td>\n",
              "      <td>441</td>\n",
              "      <td>565</td>\n",
              "      <td>12016</td>\n",
              "    </tr>\n",
              "    <tr>\n",
              "      <th>Secondary education</th>\n",
              "      <td>1767</td>\n",
              "      <td>1371</td>\n",
              "      <td>419</td>\n",
              "      <td>535</td>\n",
              "      <td>4092</td>\n",
              "    </tr>\n",
              "    <tr>\n",
              "      <th>Tertiary education</th>\n",
              "      <td>298</td>\n",
              "      <td>247</td>\n",
              "      <td>269</td>\n",
              "      <td>312</td>\n",
              "      <td>1126</td>\n",
              "    </tr>\n",
              "    <tr>\n",
              "      <th>Vocational/Specialised training</th>\n",
              "      <td>204</td>\n",
              "      <td>127</td>\n",
              "      <td>208</td>\n",
              "      <td>234</td>\n",
              "      <td>773</td>\n",
              "    </tr>\n",
              "    <tr>\n",
              "      <th>Total</th>\n",
              "      <td>11266</td>\n",
              "      <td>7173</td>\n",
              "      <td>1396</td>\n",
              "      <td>1702</td>\n",
              "      <td>21537</td>\n",
              "    </tr>\n",
              "  </tbody>\n",
              "</table>\n",
              "</div>"
            ],
            "text/plain": [
              "Has a Bank account                  No          Yes        Total\n",
              "gender_of_respondent            Female  Male Female  Male       \n",
              "Level of education                                              \n",
              "No formal education               2399  1016     59    56   3530\n",
              "Primary education                 6598  4412    441   565  12016\n",
              "Secondary education               1767  1371    419   535   4092\n",
              "Tertiary education                 298   247    269   312   1126\n",
              "Vocational/Specialised training    204   127    208   234    773\n",
              "Total                            11266  7173   1396  1702  21537"
            ]
          },
          "metadata": {
            "tags": []
          },
          "execution_count": 72
        }
      ]
    },
    {
      "cell_type": "code",
      "metadata": {
        "colab": {
          "base_uri": "https://localhost:8080/",
          "height": 438
        },
        "id": "l_-ZCL4xDYgY",
        "outputId": "353a9ba3-26bd-401e-cd88-99fd2ef5f54a"
      },
      "source": [
        "a=pd.crosstab(index=[fin['Level of education']],columns=[fin['Has a Bank account'],fin['gender_of_respondent']])\n",
        "a.plot.bar()\n",
        "plt.ylabel('count')\n",
        "plt.title('bank account access and gender of respondent')\n",
        "plt.show()"
      ],
      "execution_count": 73,
      "outputs": [
        {
          "output_type": "display_data",
          "data": {
            "image/png": "[encoded data removed]",
            "text/plain": [
              "<Figure size 432x288 with 1 Axes>"
            ]
          },
          "metadata": {
            "tags": [],
            "needs_background": "light"
          }
        }
      ]
    },
    {
      "cell_type": "markdown",
      "metadata": {
        "id": "hh1wk70_DuA-"
      },
      "source": [
        "- Across all levels of education attained by respondnents, most males and females did not have acess to bank accounts\n",
        "- Across all level of education, males counterparts had more bank accounts than the females\n",
        "- For both males and females that only achieved primary scholl education, they did not have acess to bank services\n",
        "- Most people who reached secondary school have acess to banks than the other people in the other levels of education"
      ]
    },
    {
      "cell_type": "markdown",
      "metadata": {
        "id": "QFCqf0Bwf4EC"
      },
      "source": [
        "## Implementing the solution"
      ]
    },
    {
      "cell_type": "markdown",
      "metadata": {
        "id": "ZSYoL3ousTJk"
      },
      "source": [
        "- we have been able to establish that the columns that explain whether an individual has a bank account or not are the following\n",
        "- - Type of Location\n",
        "- - gender_of_respondent\n",
        "-- Respondent Age\n",
        "-- Level of education\n",
        "-- Relationship with household head\n",
        "-- respondent job"
      ]
    },
    {
      "cell_type": "markdown",
      "metadata": {
        "id": "xbUSGsTigXK7"
      },
      "source": [
        "## Challenging the solution"
      ]
    },
    {
      "cell_type": "markdown",
      "metadata": {
        "id": "XVfd4Q12rn6U"
      },
      "source": [
        "- The data seams to be biased in the way that it was collected\n",
        "- It would have been good if the number of respondents from the rural areas and urban areas were almost same(symetrical)\n",
        "- Instead of looking at the type of employment, it would have been better if we had another column with amounts in income\n",
        "- also more data was from Rwanda\n",
        "- because of this, the rural areas received more weigh in the analysis. The results obtained might not really be a reflection of the reality "
      ]
    },
    {
      "cell_type": "markdown",
      "metadata": {
        "id": "HQ6OMmiCrde8"
      },
      "source": [
        "## Follow up questions"
      ]
    },
    {
      "cell_type": "markdown",
      "metadata": {
        "id": "t8MbyJjuxzKb"
      },
      "source": [
        "- In each household, howmany dependants are there( this are people who are below the age of 18 or people who can't work for other reason not including lack of job)\n",
        "- of this people, who has a bank account\n",
        "- and if they have, what would be the employment status or income level of the guardians"
      ]
    }
  ]
}